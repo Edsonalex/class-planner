{
  "nbformat": 4,
  "nbformat_minor": 0,
  "metadata": {
    "colab": {
      "provenance": [],
      "include_colab_link": true
    },
    "kernelspec": {
      "name": "python3",
      "display_name": "Python 3"
    },
    "language_info": {
      "name": "python"
    }
  },
  "cells": [
    {
      "cell_type": "markdown",
      "metadata": {
        "id": "view-in-github",
        "colab_type": "text"
      },
      "source": [
        "<a href=\"https://colab.research.google.com/github/Edsonalex/class-planner/blob/main/Plano_de_Aula.ipynb\" target=\"_parent\"><img src=\"https://colab.research.google.com/assets/colab-badge.svg\" alt=\"Open In Colab\"/></a>"
      ]
    },
    {
      "cell_type": "code",
      "source": [
        "!pip -q install google-genai\n",
        "!pip install -q pdfkit\n",
        "!apt-get update -qq\n",
        "!apt-get install -q wkhtmltopdf"
      ],
      "metadata": {
        "id": "UCCbECexLk_h"
      },
      "execution_count": null,
      "outputs": []
    },
    {
      "cell_type": "code",
      "source": [
        "# Configura a API Key do Google Gemini\n",
        "\n",
        "import os\n",
        "import google.generativeai as genai\n",
        "from google.colab import userdata\n",
        "\n",
        "os.environ[\"GOOGLE_API_KEY\"] = userdata.get('GOOGLE_API_KEY')"
      ],
      "metadata": {
        "id": "NfCqHo1tLk8P"
      },
      "execution_count": 115,
      "outputs": []
    },
    {
      "cell_type": "code",
      "source": [
        "# Configura o cliente da SDK do Gemini\n",
        "\n",
        "from google import genai\n",
        "\n",
        "client = genai.Client()\n",
        "\n",
        "MODEL_ID = \"gemini-2.0-flash\""
      ],
      "metadata": {
        "id": "bV4w0H5TLk5g"
      },
      "execution_count": 116,
      "outputs": []
    },
    {
      "cell_type": "code",
      "source": [
        "# Instalar Framework de agentes do Google ################################################\n",
        "!pip install -q google-adk"
      ],
      "metadata": {
        "id": "a1eRPalxEnj7"
      },
      "execution_count": 117,
      "outputs": []
    },
    {
      "cell_type": "code",
      "execution_count": 118,
      "metadata": {
        "id": "aePV2bdfDeoW"
      },
      "outputs": [],
      "source": [
        "from google.adk.agents import Agent\n",
        "from google.adk.runners import Runner\n",
        "from google.adk.sessions import InMemorySessionService\n",
        "from google.adk.tools import google_search\n",
        "from google.genai import types  # Para criar conteúdos (Content e Part)\n",
        "from datetime import date\n",
        "import textwrap # Para formatar melhor a saída de texto\n",
        "from IPython.display import display, Markdown # Para exibir texto formatado no Colab\n",
        "import requests # Para fazer requisições HTTP\n",
        "import warnings\n",
        "\n",
        "warnings.filterwarnings(\"ignore\")"
      ]
    },
    {
      "cell_type": "code",
      "source": [
        "# Função auxiliar que envia uma mensagem para um agente via Runner e retorna a resposta final\n",
        "def call_agent(agent: Agent, message_text: str) -> str:\n",
        "    # Cria um serviço de sessão em memória\n",
        "    session_service = InMemorySessionService()\n",
        "    # Cria uma nova sessão (você pode personalizar os IDs conforme necessário)\n",
        "    session = session_service.create_session(app_name=agent.name, user_id=\"user1\", session_id=\"session1\")\n",
        "    # Cria um Runner para o agente\n",
        "    runner = Runner(agent=agent, app_name=agent.name, session_service=session_service)\n",
        "    # Cria o conteúdo da mensagem de entrada\n",
        "    content = types.Content(role=\"user\", parts=[types.Part(text=message_text)])\n",
        "\n",
        "    final_response = \"\"\n",
        "    # Itera assincronamente pelos eventos retornados durante a execução do agente\n",
        "    for event in runner.run(user_id=\"user1\", session_id=\"session1\", new_message=content):\n",
        "        if event.is_final_response():\n",
        "          for part in event.content.parts:\n",
        "            if part.text is not None:\n",
        "              final_response += part.text\n",
        "              final_response += \"\\n\"\n",
        "    return final_response"
      ],
      "metadata": {
        "id": "_xP4lWhsS5ko"
      },
      "execution_count": 119,
      "outputs": []
    },
    {
      "cell_type": "code",
      "source": [
        "# Função auxiliar para exibir texto formatado em Markdown no Colab\n",
        "def to_markdown(text):\n",
        "  text = text.replace('•', '  *')\n",
        "  return Markdown(textwrap.indent(text, '> ', predicate=lambda _: True))"
      ],
      "metadata": {
        "id": "8dosiodaxfFR"
      },
      "execution_count": 120,
      "outputs": []
    },
    {
      "cell_type": "code",
      "source": [
        "##########################################\n",
        "# --- Agente 1: Planejador Pedagógico --- #\n",
        "##########################################\n",
        "class PlanejadorPedagogico:\n",
        "    def __init__(self, model):\n",
        "        self.agente_conteudo = AgenteConteudo(model)\n",
        "        self.agente_atividades = AgenteAtividades(model)\n",
        "        self.agente_avaliacao = AgenteAvaliacao(model)\n",
        "        self.agente_agenda = AgenteAgenda(model)\n",
        "\n",
        "    def planejar_aula(self, serie, disciplina, tema, duracao):\n",
        "        conteudo = self.agente_conteudo.sugerir_conteudo(serie, disciplina, tema)\n",
        "        atividades = self.agente_atividades.sugerir_atividades(serie, tema)\n",
        "        avaliacoes = self.agente_avaliacao.sugerir_avaliacoes(tema)\n",
        "        cronograma = self.agente_agenda.gerar_cronograma(duracao, conteudo, atividades, avaliacoes)\n",
        "\n",
        "        return {\n",
        "            \"Série\": serie,\n",
        "            \"Disciplina\": disciplina,\n",
        "            \"Tema\": tema,\n",
        "            \"Conteúdo\": conteudo,\n",
        "            \"Atividades\": atividades,\n",
        "            \"Avaliações\": avaliacoes,\n",
        "            \"Cronograma\": cronograma\n",
        "        }"
      ],
      "metadata": {
        "id": "o8bqIfi_DyH8"
      },
      "execution_count": 121,
      "outputs": []
    },
    {
      "cell_type": "code",
      "source": [
        "################################################\n",
        "# --- Agente 2: Criador de Conteúdo --- #\n",
        "################################################\n",
        "class AgenteConteudo:\n",
        "    def __init__(self, model):\n",
        "        self.model = model\n",
        "    def sugerir_conteudo(self, serie, disciplina, tema):\n",
        "        prompt = (\n",
        "            f\"Você é um especialista em educação básica. Sugira um conteúdo didático para uma aula de {disciplina} \"\n",
        "            f\"do {serie} ano do ensino fundamental sobre o tema '{tema}', de acordo com a BNCC. Seja objetivo e sucinto. Escreva como um professor.\"\n",
        "        )\n",
        "        response = self.model.generate_content(prompt)\n",
        "        return response.text"
      ],
      "metadata": {
        "id": "y3VO1uo5_ghO"
      },
      "execution_count": 136,
      "outputs": []
    },
    {
      "cell_type": "code",
      "source": [
        "######################################\n",
        "# --- Agente 3: Criador de Atividades --- #\n",
        "######################################\n",
        "class AgenteAtividades:\n",
        "    def __init__(self, model):\n",
        "        self.model = model\n",
        "    def sugerir_atividades(self, serie, tema):\n",
        "        prompt = (\n",
        "            f\"Sugira duas atividades lúdicas e práticas para alunos do {serie} ano do ensino fundamental, \"\n",
        "            f\"sobre o tema '{tema}'. As atividades devem ser simples e possíveis de realizar em sala de aula.\"\n",
        "        )\n",
        "        response = self.model.generate_content(prompt)\n",
        "        return response.text.split(\"\\n\")"
      ],
      "metadata": {
        "id": "uOqlg2TRLVh1"
      },
      "execution_count": 123,
      "outputs": []
    },
    {
      "cell_type": "code",
      "source": [
        "##########################################\n",
        "# --- Agente 4: Criador de Avaliações --- #\n",
        "##########################################\n",
        "class AgenteAvaliacao:\n",
        "    def __init__(self, model):\n",
        "        self.model = model\n",
        "    def sugerir_avaliacoes(self, tema):\n",
        "        prompt = (\n",
        "            f\"Sugira instrumentos de avaliação divididas nas cateorias Formativa (autoavaliação e observação) e Somativa(provas, testes, trabalhos) para o tema {tema} e a série {serie}.\",\n",
        "            f\"Recomende avaliação escrita com problemas contextualizados.\"\n",
        "        )\n",
        "        response = self.model.generate_content(prompt)\n",
        "        return response.text.split(\"\\n\")"
      ],
      "metadata": {
        "id": "_aTb1SdkLeT6"
      },
      "execution_count": 124,
      "outputs": []
    },
    {
      "cell_type": "code",
      "source": [
        "##########################################\n",
        "# --- Agente 5: Criador de Agenda --- #\n",
        "##########################################\n",
        "class AgenteAgenda:\n",
        "    def __init__(self, model):\n",
        "      self.model = model\n",
        "    def gerar_cronograma(self, duracao, conteudo, atividades, avaliacoes):\n",
        "        prompt = (\n",
        "            f\"Organize os conteúdos, atividades e avaliações num cronograma semanal em formato de calendário considerando o tema{tema}, a duração {duracao}, as atividades propostas {atividades} e as avalaliações {avaliacoes}.\",\n",
        "            f\"Considere número de 4 aulas por semana e o tempo de 50 minutos necessário por aula\"\n",
        "        )\n",
        "        response = self.model.generate_content(prompt)\n",
        "        return response.text.split(\"\\n\")"
      ],
      "metadata": {
        "id": "mbLF7XDmzFqO"
      },
      "execution_count": 125,
      "outputs": []
    },
    {
      "cell_type": "code",
      "source": [
        "def iniciar_prompt():\n",
        "    print(\"=== Gerador de Plano de Aula ===\")\n",
        "    serie = input(\"Série (ex: 5º): \")\n",
        "    disciplina = input(\"Disciplina (ex: Matemática): \")\n",
        "    tema = input(\"Tema (ex: Frações): \")\n",
        "    duracao = int(input(\"Duração em semanas: \"))\n",
        "    return serie, disciplina, tema, duracao\n",
        "\n",
        "import google.generativeai as genai\n",
        "\n",
        "model = genai.GenerativeModel(MODEL_ID)\n",
        "planejador = PlanejadorPedagogico(model)\n",
        "\n",
        "serie, disciplina, tema, duracao = iniciar_prompt()\n",
        "\n",
        "plano = planejador.planejar_aula(serie, disciplina, tema, duracao)\n",
        "\n",
        "print(\"\\n\\n🚀 Iniciando o Sistema de Criação de Planejamento Pedagógico 🚀\")\n",
        "print(f\"Maravilha! Vamos então criar o planejamento em {disciplina} para alunos da {serie} série com o tema {tema} e com duração de {duracao} semana(s).\")\n",
        "\n",
        "conteudo = plano[\"Conteúdo\"]\n",
        "print(\"\\n--- 📝 Resultado do Gerador de Conteúdo (Conteúdo) ---\\n\")\n",
        "display(to_markdown(conteudo))\n",
        "print(\"--------------------------------------------------------------\")\n",
        "\n",
        "atividades = plano[\"Atividades\"]\n",
        "print(\"\\n--- 📝 Resultado do Gerador de Atividades (Atividades) ---\\n\")\n",
        "for atividade in atividades:\n",
        "    display(to_markdown(atividade))\n",
        "print(\"--------------------------------------------------------------\")\n",
        "print(\"--------------------------------------------------------------\")\n",
        "\n",
        "avaliacoes = plano[\"Avaliações\"]\n",
        "print(\"\\n--- 📝 Resultado do Gerador de Avaliações (Avaliações) ---\\n\")\n",
        "for avaliacao in avaliacoes:\n",
        "    display(to_markdown(avaliacao))\n",
        "print(\"--------------------------------------------------------------\")\n",
        "\n",
        "cronograma = plano[\"Cronograma\"]\n",
        "print(\"\\n--- 📝 Resultado do Gerador de Cronograma (Cronograma) ---\\n\")\n",
        "if isinstance(cronograma, list):\n",
        "    for item in cronograma:\n",
        "        display(to_markdown(item))\n",
        "elif isinstance(cronograma, dict):\n",
        "    for key, value in cronograma.items():\n",
        "        display(to_markdown(f\"{key}:\\n{value}\"))\n",
        "else:\n",
        "    display(to_markdown(str(cronograma)))\n",
        "\n",
        "print(\"--------------------------------------------------------------\")"
      ],
      "metadata": {
        "colab": {
          "base_uri": "https://localhost:8080/",
          "height": 1000
        },
        "id": "iw7dD4wS5ojS",
        "outputId": "a0b8ad02-52e4-45ef-d295-1de28d07df58"
      },
      "execution_count": 137,
      "outputs": [
        {
          "output_type": "stream",
          "name": "stdout",
          "text": [
            "=== Gerador de Plano de Aula ===\n",
            "Série (ex: 5º): 1\n",
            "Disciplina (ex: Matemática): portugues\n",
            "Tema (ex: Frações): alfabeto\n",
            "Duração em semanas: 4\n",
            "\n",
            "\n",
            "🚀 Iniciando o Sistema de Criação de Planejamento Pedagógico 🚀\n",
            "Maravilha! Vamos então criar o planejamento em portugues para alunos da 1 série com o tema alfabeto e com duração de 4 semana(s).\n",
            "\n",
            "--- 📝 Resultado do Gerador de Conteúdo (Conteúdo) ---\n",
            "\n"
          ]
        },
        {
          "output_type": "display_data",
          "data": {
            "text/plain": [
              "<IPython.core.display.Markdown object>"
            ],
            "text/markdown": "> ## Plano de Aula: Desvendando o Alfabeto (1º Ano)\n> \n> **Objetivo Geral:** Apresentar o alfabeto como um conjunto de símbolos que representam os sons da fala, capacitando os alunos a reconhecerem e nomearem as letras.\n> \n> **Objetivos Específicos (BNCC):**\n> \n> *   **(EF01LP01)** Reconhecer que textos são lidos e escritos da esquerda para a direita e de cima para baixo, e que espaços em branco indicam separação entre palavras. (Introdução)\n> *   **(EF01LP02)** Escrever, espontaneamente ou por ditado, palavras e frases de forma alfabética – usando letras/grafemas – para representar palavras e ideias. (Prática)\n> *   **(EF01LP05)** Reconhecer o sistema de escrita alfabética como representação dos sons da fala. (Conceito)\n> \n> **Recursos:**\n> \n> *   Cartazes com o alfabeto (maiúsculo e minúsculo)\n> *   Fichas com letras (individuais e conjuntos)\n> *   Objetos/imagens cujos nomes iniciem com as letras do alfabeto\n> *   Folhas de atividades com exercícios de identificação e escrita\n> *   Música do alfabeto\n> \n> **Desenvolvimento:**\n> \n> 1.  **Roda de Conversa (10 min):** Iniciar a aula perguntando o que é o alfabeto, onde o encontramos e para que serve. Introduzir a ideia de que as letras são \"desenhos\" que representam os sons que falamos. (EF01LP01)\n> 2.  **Apresentação do Alfabeto (15 min):** Apresentar o cartaz do alfabeto, nomeando cada letra e sua forma maiúscula e minúscula. Cantar a música do alfabeto.\n> 3.  **Exploração Lúdica (20 min):**\n>     *   **Caça às letras:** Espalhar fichas com letras pela sala e pedir que os alunos encontrem letras específicas.\n>     *   **Letra inicial:** Mostrar objetos/imagens e pedir que os alunos identifiquem a letra inicial.\n>     *   **Montando palavras:** Utilizar as fichas de letras para formar palavras simples, como \"bola\", \"dado\", etc.\n> 4.  **Atividade Individual (20 min):** Distribuir folhas de atividades com exercícios de:\n>     *   Identificação de letras (circular, colorir).\n>     *   Correspondência letra-imagem.\n>     *   Escrita das letras (EF01LP02, EF01LP05).\n> 5.  **Compartilhamento e Correção (10 min):** Corrigir as atividades em conjunto, reforçando o aprendizado e tirando dúvidas.\n> \n> **Avaliação:** Observação da participação dos alunos nas atividades, análise das produções escritas e identificação das letras do alfabeto.\n> \n> **Observação:** Adapte as atividades ao ritmo e às necessidades da sua turma. Incentive a participação de todos e valorize o esforço individual.\n"
          },
          "metadata": {}
        },
        {
          "output_type": "stream",
          "name": "stdout",
          "text": [
            "--------------------------------------------------------------\n",
            "\n",
            "--- 📝 Resultado do Gerador de Atividades (Atividades) ---\n",
            "\n"
          ]
        },
        {
          "output_type": "display_data",
          "data": {
            "text/plain": [
              "<IPython.core.display.Markdown object>"
            ],
            "text/markdown": "> Com certeza! Aqui estão algumas sugestões de atividades lúdicas e práticas sobre o alfabeto, adequadas para alunos do 1º ano do Ensino Fundamental, fáceis de implementar em sala de aula:"
          },
          "metadata": {}
        },
        {
          "output_type": "display_data",
          "data": {
            "text/plain": [
              "<IPython.core.display.Markdown object>"
            ],
            "text/markdown": ""
          },
          "metadata": {}
        },
        {
          "output_type": "display_data",
          "data": {
            "text/plain": [
              "<IPython.core.display.Markdown object>"
            ],
            "text/markdown": "> **1. Caça ao Tesouro do Alfabeto:**"
          },
          "metadata": {}
        },
        {
          "output_type": "display_data",
          "data": {
            "text/plain": [
              "<IPython.core.display.Markdown object>"
            ],
            "text/markdown": ""
          },
          "metadata": {}
        },
        {
          "output_type": "display_data",
          "data": {
            "text/plain": [
              "<IPython.core.display.Markdown object>"
            ],
            "text/markdown": "> *   **Materiais:** Cartas grandes com as letras do alfabeto (pode ser impresso ou feito à mão), objetos pequenos relacionados a cada letra (ex: A de abelha, B de bola, C de casa, etc.)."
          },
          "metadata": {}
        },
        {
          "output_type": "display_data",
          "data": {
            "text/plain": [
              "<IPython.core.display.Markdown object>"
            ],
            "text/markdown": "> *   **Preparação:** Esconda as cartas do alfabeto e os objetos correspondentes pela sala de aula."
          },
          "metadata": {}
        },
        {
          "output_type": "display_data",
          "data": {
            "text/plain": [
              "<IPython.core.display.Markdown object>"
            ],
            "text/markdown": "> *   **Atividade:** Divida a turma em grupos. Cada grupo recebe uma letra inicial (ex: grupo A, grupo B). Eles devem encontrar a carta da letra designada e o objeto que começa com essa letra. Quando encontrarem, levam para a \"base\" do grupo. O primeiro grupo a encontrar todos os seus itens vence."
          },
          "metadata": {}
        },
        {
          "output_type": "display_data",
          "data": {
            "text/plain": [
              "<IPython.core.display.Markdown object>"
            ],
            "text/markdown": "> *   **Variação:** Para tornar mais desafiador, use charadas ou dicas para cada letra/objeto."
          },
          "metadata": {}
        },
        {
          "output_type": "display_data",
          "data": {
            "text/plain": [
              "<IPython.core.display.Markdown object>"
            ],
            "text/markdown": ""
          },
          "metadata": {}
        },
        {
          "output_type": "display_data",
          "data": {
            "text/plain": [
              "<IPython.core.display.Markdown object>"
            ],
            "text/markdown": "> **2. Bingo Alfabético:**"
          },
          "metadata": {}
        },
        {
          "output_type": "display_data",
          "data": {
            "text/plain": [
              "<IPython.core.display.Markdown object>"
            ],
            "text/markdown": ""
          },
          "metadata": {}
        },
        {
          "output_type": "display_data",
          "data": {
            "text/plain": [
              "<IPython.core.display.Markdown object>"
            ],
            "text/markdown": "> *   **Materiais:** Cartelas de bingo com letras do alfabeto (cada cartela com uma combinação diferente), pequenos objetos para marcar as letras (feijões, pedrinhas, etc.), letras do alfabeto para sorteio (em um saco ou chapéu)."
          },
          "metadata": {}
        },
        {
          "output_type": "display_data",
          "data": {
            "text/plain": [
              "<IPython.core.display.Markdown object>"
            ],
            "text/markdown": "> *   **Atividade:** O professor sorteia uma letra e a anuncia. Os alunos que tiverem a letra em sua cartela a marcam. O primeiro a completar uma linha, coluna ou a cartela inteira grita \"Bingo!\" e confere suas letras com as sorteadas."
          },
          "metadata": {}
        },
        {
          "output_type": "display_data",
          "data": {
            "text/plain": [
              "<IPython.core.display.Markdown object>"
            ],
            "text/markdown": ""
          },
          "metadata": {}
        },
        {
          "output_type": "display_data",
          "data": {
            "text/plain": [
              "<IPython.core.display.Markdown object>"
            ],
            "text/markdown": "> **3. Massinha Alfabética:**"
          },
          "metadata": {}
        },
        {
          "output_type": "display_data",
          "data": {
            "text/plain": [
              "<IPython.core.display.Markdown object>"
            ],
            "text/markdown": ""
          },
          "metadata": {}
        },
        {
          "output_type": "display_data",
          "data": {
            "text/plain": [
              "<IPython.core.display.Markdown object>"
            ],
            "text/markdown": "> *   **Materiais:** Massinha de modelar de diversas cores."
          },
          "metadata": {}
        },
        {
          "output_type": "display_data",
          "data": {
            "text/plain": [
              "<IPython.core.display.Markdown object>"
            ],
            "text/markdown": "> *   **Atividade:** Cada aluno recebe um pedaço de massinha e o professor fala uma letra. Os alunos devem modelar a letra com a massinha. Depois, podem criar objetos que comecem com aquela letra."
          },
          "metadata": {}
        },
        {
          "output_type": "display_data",
          "data": {
            "text/plain": [
              "<IPython.core.display.Markdown object>"
            ],
            "text/markdown": "> *   **Variação:** Os alunos podem trabalhar em duplas, um ditando a letra e o outro modelando."
          },
          "metadata": {}
        },
        {
          "output_type": "display_data",
          "data": {
            "text/plain": [
              "<IPython.core.display.Markdown object>"
            ],
            "text/markdown": ""
          },
          "metadata": {}
        },
        {
          "output_type": "display_data",
          "data": {
            "text/plain": [
              "<IPython.core.display.Markdown object>"
            ],
            "text/markdown": "> **4. Música e Movimento Alfabético:**"
          },
          "metadata": {}
        },
        {
          "output_type": "display_data",
          "data": {
            "text/plain": [
              "<IPython.core.display.Markdown object>"
            ],
            "text/markdown": ""
          },
          "metadata": {}
        },
        {
          "output_type": "display_data",
          "data": {
            "text/plain": [
              "<IPython.core.display.Markdown object>"
            ],
            "text/markdown": "> *   **Materiais:** Música do alfabeto (há várias versões no YouTube), espaço para os alunos se movimentarem."
          },
          "metadata": {}
        },
        {
          "output_type": "display_data",
          "data": {
            "text/plain": [
              "<IPython.core.display.Markdown object>"
            ],
            "text/markdown": "> *   **Atividade:** Cantem a música do alfabeto e associem movimentos a cada letra. Por exemplo:"
          },
          "metadata": {}
        },
        {
          "output_type": "display_data",
          "data": {
            "text/plain": [
              "<IPython.core.display.Markdown object>"
            ],
            "text/markdown": ">     *   A: Abrir e fechar os braços como asas de um avião."
          },
          "metadata": {}
        },
        {
          "output_type": "display_data",
          "data": {
            "text/plain": [
              "<IPython.core.display.Markdown object>"
            ],
            "text/markdown": ">     *   B: Imitar o som de uma buzina."
          },
          "metadata": {}
        },
        {
          "output_type": "display_data",
          "data": {
            "text/plain": [
              "<IPython.core.display.Markdown object>"
            ],
            "text/markdown": ">     *   C: Fazer um círculo com os braços."
          },
          "metadata": {}
        },
        {
          "output_type": "display_data",
          "data": {
            "text/plain": [
              "<IPython.core.display.Markdown object>"
            ],
            "text/markdown": "> *   **Variação:** Pausar a música e pedir para os alunos formarem grupos com o número de pessoas correspondente à letra que parou (ex: parou no \"C\", formar grupos de 3)."
          },
          "metadata": {}
        },
        {
          "output_type": "display_data",
          "data": {
            "text/plain": [
              "<IPython.core.display.Markdown object>"
            ],
            "text/markdown": ""
          },
          "metadata": {}
        },
        {
          "output_type": "display_data",
          "data": {
            "text/plain": [
              "<IPython.core.display.Markdown object>"
            ],
            "text/markdown": "> **5. Dominó de Letras:**"
          },
          "metadata": {}
        },
        {
          "output_type": "display_data",
          "data": {
            "text/plain": [
              "<IPython.core.display.Markdown object>"
            ],
            "text/markdown": ""
          },
          "metadata": {}
        },
        {
          "output_type": "display_data",
          "data": {
            "text/plain": [
              "<IPython.core.display.Markdown object>"
            ],
            "text/markdown": "> *   **Materiais:** Cartões de dominó com letras maiúsculas e minúsculas (ex: um lado com \"A\" maiúsculo e outro com \"a\" minúsculo)."
          },
          "metadata": {}
        },
        {
          "output_type": "display_data",
          "data": {
            "text/plain": [
              "<IPython.core.display.Markdown object>"
            ],
            "text/markdown": "> *   **Atividade:** Distribuir os cartões entre os alunos. O primeiro jogador coloca uma peça. O próximo deve colocar uma peça que combine com uma das pontas (letra maiúscula com minúscula correspondente). Se não tiver, passa a vez. O primeiro a se livrar de todas as peças vence."
          },
          "metadata": {}
        },
        {
          "output_type": "display_data",
          "data": {
            "text/plain": [
              "<IPython.core.display.Markdown object>"
            ],
            "text/markdown": ""
          },
          "metadata": {}
        },
        {
          "output_type": "display_data",
          "data": {
            "text/plain": [
              "<IPython.core.display.Markdown object>"
            ],
            "text/markdown": "> **6. Alfabeto Escondido na Areia/Farinha:**"
          },
          "metadata": {}
        },
        {
          "output_type": "display_data",
          "data": {
            "text/plain": [
              "<IPython.core.display.Markdown object>"
            ],
            "text/markdown": ""
          },
          "metadata": {}
        },
        {
          "output_type": "display_data",
          "data": {
            "text/plain": [
              "<IPython.core.display.Markdown object>"
            ],
            "text/markdown": "> *   **Materiais:** Uma caixa ou bandeja com areia ou farinha, letras do alfabeto (pode ser impressas, de plástico ou de madeira)."
          },
          "metadata": {}
        },
        {
          "output_type": "display_data",
          "data": {
            "text/plain": [
              "<IPython.core.display.Markdown object>"
            ],
            "text/markdown": "> *   **Atividade:** Esconda as letras na areia ou farinha. As crianças, com os dedos, devem procurar as letras e, ao encontrá-las, dizer o nome da letra e uma palavra que comece com ela."
          },
          "metadata": {}
        },
        {
          "output_type": "display_data",
          "data": {
            "text/plain": [
              "<IPython.core.display.Markdown object>"
            ],
            "text/markdown": "> *   **Variação:** O professor pode ditar a letra para a criança procurar."
          },
          "metadata": {}
        },
        {
          "output_type": "display_data",
          "data": {
            "text/plain": [
              "<IPython.core.display.Markdown object>"
            ],
            "text/markdown": ""
          },
          "metadata": {}
        },
        {
          "output_type": "display_data",
          "data": {
            "text/plain": [
              "<IPython.core.display.Markdown object>"
            ],
            "text/markdown": "> **7. Mural do Alfabeto:**"
          },
          "metadata": {}
        },
        {
          "output_type": "display_data",
          "data": {
            "text/plain": [
              "<IPython.core.display.Markdown object>"
            ],
            "text/markdown": ""
          },
          "metadata": {}
        },
        {
          "output_type": "display_data",
          "data": {
            "text/plain": [
              "<IPython.core.display.Markdown object>"
            ],
            "text/markdown": "> *   **Materiais:** Uma cartolina grande, revistas, jornais, cola, tesoura (com supervisão)."
          },
          "metadata": {}
        },
        {
          "output_type": "display_data",
          "data": {
            "text/plain": [
              "<IPython.core.display.Markdown object>"
            ],
            "text/markdown": "> *   **Atividade:** Divida a cartolina em 26 seções, uma para cada letra do alfabeto. Os alunos devem procurar em revistas e jornais palavras ou imagens que comecem com cada letra e colar na seção correspondente."
          },
          "metadata": {}
        },
        {
          "output_type": "display_data",
          "data": {
            "text/plain": [
              "<IPython.core.display.Markdown object>"
            ],
            "text/markdown": "> *   **Variação:** Cada aluno fica responsável por uma ou duas letras do alfabeto."
          },
          "metadata": {}
        },
        {
          "output_type": "display_data",
          "data": {
            "text/plain": [
              "<IPython.core.display.Markdown object>"
            ],
            "text/markdown": ""
          },
          "metadata": {}
        },
        {
          "output_type": "display_data",
          "data": {
            "text/plain": [
              "<IPython.core.display.Markdown object>"
            ],
            "text/markdown": "> **Dicas Importantes:**"
          },
          "metadata": {}
        },
        {
          "output_type": "display_data",
          "data": {
            "text/plain": [
              "<IPython.core.display.Markdown object>"
            ],
            "text/markdown": ""
          },
          "metadata": {}
        },
        {
          "output_type": "display_data",
          "data": {
            "text/plain": [
              "<IPython.core.display.Markdown object>"
            ],
            "text/markdown": "> *   **Adapte:** Adapte as atividades à realidade da sua turma e aos materiais disponíveis."
          },
          "metadata": {}
        },
        {
          "output_type": "display_data",
          "data": {
            "text/plain": [
              "<IPython.core.display.Markdown object>"
            ],
            "text/markdown": "> *   **Repetição:** A repetição é fundamental na alfabetização. Reutilize as atividades de diferentes formas."
          },
          "metadata": {}
        },
        {
          "output_type": "display_data",
          "data": {
            "text/plain": [
              "<IPython.core.display.Markdown object>"
            ],
            "text/markdown": "> *   **Diversão:** O mais importante é que as atividades sejam divertidas e estimulantes para os alunos!"
          },
          "metadata": {}
        },
        {
          "output_type": "display_data",
          "data": {
            "text/plain": [
              "<IPython.core.display.Markdown object>"
            ],
            "text/markdown": "> *   **Individualização:** Observe as dificuldades de cada aluno e ofereça apoio individualizado quando necessário."
          },
          "metadata": {}
        },
        {
          "output_type": "display_data",
          "data": {
            "text/plain": [
              "<IPython.core.display.Markdown object>"
            ],
            "text/markdown": ""
          },
          "metadata": {}
        },
        {
          "output_type": "display_data",
          "data": {
            "text/plain": [
              "<IPython.core.display.Markdown object>"
            ],
            "text/markdown": "> Espero que essas sugestões sejam úteis! Se precisar de mais ideias ou detalhes sobre alguma atividade, é só perguntar."
          },
          "metadata": {}
        },
        {
          "output_type": "stream",
          "name": "stdout",
          "text": [
            "--------------------------------------------------------------\n",
            "--------------------------------------------------------------\n",
            "\n",
            "--- 📝 Resultado do Gerador de Avaliações (Avaliações) ---\n",
            "\n"
          ]
        },
        {
          "output_type": "display_data",
          "data": {
            "text/plain": [
              "<IPython.core.display.Markdown object>"
            ],
            "text/markdown": "> ## Instrumentos de Avaliação para Alfabeto (1º ano)"
          },
          "metadata": {}
        },
        {
          "output_type": "display_data",
          "data": {
            "text/plain": [
              "<IPython.core.display.Markdown object>"
            ],
            "text/markdown": ""
          },
          "metadata": {}
        },
        {
          "output_type": "display_data",
          "data": {
            "text/plain": [
              "<IPython.core.display.Markdown object>"
            ],
            "text/markdown": "> Considerando o tema \"Alfabeto\" e a faixa etária do 1º ano, as avaliações devem ser lúdicas, diversificadas e adaptadas ao nível de desenvolvimento dos alunos. Abaixo, apresento sugestões de instrumentos de avaliação formativa e somativa, incluindo exemplos de avaliações escritas contextualizadas:"
          },
          "metadata": {}
        },
        {
          "output_type": "display_data",
          "data": {
            "text/plain": [
              "<IPython.core.display.Markdown object>"
            ],
            "text/markdown": ""
          },
          "metadata": {}
        },
        {
          "output_type": "display_data",
          "data": {
            "text/plain": [
              "<IPython.core.display.Markdown object>"
            ],
            "text/markdown": "> **I. Avaliação Formativa:**"
          },
          "metadata": {}
        },
        {
          "output_type": "display_data",
          "data": {
            "text/plain": [
              "<IPython.core.display.Markdown object>"
            ],
            "text/markdown": ""
          },
          "metadata": {}
        },
        {
          "output_type": "display_data",
          "data": {
            "text/plain": [
              "<IPython.core.display.Markdown object>"
            ],
            "text/markdown": "> O objetivo da avaliação formativa é acompanhar o processo de aprendizagem do aluno, identificar dificuldades e ajustar as estratégias de ensino."
          },
          "metadata": {}
        },
        {
          "output_type": "display_data",
          "data": {
            "text/plain": [
              "<IPython.core.display.Markdown object>"
            ],
            "text/markdown": ""
          },
          "metadata": {}
        },
        {
          "output_type": "display_data",
          "data": {
            "text/plain": [
              "<IPython.core.display.Markdown object>"
            ],
            "text/markdown": "> **A. Autoavaliação:**"
          },
          "metadata": {}
        },
        {
          "output_type": "display_data",
          "data": {
            "text/plain": [
              "<IPython.core.display.Markdown object>"
            ],
            "text/markdown": ""
          },
          "metadata": {}
        },
        {
          "output_type": "display_data",
          "data": {
            "text/plain": [
              "<IPython.core.display.Markdown object>"
            ],
            "text/markdown": "> *   **\"Semáforo do Alfabeto\":**"
          },
          "metadata": {}
        },
        {
          "output_type": "display_data",
          "data": {
            "text/plain": [
              "<IPython.core.display.Markdown object>"
            ],
            "text/markdown": ">     *   O professor apresenta um painel com as letras do alfabeto."
          },
          "metadata": {}
        },
        {
          "output_type": "display_data",
          "data": {
            "text/plain": [
              "<IPython.core.display.Markdown object>"
            ],
            "text/markdown": ">     *   Cada aluno recebe três círculos de papel: verde (entendo bem), amarelo (tenho dúvidas) e vermelho (preciso de ajuda)."
          },
          "metadata": {}
        },
        {
          "output_type": "display_data",
          "data": {
            "text/plain": [
              "<IPython.core.display.Markdown object>"
            ],
            "text/markdown": ">     *   Para cada letra, o aluno escolhe a cor que melhor representa seu nível de compreensão e cola no painel."
          },
          "metadata": {}
        },
        {
          "output_type": "display_data",
          "data": {
            "text/plain": [
              "<IPython.core.display.Markdown object>"
            ],
            "text/markdown": ">     *   O professor analisa o painel para identificar as letras que precisam de mais atenção."
          },
          "metadata": {}
        },
        {
          "output_type": "display_data",
          "data": {
            "text/plain": [
              "<IPython.core.display.Markdown object>"
            ],
            "text/markdown": ""
          },
          "metadata": {}
        },
        {
          "output_type": "display_data",
          "data": {
            "text/plain": [
              "<IPython.core.display.Markdown object>"
            ],
            "text/markdown": "> *   **Rosto Feliz, Neutro e Triste:**"
          },
          "metadata": {}
        },
        {
          "output_type": "display_data",
          "data": {
            "text/plain": [
              "<IPython.core.display.Markdown object>"
            ],
            "text/markdown": ">     *   Após atividades com o alfabeto, o professor pergunta: \"Como você se sentiu aprendendo sobre o alfabeto hoje?\""
          },
          "metadata": {}
        },
        {
          "output_type": "display_data",
          "data": {
            "text/plain": [
              "<IPython.core.display.Markdown object>"
            ],
            "text/markdown": ">     *   Os alunos mostram um desenho de rosto feliz (entendi tudo), neutro (entendi mais ou menos) ou triste (não entendi)."
          },
          "metadata": {}
        },
        {
          "output_type": "display_data",
          "data": {
            "text/plain": [
              "<IPython.core.display.Markdown object>"
            ],
            "text/markdown": ">     *   O professor pode pedir que os alunos expliquem suas escolhas."
          },
          "metadata": {}
        },
        {
          "output_type": "display_data",
          "data": {
            "text/plain": [
              "<IPython.core.display.Markdown object>"
            ],
            "text/markdown": ""
          },
          "metadata": {}
        },
        {
          "output_type": "display_data",
          "data": {
            "text/plain": [
              "<IPython.core.display.Markdown object>"
            ],
            "text/markdown": "> **B. Observação:**"
          },
          "metadata": {}
        },
        {
          "output_type": "display_data",
          "data": {
            "text/plain": [
              "<IPython.core.display.Markdown object>"
            ],
            "text/markdown": ""
          },
          "metadata": {}
        },
        {
          "output_type": "display_data",
          "data": {
            "text/plain": [
              "<IPython.core.display.Markdown object>"
            ],
            "text/markdown": "> *   **Registro Anecdótico:**"
          },
          "metadata": {}
        },
        {
          "output_type": "display_data",
          "data": {
            "text/plain": [
              "<IPython.core.display.Markdown object>"
            ],
            "text/markdown": ">     *   O professor observa o aluno durante as atividades e anota comportamentos relevantes relacionados ao aprendizado do alfabeto (ex: dificuldade em diferenciar letras, participação nas atividades, interesse em jogos com letras)."
          },
          "metadata": {}
        },
        {
          "output_type": "display_data",
          "data": {
            "text/plain": [
              "<IPython.core.display.Markdown object>"
            ],
            "text/markdown": ">     *   Exemplo: \"Maria confundiu as letras 'b' e 'd' durante a atividade de pareamento. Demonstrou frustração ao não conseguir identificar a letra.\""
          },
          "metadata": {}
        },
        {
          "output_type": "display_data",
          "data": {
            "text/plain": [
              "<IPython.core.display.Markdown object>"
            ],
            "text/markdown": ""
          },
          "metadata": {}
        },
        {
          "output_type": "display_data",
          "data": {
            "text/plain": [
              "<IPython.core.display.Markdown object>"
            ],
            "text/markdown": "> *   **Lista de Verificação (Checklist):**"
          },
          "metadata": {}
        },
        {
          "output_type": "display_data",
          "data": {
            "text/plain": [
              "<IPython.core.display.Markdown object>"
            ],
            "text/markdown": ">     *   O professor cria uma lista com habilidades relacionadas ao alfabeto (ex: identifica as letras do alfabeto, diferencia letras maiúsculas e minúsculas, associa letras a sons, escreve palavras simples)."
          },
          "metadata": {}
        },
        {
          "output_type": "display_data",
          "data": {
            "text/plain": [
              "<IPython.core.display.Markdown object>"
            ],
            "text/markdown": ">     *   Durante as atividades, o professor marca se o aluno demonstra ou não a habilidade."
          },
          "metadata": {}
        },
        {
          "output_type": "display_data",
          "data": {
            "text/plain": [
              "<IPython.core.display.Markdown object>"
            ],
            "text/markdown": ">     *   Exemplo:"
          },
          "metadata": {}
        },
        {
          "output_type": "display_data",
          "data": {
            "text/plain": [
              "<IPython.core.display.Markdown object>"
            ],
            "text/markdown": ""
          },
          "metadata": {}
        },
        {
          "output_type": "display_data",
          "data": {
            "text/plain": [
              "<IPython.core.display.Markdown object>"
            ],
            "text/markdown": ">         | Habilidade                         | Sim | Não | Observações                                               |"
          },
          "metadata": {}
        },
        {
          "output_type": "display_data",
          "data": {
            "text/plain": [
              "<IPython.core.display.Markdown object>"
            ],
            "text/markdown": ">         | :---------------------------------- | :-: | :-: | :-------------------------------------------------------- |"
          },
          "metadata": {}
        },
        {
          "output_type": "display_data",
          "data": {
            "text/plain": [
              "<IPython.core.display.Markdown object>"
            ],
            "text/markdown": ">         | Identifica as letras do alfabeto    |  ✓  |     |                                                           |"
          },
          "metadata": {}
        },
        {
          "output_type": "display_data",
          "data": {
            "text/plain": [
              "<IPython.core.display.Markdown object>"
            ],
            "text/markdown": ">         | Diferencia letras maiúsculas e minúsculas |     |  ✓  | Confunde 'A' com 'a'                                   |"
          },
          "metadata": {}
        },
        {
          "output_type": "display_data",
          "data": {
            "text/plain": [
              "<IPython.core.display.Markdown object>"
            ],
            "text/markdown": ">         | Associa letras a sons               |  ✓  |     |                                                           |"
          },
          "metadata": {}
        },
        {
          "output_type": "display_data",
          "data": {
            "text/plain": [
              "<IPython.core.display.Markdown object>"
            ],
            "text/markdown": ">         | Escreve palavras simples              |     |  ✓  | Precisa de ajuda para identificar as letras ao escrever |"
          },
          "metadata": {}
        },
        {
          "output_type": "display_data",
          "data": {
            "text/plain": [
              "<IPython.core.display.Markdown object>"
            ],
            "text/markdown": ""
          },
          "metadata": {}
        },
        {
          "output_type": "display_data",
          "data": {
            "text/plain": [
              "<IPython.core.display.Markdown object>"
            ],
            "text/markdown": "> **II. Avaliação Somativa:**"
          },
          "metadata": {}
        },
        {
          "output_type": "display_data",
          "data": {
            "text/plain": [
              "<IPython.core.display.Markdown object>"
            ],
            "text/markdown": ""
          },
          "metadata": {}
        },
        {
          "output_type": "display_data",
          "data": {
            "text/plain": [
              "<IPython.core.display.Markdown object>"
            ],
            "text/markdown": "> O objetivo da avaliação somativa é verificar o que o aluno aprendeu ao final de um período ou unidade."
          },
          "metadata": {}
        },
        {
          "output_type": "display_data",
          "data": {
            "text/plain": [
              "<IPython.core.display.Markdown object>"
            ],
            "text/markdown": ""
          },
          "metadata": {}
        },
        {
          "output_type": "display_data",
          "data": {
            "text/plain": [
              "<IPython.core.display.Markdown object>"
            ],
            "text/markdown": "> **A. Provas/Testes:**"
          },
          "metadata": {}
        },
        {
          "output_type": "display_data",
          "data": {
            "text/plain": [
              "<IPython.core.display.Markdown object>"
            ],
            "text/markdown": ""
          },
          "metadata": {}
        },
        {
          "output_type": "display_data",
          "data": {
            "text/plain": [
              "<IPython.core.display.Markdown object>"
            ],
            "text/markdown": "> *   **Ditado de Letras e Sílabas:**"
          },
          "metadata": {}
        },
        {
          "output_type": "display_data",
          "data": {
            "text/plain": [
              "<IPython.core.display.Markdown object>"
            ],
            "text/markdown": ">     *   O professor dita letras e sílabas simples (ex: ba, ca, da) para o aluno escrever."
          },
          "metadata": {}
        },
        {
          "output_type": "display_data",
          "data": {
            "text/plain": [
              "<IPython.core.display.Markdown object>"
            ],
            "text/markdown": ">     *   Avalia a capacidade de associar sons a letras e representar graficamente."
          },
          "metadata": {}
        },
        {
          "output_type": "display_data",
          "data": {
            "text/plain": [
              "<IPython.core.display.Markdown object>"
            ],
            "text/markdown": ""
          },
          "metadata": {}
        },
        {
          "output_type": "display_data",
          "data": {
            "text/plain": [
              "<IPython.core.display.Markdown object>"
            ],
            "text/markdown": "> *   **Correspondência Letra-Imagem:**"
          },
          "metadata": {}
        },
        {
          "output_type": "display_data",
          "data": {
            "text/plain": [
              "<IPython.core.display.Markdown object>"
            ],
            "text/markdown": ">     *   O professor apresenta imagens e letras. O aluno deve ligar a letra inicial de cada imagem à letra correspondente."
          },
          "metadata": {}
        },
        {
          "output_type": "display_data",
          "data": {
            "text/plain": [
              "<IPython.core.display.Markdown object>"
            ],
            "text/markdown": ">     *   Exemplo:"
          },
          "metadata": {}
        },
        {
          "output_type": "display_data",
          "data": {
            "text/plain": [
              "<IPython.core.display.Markdown object>"
            ],
            "text/markdown": ">         *   (Desenho de uma Abelha)  →  A"
          },
          "metadata": {}
        },
        {
          "output_type": "display_data",
          "data": {
            "text/plain": [
              "<IPython.core.display.Markdown object>"
            ],
            "text/markdown": ">         *   (Desenho de uma Bola)    →  B"
          },
          "metadata": {}
        },
        {
          "output_type": "display_data",
          "data": {
            "text/plain": [
              "<IPython.core.display.Markdown object>"
            ],
            "text/markdown": ">         *   (Desenho de uma Casa)    →  C"
          },
          "metadata": {}
        },
        {
          "output_type": "display_data",
          "data": {
            "text/plain": [
              "<IPython.core.display.Markdown object>"
            ],
            "text/markdown": ""
          },
          "metadata": {}
        },
        {
          "output_type": "display_data",
          "data": {
            "text/plain": [
              "<IPython.core.display.Markdown object>"
            ],
            "text/markdown": "> *   **Completar Palavras:**"
          },
          "metadata": {}
        },
        {
          "output_type": "display_data",
          "data": {
            "text/plain": [
              "<IPython.core.display.Markdown object>"
            ],
            "text/markdown": ">     *   O professor apresenta palavras incompletas (ex: B _ LA, C _ SA) e o aluno deve completar com as letras faltantes."
          },
          "metadata": {}
        },
        {
          "output_type": "display_data",
          "data": {
            "text/plain": [
              "<IPython.core.display.Markdown object>"
            ],
            "text/markdown": ">     *   Avalia o conhecimento das letras e sua aplicação na formação de palavras."
          },
          "metadata": {}
        },
        {
          "output_type": "display_data",
          "data": {
            "text/plain": [
              "<IPython.core.display.Markdown object>"
            ],
            "text/markdown": ""
          },
          "metadata": {}
        },
        {
          "output_type": "display_data",
          "data": {
            "text/plain": [
              "<IPython.core.display.Markdown object>"
            ],
            "text/markdown": "> **B. Trabalhos:**"
          },
          "metadata": {}
        },
        {
          "output_type": "display_data",
          "data": {
            "text/plain": [
              "<IPython.core.display.Markdown object>"
            ],
            "text/markdown": ""
          },
          "metadata": {}
        },
        {
          "output_type": "display_data",
          "data": {
            "text/plain": [
              "<IPython.core.display.Markdown object>"
            ],
            "text/markdown": "> *   **Criação de um Alfabeto Ilustrado:**"
          },
          "metadata": {}
        },
        {
          "output_type": "display_data",
          "data": {
            "text/plain": [
              "<IPython.core.display.Markdown object>"
            ],
            "text/markdown": ">     *   Cada aluno escolhe uma letra do alfabeto e cria um desenho que a represente."
          },
          "metadata": {}
        },
        {
          "output_type": "display_data",
          "data": {
            "text/plain": [
              "<IPython.core.display.Markdown object>"
            ],
            "text/markdown": ">     *   O professor pode organizar uma exposição com os trabalhos."
          },
          "metadata": {}
        },
        {
          "output_type": "display_data",
          "data": {
            "text/plain": [
              "<IPython.core.display.Markdown object>"
            ],
            "text/markdown": ">     *   Avalia a criatividade, o conhecimento das letras e a capacidade de associar letras a imagens."
          },
          "metadata": {}
        },
        {
          "output_type": "display_data",
          "data": {
            "text/plain": [
              "<IPython.core.display.Markdown object>"
            ],
            "text/markdown": ""
          },
          "metadata": {}
        },
        {
          "output_type": "display_data",
          "data": {
            "text/plain": [
              "<IPython.core.display.Markdown object>"
            ],
            "text/markdown": "> *   **Caça-Palavras Temático:**"
          },
          "metadata": {}
        },
        {
          "output_type": "display_data",
          "data": {
            "text/plain": [
              "<IPython.core.display.Markdown object>"
            ],
            "text/markdown": ">     *   O professor cria um caça-palavras com palavras relacionadas ao universo infantil (ex: bola, casa, dado)."
          },
          "metadata": {}
        },
        {
          "output_type": "display_data",
          "data": {
            "text/plain": [
              "<IPython.core.display.Markdown object>"
            ],
            "text/markdown": ">     *   Os alunos devem encontrar as palavras no caça-palavras."
          },
          "metadata": {}
        },
        {
          "output_type": "display_data",
          "data": {
            "text/plain": [
              "<IPython.core.display.Markdown object>"
            ],
            "text/markdown": ">     *   Avalia a capacidade de identificar letras e palavras no contexto de um jogo."
          },
          "metadata": {}
        },
        {
          "output_type": "display_data",
          "data": {
            "text/plain": [
              "<IPython.core.display.Markdown object>"
            ],
            "text/markdown": ""
          },
          "metadata": {}
        },
        {
          "output_type": "display_data",
          "data": {
            "text/plain": [
              "<IPython.core.display.Markdown object>"
            ],
            "text/markdown": "> *   **Produção de Textos Curtos:**"
          },
          "metadata": {}
        },
        {
          "output_type": "display_data",
          "data": {
            "text/plain": [
              "<IPython.core.display.Markdown object>"
            ],
            "text/markdown": ">     *   O professor pede para os alunos escreverem frases ou pequenos textos utilizando as letras do alfabeto que foram aprendidas."
          },
          "metadata": {}
        },
        {
          "output_type": "display_data",
          "data": {
            "text/plain": [
              "<IPython.core.display.Markdown object>"
            ],
            "text/markdown": ">     *   Exemplo: \"A Ana viu a bola. Ela é azul.\""
          },
          "metadata": {}
        },
        {
          "output_type": "display_data",
          "data": {
            "text/plain": [
              "<IPython.core.display.Markdown object>"
            ],
            "text/markdown": ""
          },
          "metadata": {}
        },
        {
          "output_type": "display_data",
          "data": {
            "text/plain": [
              "<IPython.core.display.Markdown object>"
            ],
            "text/markdown": "> **III. Avaliação Escrita com Problemas Contextualizados:**"
          },
          "metadata": {}
        },
        {
          "output_type": "display_data",
          "data": {
            "text/plain": [
              "<IPython.core.display.Markdown object>"
            ],
            "text/markdown": ""
          },
          "metadata": {}
        },
        {
          "output_type": "display_data",
          "data": {
            "text/plain": [
              "<IPython.core.display.Markdown object>"
            ],
            "text/markdown": "> É importante contextualizar a avaliação para tornar o aprendizado mais significativo e relevante para o aluno."
          },
          "metadata": {}
        },
        {
          "output_type": "display_data",
          "data": {
            "text/plain": [
              "<IPython.core.display.Markdown object>"
            ],
            "text/markdown": ""
          },
          "metadata": {}
        },
        {
          "output_type": "display_data",
          "data": {
            "text/plain": [
              "<IPython.core.display.Markdown object>"
            ],
            "text/markdown": "> **Exemplos:**"
          },
          "metadata": {}
        },
        {
          "output_type": "display_data",
          "data": {
            "text/plain": [
              "<IPython.core.display.Markdown object>"
            ],
            "text/markdown": ""
          },
          "metadata": {}
        },
        {
          "output_type": "display_data",
          "data": {
            "text/plain": [
              "<IPython.core.display.Markdown object>"
            ],
            "text/markdown": "> 1.  **Situação:** \"A professora Maria está organizando os livros da biblioteca em ordem alfabética. Ajude-a colocando os títulos abaixo na ordem correta:\""
          },
          "metadata": {}
        },
        {
          "output_type": "display_data",
          "data": {
            "text/plain": [
              "<IPython.core.display.Markdown object>"
            ],
            "text/markdown": ">     *   ( ) A Casa Maluca"
          },
          "metadata": {}
        },
        {
          "output_type": "display_data",
          "data": {
            "text/plain": [
              "<IPython.core.display.Markdown object>"
            ],
            "text/markdown": ">     *   ( ) O Menino Azul"
          },
          "metadata": {}
        },
        {
          "output_type": "display_data",
          "data": {
            "text/plain": [
              "<IPython.core.display.Markdown object>"
            ],
            "text/markdown": ">     *   ( ) Brincando com as Letras"
          },
          "metadata": {}
        },
        {
          "output_type": "display_data",
          "data": {
            "text/plain": [
              "<IPython.core.display.Markdown object>"
            ],
            "text/markdown": ">     *   ( ) Dona Baratinha"
          },
          "metadata": {}
        },
        {
          "output_type": "display_data",
          "data": {
            "text/plain": [
              "<IPython.core.display.Markdown object>"
            ],
            "text/markdown": ""
          },
          "metadata": {}
        },
        {
          "output_type": "display_data",
          "data": {
            "text/plain": [
              "<IPython.core.display.Markdown object>"
            ],
            "text/markdown": "> 2.  **Situação:** \"O João perdeu algumas letras do seu nome no caminho para a escola. Você pode ajudá-lo a encontrar as letras que faltam?\""
          },
          "metadata": {}
        },
        {
          "output_type": "display_data",
          "data": {
            "text/plain": [
              "<IPython.core.display.Markdown object>"
            ],
            "text/markdown": ">     *   J _ ÃO"
          },
          "metadata": {}
        },
        {
          "output_type": "display_data",
          "data": {
            "text/plain": [
              "<IPython.core.display.Markdown object>"
            ],
            "text/markdown": ""
          },
          "metadata": {}
        },
        {
          "output_type": "display_data",
          "data": {
            "text/plain": [
              "<IPython.core.display.Markdown object>"
            ],
            "text/markdown": "> 3.  **Situação:** \"A Sofia está aprendendo a escrever o nome dos seus brinquedos. Ajude-a a escrever o nome dos brinquedos abaixo:\""
          },
          "metadata": {}
        },
        {
          "output_type": "display_data",
          "data": {
            "text/plain": [
              "<IPython.core.display.Markdown object>"
            ],
            "text/markdown": ">     *   (Desenho de uma Boneca)  →  B _ _ _ _ _"
          },
          "metadata": {}
        },
        {
          "output_type": "display_data",
          "data": {
            "text/plain": [
              "<IPython.core.display.Markdown object>"
            ],
            "text/markdown": ">     *   (Desenho de um Carrinho) →  C _ _ _ _ _ _ _"
          },
          "metadata": {}
        },
        {
          "output_type": "display_data",
          "data": {
            "text/plain": [
              "<IPython.core.display.Markdown object>"
            ],
            "text/markdown": ""
          },
          "metadata": {}
        },
        {
          "output_type": "display_data",
          "data": {
            "text/plain": [
              "<IPython.core.display.Markdown object>"
            ],
            "text/markdown": "> 4.  **Situação:** \"No aniversário do Pedro, cada criança recebeu um balão com uma letra do alfabeto. Circule o balão com a primeira letra do nome do Pedro.\""
          },
          "metadata": {}
        },
        {
          "output_type": "display_data",
          "data": {
            "text/plain": [
              "<IPython.core.display.Markdown object>"
            ],
            "text/markdown": ">     *   (Desenhos de balões com as letras: A, B, C, D, **P**, Q, R)"
          },
          "metadata": {}
        },
        {
          "output_type": "display_data",
          "data": {
            "text/plain": [
              "<IPython.core.display.Markdown object>"
            ],
            "text/markdown": ""
          },
          "metadata": {}
        },
        {
          "output_type": "display_data",
          "data": {
            "text/plain": [
              "<IPython.core.display.Markdown object>"
            ],
            "text/markdown": "> **Observações Importantes:**"
          },
          "metadata": {}
        },
        {
          "output_type": "display_data",
          "data": {
            "text/plain": [
              "<IPython.core.display.Markdown object>"
            ],
            "text/markdown": ""
          },
          "metadata": {}
        },
        {
          "output_type": "display_data",
          "data": {
            "text/plain": [
              "<IPython.core.display.Markdown object>"
            ],
            "text/markdown": "> *   A avaliação deve ser contínua e diversificada, utilizando diferentes instrumentos e estratégias."
          },
          "metadata": {}
        },
        {
          "output_type": "display_data",
          "data": {
            "text/plain": [
              "<IPython.core.display.Markdown object>"
            ],
            "text/markdown": "> *   O professor deve adaptar os instrumentos de avaliação às necessidades e características individuais de cada aluno."
          },
          "metadata": {}
        },
        {
          "output_type": "display_data",
          "data": {
            "text/plain": [
              "<IPython.core.display.Markdown object>"
            ],
            "text/markdown": "> *   É fundamental fornecer feedback aos alunos sobre seu desempenho, indicando os pontos fortes e as áreas que precisam de mais atenção."
          },
          "metadata": {}
        },
        {
          "output_type": "display_data",
          "data": {
            "text/plain": [
              "<IPython.core.display.Markdown object>"
            ],
            "text/markdown": "> *   A avaliação deve ser um instrumento para promover o aprendizado, e não apenas para classificar os alunos."
          },
          "metadata": {}
        },
        {
          "output_type": "display_data",
          "data": {
            "text/plain": [
              "<IPython.core.display.Markdown object>"
            ],
            "text/markdown": ""
          },
          "metadata": {}
        },
        {
          "output_type": "display_data",
          "data": {
            "text/plain": [
              "<IPython.core.display.Markdown object>"
            ],
            "text/markdown": "> Ao implementar essas sugestões, você poderá acompanhar o progresso dos seus alunos no aprendizado do alfabeto de forma eficaz e significativa. Lembre-se de que a ludicidade e a contextualização são elementos-chave para o sucesso da aprendizagem no 1º ano."
          },
          "metadata": {}
        },
        {
          "output_type": "display_data",
          "data": {
            "text/plain": [
              "<IPython.core.display.Markdown object>"
            ],
            "text/markdown": ""
          },
          "metadata": {}
        },
        {
          "output_type": "stream",
          "name": "stdout",
          "text": [
            "--------------------------------------------------------------\n",
            "\n",
            "--- 📝 Resultado do Gerador de Cronograma (Cronograma) ---\n",
            "\n"
          ]
        },
        {
          "output_type": "display_data",
          "data": {
            "text/plain": [
              "<IPython.core.display.Markdown object>"
            ],
            "text/markdown": "> ## Cronograma Semanal - Alfabeto (1º Ano)"
          },
          "metadata": {}
        },
        {
          "output_type": "display_data",
          "data": {
            "text/plain": [
              "<IPython.core.display.Markdown object>"
            ],
            "text/markdown": ""
          },
          "metadata": {}
        },
        {
          "output_type": "display_data",
          "data": {
            "text/plain": [
              "<IPython.core.display.Markdown object>"
            ],
            "text/markdown": "> **Tema:** Alfabeto"
          },
          "metadata": {}
        },
        {
          "output_type": "display_data",
          "data": {
            "text/plain": [
              "<IPython.core.display.Markdown object>"
            ],
            "text/markdown": "> **Duração:** 4 semanas"
          },
          "metadata": {}
        },
        {
          "output_type": "display_data",
          "data": {
            "text/plain": [
              "<IPython.core.display.Markdown object>"
            ],
            "text/markdown": "> **Aulas por semana:** 4"
          },
          "metadata": {}
        },
        {
          "output_type": "display_data",
          "data": {
            "text/plain": [
              "<IPython.core.display.Markdown object>"
            ],
            "text/markdown": "> **Duração da aula:** 50 minutos"
          },
          "metadata": {}
        },
        {
          "output_type": "display_data",
          "data": {
            "text/plain": [
              "<IPython.core.display.Markdown object>"
            ],
            "text/markdown": ""
          },
          "metadata": {}
        },
        {
          "output_type": "display_data",
          "data": {
            "text/plain": [
              "<IPython.core.display.Markdown object>"
            ],
            "text/markdown": "> **Legenda:**"
          },
          "metadata": {}
        },
        {
          "output_type": "display_data",
          "data": {
            "text/plain": [
              "<IPython.core.display.Markdown object>"
            ],
            "text/markdown": "> *   **AL:** Atividade Lúdica"
          },
          "metadata": {}
        },
        {
          "output_type": "display_data",
          "data": {
            "text/plain": [
              "<IPython.core.display.Markdown object>"
            ],
            "text/markdown": "> *   **AP:** Atividade Prática"
          },
          "metadata": {}
        },
        {
          "output_type": "display_data",
          "data": {
            "text/plain": [
              "<IPython.core.display.Markdown object>"
            ],
            "text/markdown": "> *   **AF:** Avaliação Formativa"
          },
          "metadata": {}
        },
        {
          "output_type": "display_data",
          "data": {
            "text/plain": [
              "<IPython.core.display.Markdown object>"
            ],
            "text/markdown": "> *   **AS:** Avaliação Somativa"
          },
          "metadata": {}
        },
        {
          "output_type": "display_data",
          "data": {
            "text/plain": [
              "<IPython.core.display.Markdown object>"
            ],
            "text/markdown": ""
          },
          "metadata": {}
        },
        {
          "output_type": "display_data",
          "data": {
            "text/plain": [
              "<IPython.core.display.Markdown object>"
            ],
            "text/markdown": "> ---"
          },
          "metadata": {}
        },
        {
          "output_type": "display_data",
          "data": {
            "text/plain": [
              "<IPython.core.display.Markdown object>"
            ],
            "text/markdown": ""
          },
          "metadata": {}
        },
        {
          "output_type": "display_data",
          "data": {
            "text/plain": [
              "<IPython.core.display.Markdown object>"
            ],
            "text/markdown": "> ### Semana 1: Apresentação e Introdução ao Alfabeto"
          },
          "metadata": {}
        },
        {
          "output_type": "display_data",
          "data": {
            "text/plain": [
              "<IPython.core.display.Markdown object>"
            ],
            "text/markdown": ""
          },
          "metadata": {}
        },
        {
          "output_type": "display_data",
          "data": {
            "text/plain": [
              "<IPython.core.display.Markdown object>"
            ],
            "text/markdown": "> | Dia    | Horário        | Atividade                                                                 | Tipo | Materiais                                                  | Avaliação                                 | Observações                                                                                                                                                                                                                            |"
          },
          "metadata": {}
        },
        {
          "output_type": "display_data",
          "data": {
            "text/plain": [
              "<IPython.core.display.Markdown object>"
            ],
            "text/markdown": "> | :----- | :------------- | :------------------------------------------------------------------------ | :--- | :--------------------------------------------------------- | :---------------------------------------- | :------------------------------------------------------------------------------------------------------------------------------------------------------------------------------------------------------------------------------------- |"
          },
          "metadata": {}
        },
        {
          "output_type": "display_data",
          "data": {
            "text/plain": [
              "<IPython.core.display.Markdown object>"
            ],
            "text/markdown": "> | **Seg** | **Manhã**     | Apresentação do tema \"Alfabeto\". Roda de conversa sobre o que já sabem. | -   | Cartaz com o alfabeto, objetos da sala.                | Observação da participação e interesse.     | Criar um ambiente acolhedor e despertar a curiosidade sobre as letras.                                                                                                                                                                 |"
          },
          "metadata": {}
        },
        {
          "output_type": "display_data",
          "data": {
            "text/plain": [
              "<IPython.core.display.Markdown object>"
            ],
            "text/markdown": "> | **Ter** | **Manhã**     | Música e Movimento Alfabético.                                          | AL   | Música do alfabeto, espaço livre.                       | Observação da interação e participação.     | Trabalhar a memorização das letras de forma lúdica e com movimento.                                                                                                                                                                  |"
          },
          "metadata": {}
        },
        {
          "output_type": "display_data",
          "data": {
            "text/plain": [
              "<IPython.core.display.Markdown object>"
            ],
            "text/markdown": "> | **Qua** | **Manhã**     | Caça ao Tesouro do Alfabeto (primeira parte).                             | AL   | Cartas com letras, objetos relacionados, dicas.         | Observação do trabalho em grupo e identificação das letras. | Dividir a turma em grupos menores para facilitar a participação.                                                                                                                                                                   |"
          },
          "metadata": {}
        },
        {
          "output_type": "display_data",
          "data": {
            "text/plain": [
              "<IPython.core.display.Markdown object>"
            ],
            "text/markdown": "> | **Qui** | **Manhã**     | Caça ao Tesouro do Alfabeto (segunda parte).                             | AL   | Cartas com letras, objetos relacionados, dicas.         | Observação do trabalho em grupo e identificação das letras. | Garantir que todos os alunos tenham a oportunidade de participar ativamente.                                                                                                                                                         |"
          },
          "metadata": {}
        },
        {
          "output_type": "display_data",
          "data": {
            "text/plain": [
              "<IPython.core.display.Markdown object>"
            ],
            "text/markdown": ""
          },
          "metadata": {}
        },
        {
          "output_type": "display_data",
          "data": {
            "text/plain": [
              "<IPython.core.display.Markdown object>"
            ],
            "text/markdown": "> ### Semana 2: Explorando as Letras"
          },
          "metadata": {}
        },
        {
          "output_type": "display_data",
          "data": {
            "text/plain": [
              "<IPython.core.display.Markdown object>"
            ],
            "text/markdown": ""
          },
          "metadata": {}
        },
        {
          "output_type": "display_data",
          "data": {
            "text/plain": [
              "<IPython.core.display.Markdown object>"
            ],
            "text/markdown": "> | Dia    | Horário        | Atividade                                              | Tipo | Materiais                                                       | Avaliação                                    | Observações                                                                                                                                                                                                                               |"
          },
          "metadata": {}
        },
        {
          "output_type": "display_data",
          "data": {
            "text/plain": [
              "<IPython.core.display.Markdown object>"
            ],
            "text/markdown": "> | :----- | :------------- | :----------------------------------------------------- | :--- | :-------------------------------------------------------------- | :------------------------------------------- | :---------------------------------------------------------------------------------------------------------------------------------------------------------------------------------------------------------------------------------------- |"
          },
          "metadata": {}
        },
        {
          "output_type": "display_data",
          "data": {
            "text/plain": [
              "<IPython.core.display.Markdown object>"
            ],
            "text/markdown": "> | **Seg** | **Manhã**     | Massinha Alfabética.                                   | AP   | Massinha de modelar de diversas cores.                          | Observação da modelagem das letras.           | Incentivar a criatividade e a coordenação motora fina.                                                                                                                                                                                  |"
          },
          "metadata": {}
        },
        {
          "output_type": "display_data",
          "data": {
            "text/plain": [
              "<IPython.core.display.Markdown object>"
            ],
            "text/markdown": "> | **Ter** | **Manhã**     | Alfabeto Escondido na Areia/Farinha.                  | AL   | Caixa/bandeja com areia/farinha, letras.                       | Observação da identificação das letras.     | Trabalhar o tato e a identificação das letras de forma sensorial.                                                                                                                                                                       |"
          },
          "metadata": {}
        },
        {
          "output_type": "display_data",
          "data": {
            "text/plain": [
              "<IPython.core.display.Markdown object>"
            ],
            "text/markdown": "> | **Qua** | **Manhã**     | Bingo Alfabético (primeira parte).                     | AL   | Cartelas de bingo com letras, objetos para marcar, letras para sorteio. | Observação da identificação das letras.     | Explicar bem as regras do bingo antes de começar.                                                                                                                                                                                     |"
          },
          "metadata": {}
        },
        {
          "output_type": "display_data",
          "data": {
            "text/plain": [
              "<IPython.core.display.Markdown object>"
            ],
            "text/markdown": "> | **Qui** | **Manhã**     | Bingo Alfabético (segunda parte).                     | AL   | Cartelas de bingo com letras, objetos para marcar, letras para sorteio. | Semáforo do Alfabeto (Autoavaliação Formativa) | Oferecer suporte individualizado para alunos com dificuldades.Utilizar Semáforo do Alfabeto para ver como os alunos se sentem com as letras já trabalhadas. Apresenta um painel com as letras do alfabeto. Cada aluno recebe três círculos de papel: verde (entendo bem), amarelo (tenho dúvidas) e vermelho (preciso de ajuda). Para cada letra, o aluno escolhe a cor que melhor representa seu nível de compreensão e cola no painel.                                          |"
          },
          "metadata": {}
        },
        {
          "output_type": "display_data",
          "data": {
            "text/plain": [
              "<IPython.core.display.Markdown object>"
            ],
            "text/markdown": ""
          },
          "metadata": {}
        },
        {
          "output_type": "display_data",
          "data": {
            "text/plain": [
              "<IPython.core.display.Markdown object>"
            ],
            "text/markdown": "> ### Semana 3: Combinando as Letras"
          },
          "metadata": {}
        },
        {
          "output_type": "display_data",
          "data": {
            "text/plain": [
              "<IPython.core.display.Markdown object>"
            ],
            "text/markdown": ""
          },
          "metadata": {}
        },
        {
          "output_type": "display_data",
          "data": {
            "text/plain": [
              "<IPython.core.display.Markdown object>"
            ],
            "text/markdown": "> | Dia    | Horário        | Atividade                                                          | Tipo | Materiais                                                                  | Avaliação                                 | Observações                                                                                                                                                                                                      |"
          },
          "metadata": {}
        },
        {
          "output_type": "display_data",
          "data": {
            "text/plain": [
              "<IPython.core.display.Markdown object>"
            ],
            "text/markdown": "> | :----- | :------------- | :----------------------------------------------------------------- | :--- | :------------------------------------------------------------------------- | :---------------------------------------- | :----------------------------------------------------------------------------------------------------------------------------------------------------------------------------------------------------------------------------- |"
          },
          "metadata": {}
        },
        {
          "output_type": "display_data",
          "data": {
            "text/plain": [
              "<IPython.core.display.Markdown object>"
            ],
            "text/markdown": "> | **Seg** | **Manhã**     | Dominó de Letras.                                                  | AL   | Cartões de dominó com letras maiúsculas e minúsculas.                     | Observação do pareamento maiúsculo/minúsculo. | Explicar bem as regras do dominó e incentivar a colaboração entre os alunos.                                                                                                                                      |"
          },
          "metadata": {}
        },
        {
          "output_type": "display_data",
          "data": {
            "text/plain": [
              "<IPython.core.display.Markdown object>"
            ],
            "text/markdown": "> | **Ter** | **Manhã**     | Completar Palavras (Avaliação Somativa).                                                               | AS   | Listas com palavras incompletas.                                      | Avaliação escrita da aplicação das letras nas palavras                                                                                                    |"
          },
          "metadata": {}
        },
        {
          "output_type": "display_data",
          "data": {
            "text/plain": [
              "<IPython.core.display.Markdown object>"
            ],
            "text/markdown": "> | **Qua** | **Manhã**     | Produção de Textos Curtos (Avaliação Somativa).                                | AS   | Folhas de papel, lápis, borracha.                                      | Avaliação escrita da produção de frases e textos curtos.                                                                                                    |"
          },
          "metadata": {}
        },
        {
          "output_type": "display_data",
          "data": {
            "text/plain": [
              "<IPython.core.display.Markdown object>"
            ],
            "text/markdown": "> | **Qui** | **Manhã**     |  Rosto Feliz, Neutro e Triste (Avaliação Formativa)   | AF  | Desenhos de rosto feliz, neutro e triste em folha.                      | Rosto Feliz, Neutro e Triste.  | Ao final da aula o professor pergunta: \"Como você se sentiu aprendendo sobre o alfabeto hoje?\" Os alunos mostram um desenho de rosto feliz (entendi tudo), neutro (entendi mais ou menos) ou triste (não entendi). O professor pode pedir que os alunos expliquem suas escolhas.                                                                                                                                             |"
          },
          "metadata": {}
        },
        {
          "output_type": "display_data",
          "data": {
            "text/plain": [
              "<IPython.core.display.Markdown object>"
            ],
            "text/markdown": ""
          },
          "metadata": {}
        },
        {
          "output_type": "display_data",
          "data": {
            "text/plain": [
              "<IPython.core.display.Markdown object>"
            ],
            "text/markdown": "> ### Semana 4: Revisão e Aplicação do Alfabeto"
          },
          "metadata": {}
        },
        {
          "output_type": "display_data",
          "data": {
            "text/plain": [
              "<IPython.core.display.Markdown object>"
            ],
            "text/markdown": ""
          },
          "metadata": {}
        },
        {
          "output_type": "display_data",
          "data": {
            "text/plain": [
              "<IPython.core.display.Markdown object>"
            ],
            "text/markdown": "> | Dia    | Horário        | Atividade                                                                      | Tipo | Materiais                                                                                               | Avaliação                                                     | Observações                                                                                                                                                                                                                  |"
          },
          "metadata": {}
        },
        {
          "output_type": "display_data",
          "data": {
            "text/plain": [
              "<IPython.core.display.Markdown object>"
            ],
            "text/markdown": "> | :----- | :------------- | :----------------------------------------------------------------------------- | :--- | :------------------------------------------------------------------------------------------------------ | :------------------------------------------------------------ | :--------------------------------------------------------------------------------------------------------------------------------------------------------------------------------------------------------------------------- |"
          },
          "metadata": {}
        },
        {
          "output_type": "display_data",
          "data": {
            "text/plain": [
              "<IPython.core.display.Markdown object>"
            ],
            "text/markdown": "> | **Seg** | **Manhã**     | Mural do Alfabeto (finalização).                                              | AP   | Cartolina grande, revistas, jornais, cola, tesoura.                                                     | Observação da contribuição individual e coletiva.               | Organizar o mural de forma colaborativa e destacar a importância de cada letra.                                                                                                                                              |"
          },
          "metadata": {}
        },
        {
          "output_type": "display_data",
          "data": {
            "text/plain": [
              "<IPython.core.display.Markdown object>"
            ],
            "text/markdown": "> | **Ter** | **Manhã**     | Caça-Palavras Temático (Avaliação Somativa).                                                    | AS   | Folhas com caça-palavras.                                                                    | Avaliação da identificação de palavras.                       | Oferecer ajuda para alunos com dificuldade na leitura.                                                                                                                                                                      |"
          },
          "metadata": {}
        },
        {
          "output_type": "display_data",
          "data": {
            "text/plain": [
              "<IPython.core.display.Markdown object>"
            ],
            "text/markdown": "> | **Qua** | **Manhã**     | Correspondência Letra-Imagem (Avaliação Somativa).                                  | AS  | Imagens e letras impressas.                                                     | Avaliação escrita da associação da letra a imagem                                                                      | Avaliação somativa da atividade                                                                                                                                                                      |"
          },
          "metadata": {}
        },
        {
          "output_type": "display_data",
          "data": {
            "text/plain": [
              "<IPython.core.display.Markdown object>"
            ],
            "text/markdown": "> | **Qui** | **Manhã**     | Registro Anecdótico (Avaliação Formativa)                                               | AF   | Fichas de registro individual.                                                                        | Registro Anecdótico.               | Avaliar individualmente as maiores dificuldades dos alunos e verificar o progresso de cada um                                                                                                                                              |"
          },
          "metadata": {}
        },
        {
          "output_type": "display_data",
          "data": {
            "text/plain": [
              "<IPython.core.display.Markdown object>"
            ],
            "text/markdown": ""
          },
          "metadata": {}
        },
        {
          "output_type": "display_data",
          "data": {
            "text/plain": [
              "<IPython.core.display.Markdown object>"
            ],
            "text/markdown": "> **Considerações Finais:**"
          },
          "metadata": {}
        },
        {
          "output_type": "display_data",
          "data": {
            "text/plain": [
              "<IPython.core.display.Markdown object>"
            ],
            "text/markdown": ""
          },
          "metadata": {}
        },
        {
          "output_type": "display_data",
          "data": {
            "text/plain": [
              "<IPython.core.display.Markdown object>"
            ],
            "text/markdown": "> *   **Flexibilidade:** Este cronograma é uma sugestão e pode ser adaptado às necessidades e ao ritmo da turma."
          },
          "metadata": {}
        },
        {
          "output_type": "display_data",
          "data": {
            "text/plain": [
              "<IPython.core.display.Markdown object>"
            ],
            "text/markdown": "> *   **Individualização:** Oferecer apoio individualizado aos alunos com dificuldades, seja durante as atividades ou em momentos extras."
          },
          "metadata": {}
        },
        {
          "output_type": "display_data",
          "data": {
            "text/plain": [
              "<IPython.core.display.Markdown object>"
            ],
            "text/markdown": "> *   **Comunicação:** Manter uma comunicação aberta com os pais, informando sobre o progresso dos alunos e solicitando apoio em casa."
          },
          "metadata": {}
        },
        {
          "output_type": "display_data",
          "data": {
            "text/plain": [
              "<IPython.core.display.Markdown object>"
            ],
            "text/markdown": "> *   **Diversão:** Priorizar atividades lúdicas e motivadoras, tornando o aprendizado do alfabeto uma experiência prazerosa para os alunos."
          },
          "metadata": {}
        },
        {
          "output_type": "display_data",
          "data": {
            "text/plain": [
              "<IPython.core.display.Markdown object>"
            ],
            "text/markdown": "> *   **Avaliação Contínua:** A avaliação deve ser contínua e diversificada, utilizando diferentes instrumentos e estratégias para acompanhar o progresso dos alunos."
          },
          "metadata": {}
        },
        {
          "output_type": "display_data",
          "data": {
            "text/plain": [
              "<IPython.core.display.Markdown object>"
            ],
            "text/markdown": ""
          },
          "metadata": {}
        },
        {
          "output_type": "display_data",
          "data": {
            "text/plain": [
              "<IPython.core.display.Markdown object>"
            ],
            "text/markdown": "> Este cronograma visa fornecer uma estrutura para o ensino do alfabeto, combinando atividades lúdicas, práticas e avaliações formativas e somativas para garantir um aprendizado eficaz e significativo."
          },
          "metadata": {}
        },
        {
          "output_type": "display_data",
          "data": {
            "text/plain": [
              "<IPython.core.display.Markdown object>"
            ],
            "text/markdown": ""
          },
          "metadata": {}
        },
        {
          "output_type": "stream",
          "name": "stdout",
          "text": [
            "--------------------------------------------------------------\n"
          ]
        }
      ]
    },
    {
      "cell_type": "code",
      "source": [
        "'''\n",
        "# --- Exportação para PDF (com Formatação CSS) ---\n",
        "import pdfkit\n",
        "import html\n",
        "import os\n",
        "from google.colab import files\n",
        "\n",
        "def exportar_para_pdf_formatado(plano, nome_arquivo=\"plano_de_aula.pdf\"):\n",
        "    html_content = \"\"\"\n",
        "    <html>\n",
        "    <head>\n",
        "        <meta charset='UTF-8'>\n",
        "        <title>Plano de Aula Formatado</title>\n",
        "        <style>\n",
        "            body {\n",
        "                font-family: Arial, sans-serif;\n",
        "                line-height: 1.6;\n",
        "                margin: 20mm; /* Adiciona margens nas páginas */\n",
        "            }\n",
        "            h1 {\n",
        "                color: #333;\n",
        "                text-align: center;\n",
        "                margin-bottom: 20px;\n",
        "            }\n",
        "            h2 {\n",
        "                color: #555;\n",
        "                margin-top: 30px;\n",
        "                border-bottom: 1px solid #eee;\n",
        "                padding-bottom: 5px;\n",
        "            }\n",
        "            h3 {\n",
        "                color: #777;\n",
        "                margin-top: 20px;\n",
        "                margin-bottom: 10px;\n",
        "            }\n",
        "            ul {\n",
        "                margin-bottom: 20px;\n",
        "            }\n",
        "            li {\n",
        "                margin-bottom: 5px;\n",
        "            }\n",
        "            p {\n",
        "                margin-bottom: 15px;\n",
        "            }\n",
        "            /* Exemplo: Adicionar espaço entre as seções */\n",
        "            .section {\n",
        "                margin-bottom: 40px;\n",
        "            }\n",
        "        </style>\n",
        "    </head>\n",
        "    <body>\n",
        "    <h1>Plano de Aula</h1>\n",
        "    \"\"\"\n",
        "\n",
        "    for chave, valor in plano.items():\n",
        "        html_content += f\"<div class='section'>\"\n",
        "        html_content += f\"<h2>{html.escape(str(chave))}</h2>\"\n",
        "        if isinstance(valor, list):\n",
        "            html_content += \"<ul>\"\n",
        "            for item in valor:\n",
        "                item_limpo = item.replace('•', '').strip()\n",
        "                html_content += f\"<li>{html.escape(str(item_limpo))}</li>\"\n",
        "            html_content += \"</ul>\"\n",
        "        elif isinstance(valor, dict):\n",
        "            for subchave, itens in valor.items():\n",
        "                html_content += f\"<h3>{html.escape(str(subchave))}</h3><ul>\"\n",
        "                if isinstance(itens, list):\n",
        "                     for item in itens:\n",
        "                        item_limpo = item.replace('•', '').strip()\n",
        "                        html_content += f\"<li>{html.escape(str(item_limpo))}</li>\"\n",
        "                     html_content += \"</ul>\"\n",
        "                else:\n",
        "                     html_content += f\"<p>{html.escape(str(itens))}</p>\"\n",
        "        else:\n",
        "            html_content += f\"<p>{html.escape(str(valor))}</p>\"\n",
        "        html_content += \"</div>\"\n",
        "\n",
        "    html_content += \"</body></html>\"\n",
        "\n",
        "    html_temp_file = \"temp_plano_de_aula_formatado.html\"\n",
        "    try:\n",
        "        with open(html_temp_file, \"w\", encoding=\"utf-8\") as f:\n",
        "            f.write(html_content)\n",
        "\n",
        "        path_wkhtmltopdf = r'/usr/bin/wkhtmltopdf'\n",
        "        config = pdfkit.configuration(wkhtmltopdf=path_wkhtmltopdf)\n",
        "\n",
        "        # Converter o arquivo HTML temporário para PDF\n",
        "        pdfkit.from_file(html_temp_file, nome_arquivo, configuration=config)\n",
        "        print(f\"\\nPDF formatado exportado como '{nome_arquivo}'\")\n",
        "\n",
        "        # Arquivo para download\n",
        "        files.download(nome_arquivo)\n",
        "\n",
        "    except Exception as e:\n",
        "        print(f\"Ocorreu um erro ao exportar para PDF formatado: {e}\")\n",
        "        print(\"Certifique-se de que wkhtmltopdf está instalado corretamente e acessível no caminho especificado.\")\n",
        "\n",
        "    finally:\n",
        "        # Remover HTML temporário\n",
        "        if os.path.exists(html_temp_file):\n",
        "            os.remove(html_temp_file)\n",
        "\n",
        "exportar_para_pdf_formatado(plano)\n",
        "'''"
      ],
      "metadata": {
        "colab": {
          "base_uri": "https://localhost:8080/",
          "height": 140
        },
        "id": "XaRbozxbjv8p",
        "outputId": "fb97ff95-993a-4bc1-ff2d-ff9283fd4064"
      },
      "execution_count": 138,
      "outputs": [
        {
          "output_type": "execute_result",
          "data": {
            "text/plain": [
              "'\\n# --- Exportação para PDF (com Formatação CSS) ---\\nimport pdfkit\\nimport html\\nimport os\\nfrom google.colab import files\\n\\ndef exportar_para_pdf_formatado(plano, nome_arquivo=\"plano_de_aula.pdf\"):\\n    html_content = \"\"\"\\n    <html>\\n    <head>\\n        <meta charset=\\'UTF-8\\'>\\n        <title>Plano de Aula Formatado</title>\\n        <style>\\n            body {\\n                font-family: Arial, sans-serif;\\n                line-height: 1.6;\\n                margin: 20mm; /* Adiciona margens nas páginas */\\n            }\\n            h1 {\\n                color: #333;\\n                text-align: center;\\n                margin-bottom: 20px;\\n            }\\n            h2 {\\n                color: #555;\\n                margin-top: 30px;\\n                border-bottom: 1px solid #eee;\\n                padding-bottom: 5px;\\n            }\\n            h3 {\\n                color: #777;\\n                margin-top: 20px;\\n                margin-bottom: 10px;\\n            }\\n            ul {\\n                margin-bottom: 20px;\\n            }\\n            li {\\n                margin-bottom: 5px;\\n            }\\n            p {\\n                margin-bottom: 15px;\\n            }\\n            /* Exemplo: Adicionar espaço entre as seções */\\n            .section {\\n                margin-bottom: 40px;\\n            }\\n        </style>\\n    </head>\\n    <body>\\n    <h1>Plano de Aula</h1>\\n    \"\"\" \\n\\n    for chave, valor in plano.items():\\n        html_content += f\"<div class=\\'section\\'>\"\\n        html_content += f\"<h2>{html.escape(str(chave))}</h2>\"\\n        if isinstance(valor, list):\\n            html_content += \"<ul>\"\\n            for item in valor:\\n                item_limpo = item.replace(\\'•\\', \\'\\').strip()\\n                html_content += f\"<li>{html.escape(str(item_limpo))}</li>\"\\n            html_content += \"</ul>\"\\n        elif isinstance(valor, dict):\\n            for subchave, itens in valor.items():\\n                html_content += f\"<h3>{html.escape(str(subchave))}</h3><ul>\"\\n                if isinstance(itens, list):\\n                     for item in itens:\\n                        item_limpo = item.replace(\\'•\\', \\'\\').strip()\\n                        html_content += f\"<li>{html.escape(str(item_limpo))}</li>\"\\n                     html_content += \"</ul>\"\\n                else: \\n                     html_content += f\"<p>{html.escape(str(itens))}</p>\"\\n        else: \\n            html_content += f\"<p>{html.escape(str(valor))}</p>\"\\n        html_content += \"</div>\" \\n\\n    html_content += \"</body></html>\" \\n\\n    html_temp_file = \"temp_plano_de_aula_formatado.html\"\\n    try:\\n        with open(html_temp_file, \"w\", encoding=\"utf-8\") as f:\\n            f.write(html_content)\\n\\n        path_wkhtmltopdf = r\\'/usr/bin/wkhtmltopdf\\'\\n        config = pdfkit.configuration(wkhtmltopdf=path_wkhtmltopdf)\\n\\n        # Converter o arquivo HTML temporário para PDF\\n        pdfkit.from_file(html_temp_file, nome_arquivo, configuration=config)\\n        print(f\"\\nPDF formatado exportado como \\'{nome_arquivo}\\'\")\\n\\n        # Arquivo para download\\n        files.download(nome_arquivo)\\n\\n    except Exception as e:\\n        print(f\"Ocorreu um erro ao exportar para PDF formatado: {e}\")\\n        print(\"Certifique-se de que wkhtmltopdf está instalado corretamente e acessível no caminho especificado.\")\\n\\n    finally:\\n        # Remover HTML temporário\\n        if os.path.exists(html_temp_file):\\n            os.remove(html_temp_file)\\n\\nexportar_para_pdf_formatado(plano)\\n'"
            ],
            "application/vnd.google.colaboratory.intrinsic+json": {
              "type": "string"
            }
          },
          "metadata": {},
          "execution_count": 138
        }
      ]
    }
  ]
}