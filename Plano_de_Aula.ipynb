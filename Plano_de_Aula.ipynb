{
  "nbformat": 4,
  "nbformat_minor": 0,
  "metadata": {
    "colab": {
      "provenance": [],
      "include_colab_link": true
    },
    "kernelspec": {
      "name": "python3",
      "display_name": "Python 3"
    },
    "language_info": {
      "name": "python"
    }
  },
  "cells": [
    {
      "cell_type": "markdown",
      "metadata": {
        "id": "view-in-github",
        "colab_type": "text"
      },
      "source": [
        "<a href=\"https://colab.research.google.com/github/Edsonalex/class-planner/blob/main/Plano_de_Aula.ipynb\" target=\"_parent\"><img src=\"https://colab.research.google.com/assets/colab-badge.svg\" alt=\"Open In Colab\"/></a>"
      ]
    },
    {
      "cell_type": "code",
      "source": [
        "!pip -q install google-genai\n",
        "!pip install -q pdfkit\n",
        "!apt-get update -qq\n",
        "!apt-get install -q wkhtmltopdf"
      ],
      "metadata": {
        "id": "UCCbECexLk_h"
      },
      "execution_count": null,
      "outputs": []
    },
    {
      "cell_type": "code",
      "source": [
        "# Configura a API Key do Google Gemini\n",
        "\n",
        "import os\n",
        "import google.generativeai as genai\n",
        "from google.colab import userdata\n",
        "\n",
        "os.environ[\"GOOGLE_API_KEY\"] = userdata.get('GOOGLE_API_KEY')"
      ],
      "metadata": {
        "id": "NfCqHo1tLk8P"
      },
      "execution_count": 115,
      "outputs": []
    },
    {
      "cell_type": "code",
      "source": [
        "# Configura o cliente da SDK do Gemini\n",
        "\n",
        "from google import genai\n",
        "\n",
        "client = genai.Client()\n",
        "\n",
        "MODEL_ID = \"gemini-2.0-flash\""
      ],
      "metadata": {
        "id": "bV4w0H5TLk5g"
      },
      "execution_count": 116,
      "outputs": []
    },
    {
      "cell_type": "code",
      "source": [
        "# Instalar Framework de agentes do Google ################################################\n",
        "!pip install -q google-adk"
      ],
      "metadata": {
        "id": "a1eRPalxEnj7"
      },
      "execution_count": 117,
      "outputs": []
    },
    {
      "cell_type": "code",
      "execution_count": 118,
      "metadata": {
        "id": "aePV2bdfDeoW"
      },
      "outputs": [],
      "source": [
        "from google.adk.agents import Agent\n",
        "from google.adk.runners import Runner\n",
        "from google.adk.sessions import InMemorySessionService\n",
        "from google.adk.tools import google_search\n",
        "from google.genai import types  # Para criar conteúdos (Content e Part)\n",
        "from datetime import date\n",
        "import textwrap # Para formatar melhor a saída de texto\n",
        "from IPython.display import display, Markdown # Para exibir texto formatado no Colab\n",
        "import requests # Para fazer requisições HTTP\n",
        "import warnings\n",
        "\n",
        "warnings.filterwarnings(\"ignore\")"
      ]
    },
    {
      "cell_type": "code",
      "source": [
        "# Função auxiliar que envia uma mensagem para um agente via Runner e retorna a resposta final\n",
        "def call_agent(agent: Agent, message_text: str) -> str:\n",
        "    # Cria um serviço de sessão em memória\n",
        "    session_service = InMemorySessionService()\n",
        "    # Cria uma nova sessão (você pode personalizar os IDs conforme necessário)\n",
        "    session = session_service.create_session(app_name=agent.name, user_id=\"user1\", session_id=\"session1\")\n",
        "    # Cria um Runner para o agente\n",
        "    runner = Runner(agent=agent, app_name=agent.name, session_service=session_service)\n",
        "    # Cria o conteúdo da mensagem de entrada\n",
        "    content = types.Content(role=\"user\", parts=[types.Part(text=message_text)])\n",
        "\n",
        "    final_response = \"\"\n",
        "    # Itera assincronamente pelos eventos retornados durante a execução do agente\n",
        "    for event in runner.run(user_id=\"user1\", session_id=\"session1\", new_message=content):\n",
        "        if event.is_final_response():\n",
        "          for part in event.content.parts:\n",
        "            if part.text is not None:\n",
        "              final_response += part.text\n",
        "              final_response += \"\\n\"\n",
        "    return final_response"
      ],
      "metadata": {
        "id": "_xP4lWhsS5ko"
      },
      "execution_count": 119,
      "outputs": []
    },
    {
      "cell_type": "code",
      "source": [
        "# Função auxiliar para exibir texto formatado em Markdown no Colab\n",
        "def to_markdown(text):\n",
        "  text = text.replace('•', '  *')\n",
        "  return Markdown(textwrap.indent(text, '> ', predicate=lambda _: True))"
      ],
      "metadata": {
        "id": "8dosiodaxfFR"
      },
      "execution_count": 120,
      "outputs": []
    },
    {
      "cell_type": "code",
      "source": [
        "##########################################\n",
        "# --- Agente 1: Planejador Pedagógico --- #\n",
        "##########################################\n",
        "class PlanejadorPedagogico:\n",
        "    def __init__(self, model):\n",
        "        self.agente_conteudo = AgenteConteudo(model)\n",
        "        self.agente_atividades = AgenteAtividades(model)\n",
        "        self.agente_avaliacao = AgenteAvaliacao(model)\n",
        "        self.agente_agenda = AgenteAgenda(model)\n",
        "\n",
        "    def planejar_aula(self, serie, disciplina, tema, duracao):\n",
        "        conteudo = self.agente_conteudo.sugerir_conteudo(serie, disciplina, tema)\n",
        "        atividades = self.agente_atividades.sugerir_atividades(serie, tema)\n",
        "        avaliacoes = self.agente_avaliacao.sugerir_avaliacoes(tema)\n",
        "        cronograma = self.agente_agenda.gerar_cronograma(duracao, conteudo, atividades, avaliacoes)\n",
        "\n",
        "        return {\n",
        "            \"Série\": serie,\n",
        "            \"Disciplina\": disciplina,\n",
        "            \"Tema\": tema,\n",
        "            \"Conteúdo\": conteudo,\n",
        "            \"Atividades\": atividades,\n",
        "            \"Avaliações\": avaliacoes,\n",
        "            \"Cronograma\": cronograma\n",
        "        }"
      ],
      "metadata": {
        "id": "o8bqIfi_DyH8"
      },
      "execution_count": 121,
      "outputs": []
    },
    {
      "cell_type": "code",
      "source": [
        "################################################\n",
        "# --- Agente 2: Criador de Conteúdo --- #\n",
        "################################################\n",
        "class AgenteConteudo:\n",
        "    def __init__(self, model):\n",
        "        self.model = model\n",
        "    def sugerir_conteudo(self, serie, disciplina, tema):\n",
        "        prompt = (\n",
        "            f\"Você é um especialista em educação básica. Sugira um conteúdo didático para uma aula de {disciplina} \"\n",
        "            f\"do {serie} ano do ensino fundamental sobre o tema '{tema}', de acordo com a BNCC. Seja objetivo e sucinto. Escreva como um professor.\"\n",
        "        )\n",
        "        response = self.model.generate_content(prompt)\n",
        "        return response.text"
      ],
      "metadata": {
        "id": "y3VO1uo5_ghO"
      },
      "execution_count": 136,
      "outputs": []
    },
    {
      "cell_type": "code",
      "source": [
        "######################################\n",
        "# --- Agente 3: Criador de Atividades --- #\n",
        "######################################\n",
        "class AgenteAtividades:\n",
        "    def __init__(self, model):\n",
        "        self.model = model\n",
        "    def sugerir_atividades(self, serie, tema):\n",
        "        prompt = (\n",
        "            f\"Sugira duas atividades lúdicas e práticas para alunos do {serie} ano do ensino fundamental, \"\n",
        "            f\"sobre o tema '{tema}'. As atividades devem ser simples e possíveis de realizar em sala de aula.\"\n",
        "        )\n",
        "        response = self.model.generate_content(prompt)\n",
        "        return response.text.split(\"\\n\")"
      ],
      "metadata": {
        "id": "uOqlg2TRLVh1"
      },
      "execution_count": 123,
      "outputs": []
    },
    {
      "cell_type": "code",
      "source": [
        "##########################################\n",
        "# --- Agente 4: Criador de Avaliações --- #\n",
        "##########################################\n",
        "class AgenteAvaliacao:\n",
        "    def __init__(self, model):\n",
        "        self.model = model\n",
        "    def sugerir_avaliacoes(self, tema):\n",
        "        prompt = (\n",
        "            f\"Sugira instrumentos de avaliação divididas nas cateorias Formativa (autoavaliação e observação) e Somativa(provas, testes, trabalhos) para o tema {tema} e a série {serie}.\",\n",
        "            f\"Recomende avaliação escrita com problemas contextualizados.\"\n",
        "        )\n",
        "        response = self.model.generate_content(prompt)\n",
        "        return response.text.split(\"\\n\")"
      ],
      "metadata": {
        "id": "_aTb1SdkLeT6"
      },
      "execution_count": 124,
      "outputs": []
    },
    {
      "cell_type": "code",
      "source": [
        "##########################################\n",
        "# --- Agente 5: Criador de Agenda --- #\n",
        "##########################################\n",
        "class AgenteAgenda:\n",
        "    def __init__(self, model):\n",
        "      self.model = model\n",
        "    def gerar_cronograma(self, duracao, conteudo, atividades, avaliacoes):\n",
        "        prompt = (\n",
        "            f\"Organize os conteúdos, atividades e avaliações num cronograma semanal em formato de calendário considerando o tema{tema}, a duração {duracao}, as atividades propostas {atividades} e as avalaliações {avaliacoes}.\",\n",
        "            f\"Considere número de 4 aulas por semana e o tempo de 50 minutos necessário por aula\"\n",
        "        )\n",
        "        response = self.model.generate_content(prompt)\n",
        "        return response.text.split(\"\\n\")"
      ],
      "metadata": {
        "id": "mbLF7XDmzFqO"
      },
      "execution_count": 125,
      "outputs": []
    },
    {
      "cell_type": "code",
      "source": [
        "def iniciar_prompt():\n",
        "    print(\"=== Gerador de Plano de Aula ===\")\n",
        "    serie = input(\"Série (ex: 5º): \")\n",
        "    disciplina = input(\"Disciplina (ex: Matemática): \")\n",
        "    tema = input(\"Tema (ex: Frações): \")\n",
        "    duracao = int(input(\"Duração em semanas: \"))\n",
        "    return serie, disciplina, tema, duracao\n",
        "\n",
        "import google.generativeai as genai\n",
        "\n",
        "model = genai.GenerativeModel(MODEL_ID)\n",
        "planejador = PlanejadorPedagogico(model)\n",
        "\n",
        "serie, disciplina, tema, duracao = iniciar_prompt()\n",
        "\n",
        "plano = planejador.planejar_aula(serie, disciplina, tema, duracao)\n",
        "\n",
        "print(\"\\n\\n🚀 Iniciando o Sistema de Criação de Planejamento Pedagógico 🚀\")\n",
        "print(f\"Maravilha! Vamos então criar o planejamento em {disciplina} para alunos da {serie} série com o tema {tema} e com duração de {duracao} semana(s).\")\n",
        "\n",
        "conteudo = plano[\"Conteúdo\"]\n",
        "print(\"\\n--- 📝 Resultado do Gerador de Conteúdo (Conteúdo) ---\\n\")\n",
        "display(to_markdown(conteudo))\n",
        "print(\"--------------------------------------------------------------\")\n",
        "\n",
        "atividades = plano[\"Atividades\"]\n",
        "print(\"\\n--- 📝 Resultado do Gerador de Atividades (Atividades) ---\\n\")\n",
        "for atividade in atividades:\n",
        "    display(to_markdown(atividade))\n",
        "print(\"--------------------------------------------------------------\")\n",
        "print(\"--------------------------------------------------------------\")\n",
        "\n",
        "avaliacoes = plano[\"Avaliações\"]\n",
        "print(\"\\n--- 📝 Resultado do Gerador de Avaliações (Avaliações) ---\\n\")\n",
        "for avaliacao in avaliacoes:\n",
        "    display(to_markdown(avaliacao))\n",
        "print(\"--------------------------------------------------------------\")\n",
        "\n",
        "cronograma = plano[\"Cronograma\"]\n",
        "print(\"\\n--- 📝 Resultado do Gerador de Cronograma (Cronograma) ---\\n\")\n",
        "if isinstance(cronograma, list):\n",
        "    for item in cronograma:\n",
        "        display(to_markdown(item))\n",
        "elif isinstance(cronograma, dict):\n",
        "    for key, value in cronograma.items():\n",
        "        display(to_markdown(f\"{key}:\\n{value}\"))\n",
        "else:\n",
        "    display(to_markdown(str(cronograma)))\n",
        "\n",
        "print(\"--------------------------------------------------------------\")"
      ],
      "metadata": {
        "id": "iw7dD4wS5ojS"
      },
      "execution_count": null,
      "outputs": []
    },
    {
      "cell_type": "code",
      "source": [
        "'''\n",
        "# --- Exportação para PDF (com Formatação CSS) ---\n",
        "import pdfkit\n",
        "import html\n",
        "import os\n",
        "from google.colab import files\n",
        "\n",
        "def exportar_para_pdf_formatado(plano, nome_arquivo=\"plano_de_aula.pdf\"):\n",
        "    html_content = \"\"\"\n",
        "    <html>\n",
        "    <head>\n",
        "        <meta charset='UTF-8'>\n",
        "        <title>Plano de Aula Formatado</title>\n",
        "        <style>\n",
        "            body {\n",
        "                font-family: Arial, sans-serif;\n",
        "                line-height: 1.6;\n",
        "                margin: 20mm; /* Adiciona margens nas páginas */\n",
        "            }\n",
        "            h1 {\n",
        "                color: #333;\n",
        "                text-align: center;\n",
        "                margin-bottom: 20px;\n",
        "            }\n",
        "            h2 {\n",
        "                color: #555;\n",
        "                margin-top: 30px;\n",
        "                border-bottom: 1px solid #eee;\n",
        "                padding-bottom: 5px;\n",
        "            }\n",
        "            h3 {\n",
        "                color: #777;\n",
        "                margin-top: 20px;\n",
        "                margin-bottom: 10px;\n",
        "            }\n",
        "            ul {\n",
        "                margin-bottom: 20px;\n",
        "            }\n",
        "            li {\n",
        "                margin-bottom: 5px;\n",
        "            }\n",
        "            p {\n",
        "                margin-bottom: 15px;\n",
        "            }\n",
        "            /* Exemplo: Adicionar espaço entre as seções */\n",
        "            .section {\n",
        "                margin-bottom: 40px;\n",
        "            }\n",
        "        </style>\n",
        "    </head>\n",
        "    <body>\n",
        "    <h1>Plano de Aula</h1>\n",
        "    \"\"\"\n",
        "\n",
        "    for chave, valor in plano.items():\n",
        "        html_content += f\"<div class='section'>\"\n",
        "        html_content += f\"<h2>{html.escape(str(chave))}</h2>\"\n",
        "        if isinstance(valor, list):\n",
        "            html_content += \"<ul>\"\n",
        "            for item in valor:\n",
        "                item_limpo = item.replace('•', '').strip()\n",
        "                html_content += f\"<li>{html.escape(str(item_limpo))}</li>\"\n",
        "            html_content += \"</ul>\"\n",
        "        elif isinstance(valor, dict):\n",
        "            for subchave, itens in valor.items():\n",
        "                html_content += f\"<h3>{html.escape(str(subchave))}</h3><ul>\"\n",
        "                if isinstance(itens, list):\n",
        "                     for item in itens:\n",
        "                        item_limpo = item.replace('•', '').strip()\n",
        "                        html_content += f\"<li>{html.escape(str(item_limpo))}</li>\"\n",
        "                     html_content += \"</ul>\"\n",
        "                else:\n",
        "                     html_content += f\"<p>{html.escape(str(itens))}</p>\"\n",
        "        else:\n",
        "            html_content += f\"<p>{html.escape(str(valor))}</p>\"\n",
        "        html_content += \"</div>\"\n",
        "\n",
        "    html_content += \"</body></html>\"\n",
        "\n",
        "    html_temp_file = \"temp_plano_de_aula_formatado.html\"\n",
        "    try:\n",
        "        with open(html_temp_file, \"w\", encoding=\"utf-8\") as f:\n",
        "            f.write(html_content)\n",
        "\n",
        "        path_wkhtmltopdf = r'/usr/bin/wkhtmltopdf'\n",
        "        config = pdfkit.configuration(wkhtmltopdf=path_wkhtmltopdf)\n",
        "\n",
        "        # Converter o arquivo HTML temporário para PDF\n",
        "        pdfkit.from_file(html_temp_file, nome_arquivo, configuration=config)\n",
        "        print(f\"\\nPDF formatado exportado como '{nome_arquivo}'\")\n",
        "\n",
        "        # Arquivo para download\n",
        "        files.download(nome_arquivo)\n",
        "\n",
        "    except Exception as e:\n",
        "        print(f\"Ocorreu um erro ao exportar para PDF formatado: {e}\")\n",
        "        print(\"Certifique-se de que wkhtmltopdf está instalado corretamente e acessível no caminho especificado.\")\n",
        "\n",
        "    finally:\n",
        "        # Remover HTML temporário\n",
        "        if os.path.exists(html_temp_file):\n",
        "            os.remove(html_temp_file)\n",
        "\n",
        "exportar_para_pdf_formatado(plano)\n",
        "'''"
      ],
      "metadata": {
        "colab": {
          "base_uri": "https://localhost:8080/",
          "height": 140
        },
        "id": "XaRbozxbjv8p",
        "outputId": "fb97ff95-993a-4bc1-ff2d-ff9283fd4064"
      },
      "execution_count": 138,
      "outputs": [
        {
          "output_type": "execute_result",
          "data": {
            "text/plain": [
              "'\\n# --- Exportação para PDF (com Formatação CSS) ---\\nimport pdfkit\\nimport html\\nimport os\\nfrom google.colab import files\\n\\ndef exportar_para_pdf_formatado(plano, nome_arquivo=\"plano_de_aula.pdf\"):\\n    html_content = \"\"\"\\n    <html>\\n    <head>\\n        <meta charset=\\'UTF-8\\'>\\n        <title>Plano de Aula Formatado</title>\\n        <style>\\n            body {\\n                font-family: Arial, sans-serif;\\n                line-height: 1.6;\\n                margin: 20mm; /* Adiciona margens nas páginas */\\n            }\\n            h1 {\\n                color: #333;\\n                text-align: center;\\n                margin-bottom: 20px;\\n            }\\n            h2 {\\n                color: #555;\\n                margin-top: 30px;\\n                border-bottom: 1px solid #eee;\\n                padding-bottom: 5px;\\n            }\\n            h3 {\\n                color: #777;\\n                margin-top: 20px;\\n                margin-bottom: 10px;\\n            }\\n            ul {\\n                margin-bottom: 20px;\\n            }\\n            li {\\n                margin-bottom: 5px;\\n            }\\n            p {\\n                margin-bottom: 15px;\\n            }\\n            /* Exemplo: Adicionar espaço entre as seções */\\n            .section {\\n                margin-bottom: 40px;\\n            }\\n        </style>\\n    </head>\\n    <body>\\n    <h1>Plano de Aula</h1>\\n    \"\"\" \\n\\n    for chave, valor in plano.items():\\n        html_content += f\"<div class=\\'section\\'>\"\\n        html_content += f\"<h2>{html.escape(str(chave))}</h2>\"\\n        if isinstance(valor, list):\\n            html_content += \"<ul>\"\\n            for item in valor:\\n                item_limpo = item.replace(\\'•\\', \\'\\').strip()\\n                html_content += f\"<li>{html.escape(str(item_limpo))}</li>\"\\n            html_content += \"</ul>\"\\n        elif isinstance(valor, dict):\\n            for subchave, itens in valor.items():\\n                html_content += f\"<h3>{html.escape(str(subchave))}</h3><ul>\"\\n                if isinstance(itens, list):\\n                     for item in itens:\\n                        item_limpo = item.replace(\\'•\\', \\'\\').strip()\\n                        html_content += f\"<li>{html.escape(str(item_limpo))}</li>\"\\n                     html_content += \"</ul>\"\\n                else: \\n                     html_content += f\"<p>{html.escape(str(itens))}</p>\"\\n        else: \\n            html_content += f\"<p>{html.escape(str(valor))}</p>\"\\n        html_content += \"</div>\" \\n\\n    html_content += \"</body></html>\" \\n\\n    html_temp_file = \"temp_plano_de_aula_formatado.html\"\\n    try:\\n        with open(html_temp_file, \"w\", encoding=\"utf-8\") as f:\\n            f.write(html_content)\\n\\n        path_wkhtmltopdf = r\\'/usr/bin/wkhtmltopdf\\'\\n        config = pdfkit.configuration(wkhtmltopdf=path_wkhtmltopdf)\\n\\n        # Converter o arquivo HTML temporário para PDF\\n        pdfkit.from_file(html_temp_file, nome_arquivo, configuration=config)\\n        print(f\"\\nPDF formatado exportado como \\'{nome_arquivo}\\'\")\\n\\n        # Arquivo para download\\n        files.download(nome_arquivo)\\n\\n    except Exception as e:\\n        print(f\"Ocorreu um erro ao exportar para PDF formatado: {e}\")\\n        print(\"Certifique-se de que wkhtmltopdf está instalado corretamente e acessível no caminho especificado.\")\\n\\n    finally:\\n        # Remover HTML temporário\\n        if os.path.exists(html_temp_file):\\n            os.remove(html_temp_file)\\n\\nexportar_para_pdf_formatado(plano)\\n'"
            ],
            "application/vnd.google.colaboratory.intrinsic+json": {
              "type": "string"
            }
          },
          "metadata": {},
          "execution_count": 138
        }
      ]
    }
  ]
}