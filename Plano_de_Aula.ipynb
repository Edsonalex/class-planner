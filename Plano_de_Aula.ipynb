{
  "nbformat": 4,
  "nbformat_minor": 0,
  "metadata": {
    "colab": {
      "provenance": [],
      "include_colab_link": true
    },
    "kernelspec": {
      "name": "python3",
      "display_name": "Python 3"
    },
    "language_info": {
      "name": "python"
    }
  },
  "cells": [
    {
      "cell_type": "markdown",
      "metadata": {
        "id": "view-in-github",
        "colab_type": "text"
      },
      "source": [
        "<a href=\"https://colab.research.google.com/github/Edsonalex/class-planner/blob/main/Plano_de_Aula.ipynb\" target=\"_parent\"><img src=\"https://colab.research.google.com/assets/colab-badge.svg\" alt=\"Open In Colab\"/></a>"
      ]
    },
    {
      "cell_type": "code",
      "source": [
        "!pip -q install google-genai"
      ],
      "metadata": {
        "id": "UCCbECexLk_h"
      },
      "execution_count": 20,
      "outputs": []
    },
    {
      "cell_type": "code",
      "source": [
        "# Configura a API Key do Google Gemini\n",
        "\n",
        "import os\n",
        "import google.generativeai as genai\n",
        "from google.colab import userdata\n",
        "\n",
        "api_key = os.getenv('GOOGLE_API_KEY')\n",
        "\n",
        "if api_key is not None:\n",
        "    genai.configure(api_key=api_key)\n",
        "else:\n",
        "  print(\"ERRO: A variável de ambiente 'GOOGLE_API_KEY' não está configurada.\")\n",
        "  print(\"Por favor, obtenha sua chave da API do Google Gemini e defina a variável de ambiente.\")\n",
        "\n",
        "os.environ[\"GOOGLE_API_KEY\"] = api_key"
      ],
      "metadata": {
        "id": "NfCqHo1tLk8P"
      },
      "execution_count": 35,
      "outputs": []
    },
    {
      "cell_type": "code",
      "source": [
        "# Configura o cliente da SDK do Gemini\n",
        "\n",
        "from google import genai\n",
        "\n",
        "client = genai.Client()\n",
        "\n",
        "MODEL_ID = \"gemini-2.0-flash\""
      ],
      "metadata": {
        "id": "bV4w0H5TLk5g"
      },
      "execution_count": 22,
      "outputs": []
    },
    {
      "cell_type": "code",
      "source": [
        "# Instalar Framework de agentes do Google ################################################\n",
        "!pip install -q google-adk"
      ],
      "metadata": {
        "id": "a1eRPalxEnj7"
      },
      "execution_count": 23,
      "outputs": []
    },
    {
      "cell_type": "code",
      "execution_count": 24,
      "metadata": {
        "id": "aePV2bdfDeoW"
      },
      "outputs": [],
      "source": [
        "from google.adk.agents import Agent\n",
        "from google.adk.runners import Runner\n",
        "from google.adk.sessions import InMemorySessionService\n",
        "from google.adk.tools import google_search\n",
        "from google.genai import types  # Para criar conteúdos (Content e Part)\n",
        "from datetime import date\n",
        "import textwrap # Para formatar melhor a saída de texto\n",
        "from IPython.display import display, Markdown # Para exibir texto formatado no Colab\n",
        "import requests # Para fazer requisições HTTP\n",
        "import warnings\n",
        "\n",
        "warnings.filterwarnings(\"ignore\")"
      ]
    },
    {
      "cell_type": "code",
      "source": [
        "# Função auxiliar que envia uma mensagem para um agente via Runner e retorna a resposta final\n",
        "def call_agent(agent: Agent, message_text: str) -> str:\n",
        "    # Cria um serviço de sessão em memória\n",
        "    session_service = InMemorySessionService()\n",
        "    # Cria uma nova sessão (você pode personalizar os IDs conforme necessário)\n",
        "    session = session_service.create_session(app_name=agent.name, user_id=\"user1\", session_id=\"session1\")\n",
        "    # Cria um Runner para o agente\n",
        "    runner = Runner(agent=agent, app_name=agent.name, session_service=session_service)\n",
        "    # Cria o conteúdo da mensagem de entrada\n",
        "    content = types.Content(role=\"user\", parts=[types.Part(text=message_text)])\n",
        "\n",
        "    final_response = \"\"\n",
        "    # Itera assincronamente pelos eventos retornados durante a execução do agente\n",
        "    for event in runner.run(user_id=\"user1\", session_id=\"session1\", new_message=content):\n",
        "        if event.is_final_response():\n",
        "          for part in event.content.parts:\n",
        "            if part.text is not None:\n",
        "              final_response += part.text\n",
        "              final_response += \"\\n\"\n",
        "    return final_response"
      ],
      "metadata": {
        "id": "_xP4lWhsS5ko"
      },
      "execution_count": 25,
      "outputs": []
    },
    {
      "cell_type": "code",
      "source": [
        "# Função auxiliar para exibir texto formatado em Markdown no Colab\n",
        "def to_markdown(text):\n",
        "  text = text.replace('•', '  *')\n",
        "  return Markdown(textwrap.indent(text, '> ', predicate=lambda _: True))"
      ],
      "metadata": {
        "id": "8dosiodaxfFR"
      },
      "execution_count": 26,
      "outputs": []
    },
    {
      "cell_type": "code",
      "source": [
        "##########################################\n",
        "# --- Agente 1: Planejador Pedagógico --- #\n",
        "##########################################\n",
        "class PlanejadorPedagogico:\n",
        "    def __init__(self, model):\n",
        "        self.agente_conteudo = AgenteConteudo(model)\n",
        "        self.agente_atividades = AgenteAtividades(model)\n",
        "        self.agente_avaliacao = AgenteAvaliacao(model)\n",
        "        self.agente_agenda = AgenteAgenda(model)\n",
        "\n",
        "    def planejar_aula(self, serie, disciplina, tema, duracao):\n",
        "        conteudo = self.agente_conteudo.sugerir_conteudo(serie, disciplina, tema)\n",
        "        atividades = self.agente_atividades.sugerir_atividades(serie, tema)\n",
        "        avaliacoes = self.agente_avaliacao.sugerir_avaliacoes(tema)\n",
        "        cronograma = self.agente_agenda.gerar_cronograma(duracao, conteudo, atividades, avaliacoes)\n",
        "\n",
        "        return {\n",
        "            \"Série\": serie,\n",
        "            \"Disciplina\": disciplina,\n",
        "            \"Tema\": tema,\n",
        "            \"Conteúdo\": conteudo,\n",
        "            \"Atividades\": atividades,\n",
        "            \"Avaliações\": avaliacoes,\n",
        "            \"Cronograma\": cronograma\n",
        "        }"
      ],
      "metadata": {
        "id": "o8bqIfi_DyH8"
      },
      "execution_count": 27,
      "outputs": []
    },
    {
      "cell_type": "code",
      "source": [
        "#########################################\n",
        "# --- Agente 2: Criador de Conteúdo --- #\n",
        "#########################################\n",
        "class AgenteConteudo:\n",
        "    def __init__(self, model):\n",
        "        self.model = model\n",
        "    def sugerir_conteudo(self, serie, disciplina, tema):\n",
        "        prompt = (\n",
        "            f\"Você é um especialista em educação básica. Sugira um conteúdo didático para uma aula de {disciplina} \"\n",
        "            f\"do {serie} ano do ensino fundamental sobre o tema '{tema}', de acordo com a BNCC. Seja objetivo e sucinto. Escreva como um professor.\"\n",
        "        )\n",
        "        response = self.model.generate_content(prompt)\n",
        "        return response.text"
      ],
      "metadata": {
        "id": "y3VO1uo5_ghO"
      },
      "execution_count": 28,
      "outputs": []
    },
    {
      "cell_type": "code",
      "source": [
        "###########################################\n",
        "# --- Agente 3: Criador de Atividades --- #\n",
        "###########################################\n",
        "class AgenteAtividades:\n",
        "    def __init__(self, model):\n",
        "        self.model = model\n",
        "    def sugerir_atividades(self, serie, tema):\n",
        "        prompt = (\n",
        "            f\"Sugira duas atividades lúdicas e práticas para alunos do {serie} ano do ensino fundamental, \"\n",
        "            f\"sobre o tema '{tema}'. As atividades devem ser simples e possíveis de realizar em sala de aula.\"\n",
        "        )\n",
        "        response = self.model.generate_content(prompt)\n",
        "        return response.text.split(\"\\n\")"
      ],
      "metadata": {
        "id": "uOqlg2TRLVh1"
      },
      "execution_count": 29,
      "outputs": []
    },
    {
      "cell_type": "code",
      "source": [
        "###########################################\n",
        "# --- Agente 4: Criador de Avaliações --- #\n",
        "###########################################\n",
        "class AgenteAvaliacao:\n",
        "    def __init__(self, model):\n",
        "        self.model = model\n",
        "    def sugerir_avaliacoes(self, tema):\n",
        "        prompt = (\n",
        "            f\"Sugira instrumentos de avaliação divididas nas cateorias Formativa (autoavaliação e observação) e Somativa(provas, testes, trabalhos) para o tema {tema} e a série {serie}.\",\n",
        "            f\"Recomende avaliação escrita com problemas contextualizados.\"\n",
        "        )\n",
        "        response = self.model.generate_content(prompt)\n",
        "        return response.text.split(\"\\n\")"
      ],
      "metadata": {
        "id": "_aTb1SdkLeT6"
      },
      "execution_count": 30,
      "outputs": []
    },
    {
      "cell_type": "code",
      "source": [
        "##########################################\n",
        "# --- Agente 5: Criador de Agenda --- #\n",
        "##########################################\n",
        "class AgenteAgenda:\n",
        "    def __init__(self, model):\n",
        "      self.model = model\n",
        "    def gerar_cronograma(self, duracao, conteudo, atividades, avaliacoes):\n",
        "        prompt = (\n",
        "            f\"Organize os conteúdos, atividades e avaliações num cronograma semanal em formato de calendário considerando o tema{tema}, a duração {duracao}, as atividades propostas {atividades} e as avalaliações {avaliacoes}.\",\n",
        "            f\"Considere número de 4 aulas por semana e o tempo de 50 minutos necessário por aula\"\n",
        "        )\n",
        "        response = self.model.generate_content(prompt)\n",
        "        return response.text.split(\"\\n\")"
      ],
      "metadata": {
        "id": "mbLF7XDmzFqO"
      },
      "execution_count": 31,
      "outputs": []
    },
    {
      "cell_type": "code",
      "source": [
        "##############################\n",
        "# --- Prompt e Resultado --- #\n",
        "##############################\n",
        "def iniciar_prompt():\n",
        "    print(\"=== Gerador de Plano de Aula ===\")\n",
        "    serie = input(\"Série (ex: 5º): \")\n",
        "    disciplina = input(\"Disciplina (ex: Matemática): \")\n",
        "    tema = input(\"Tema (ex: Frações): \")\n",
        "    duracao = int(input(\"Duração em semanas: \"))\n",
        "    return serie, disciplina, tema, duracao\n",
        "\n",
        "import google.generativeai as genai\n",
        "\n",
        "model = genai.GenerativeModel(MODEL_ID)\n",
        "planejador = PlanejadorPedagogico(model)\n",
        "\n",
        "serie, disciplina, tema, duracao = iniciar_prompt()\n",
        "\n",
        "plano = planejador.planejar_aula(serie, disciplina, tema, duracao)\n",
        "\n",
        "print(\"\\n\\n🚀 Iniciando o Sistema de Criação de Planejamento Pedagógico 🚀\")\n",
        "print(f\"Maravilha! Vamos então criar o planejamento em {disciplina} para alunos da {serie} série com o tema {tema} e com duração de {duracao} semana(s).\")\n",
        "\n",
        "conteudo = plano[\"Conteúdo\"]\n",
        "print(\"\\n--- 📝 Resultado do Gerador de Conteúdo (Conteúdo) ---\\n\")\n",
        "display(to_markdown(conteudo))\n",
        "print(\"--------------------------------------------------------------\")\n",
        "\n",
        "atividades = plano[\"Atividades\"]\n",
        "print(\"\\n--- 📝 Resultado do Gerador de Atividades (Atividades) ---\\n\")\n",
        "for atividade in atividades:\n",
        "    display(to_markdown(atividade))\n",
        "print(\"--------------------------------------------------------------\")\n",
        "print(\"--------------------------------------------------------------\")\n",
        "\n",
        "avaliacoes = plano[\"Avaliações\"]\n",
        "print(\"\\n--- 📝 Resultado do Gerador de Avaliações (Avaliações) ---\\n\")\n",
        "for avaliacao in avaliacoes:\n",
        "    display(to_markdown(avaliacao))\n",
        "print(\"--------------------------------------------------------------\")\n",
        "\n",
        "cronograma = plano[\"Cronograma\"]\n",
        "print(\"\\n--- 📝 Resultado do Gerador de Cronograma (Cronograma) ---\\n\")\n",
        "if isinstance(cronograma, list):\n",
        "    for item in cronograma:\n",
        "        display(to_markdown(item))\n",
        "elif isinstance(cronograma, dict):\n",
        "    for key, value in cronograma.items():\n",
        "        display(to_markdown(f\"{key}:\\n{value}\"))\n",
        "else:\n",
        "    display(to_markdown(str(cronograma)))\n",
        "\n",
        "print(\"--------------------------------------------------------------\")"
      ],
      "metadata": {
        "id": "iw7dD4wS5ojS",
        "outputId": "2dea55c3-e036-4344-9831-e980961088e1",
        "colab": {
          "base_uri": "https://localhost:8080/",
          "height": 1000
        }
      },
      "execution_count": 36,
      "outputs": [
        {
          "output_type": "stream",
          "name": "stdout",
          "text": [
            "=== Gerador de Plano de Aula ===\n",
            "Série (ex: 5º): 1\n",
            "Disciplina (ex: Matemática): matematica\n",
            "Tema (ex: Frações): reta numerica\n",
            "Duração em semanas: 1\n",
            "\n",
            "\n",
            "🚀 Iniciando o Sistema de Criação de Planejamento Pedagógico 🚀\n",
            "Maravilha! Vamos então criar o planejamento em matematica para alunos da 1 série com o tema reta numerica e com duração de 1 semana(s).\n",
            "\n",
            "--- 📝 Resultado do Gerador de Conteúdo (Conteúdo) ---\n",
            "\n"
          ]
        },
        {
          "output_type": "display_data",
          "data": {
            "text/plain": [
              "<IPython.core.display.Markdown object>"
            ],
            "text/markdown": "> ## Plano de Aula: Reta Numérica (1º ano EF)\n> \n> **Objetivo:** Utilizar a reta numérica para ordenar e comparar números naturais de 0 a 10, identificando regularidades e padrões. (BNCC: EF01MA01)\n> \n> **Materiais:**\n> \n> *   Reta numérica impressa (de 0 a 10) para cada aluno.\n> *   Marcadores coloridos ou canetas.\n> *   Cartões com números de 0 a 10.\n> *   Objetos para contagem (pedrinhas, feijões).\n> \n> **Desenvolvimento:**\n> \n> 1.  **Início (5 min):** Revisar a sequência numérica de 0 a 10 oralmente, utilizando os dedos.\n> 2.  **Apresentação (10 min):** Apresentar a reta numérica, explicando que é uma linha onde os números estão organizados em ordem crescente. Mostrar como cada número ocupa um espaço específico na reta.\n> 3.  **Exploração (15 min):**\n>     *   **Atividade 1:** Distribuir as retas numéricas e os marcadores. Ditar números para os alunos marcarem na reta.\n>     *   **Atividade 2:** Apresentar dois cartões com números. Perguntar qual número é maior/menor e como podemos visualizar isso na reta numérica (qual está à direita/esquerda).\n>     *   **Atividade 3:** Utilizar objetos para representar quantidades. Pedir para os alunos localizarem na reta numérica o número correspondente à quantidade.\n> 4.  **Discussão (5 min):** Promover uma discussão sobre o que aprenderam: \"O que percebemos sobre a ordem dos números na reta?\", \"Como a reta nos ajuda a comparar os números?\".\n> 5.  **Encerramento (5 min):** Propor um pequeno desafio: \"Qual número vem antes do 5? E depois do 8?\".\n> \n> **Avaliação:** Observar a participação e o desempenho dos alunos nas atividades práticas. Verificar se conseguem identificar e localizar os números na reta, e se compreendem a relação de ordem entre eles.\n> \n> **Observação:** Adaptar as atividades ao ritmo da turma. Utilizar jogos e brincadeiras para tornar a aula mais lúdica e interessante.\n"
          },
          "metadata": {}
        },
        {
          "output_type": "stream",
          "name": "stdout",
          "text": [
            "--------------------------------------------------------------\n",
            "\n",
            "--- 📝 Resultado do Gerador de Atividades (Atividades) ---\n",
            "\n"
          ]
        },
        {
          "output_type": "display_data",
          "data": {
            "text/plain": [
              "<IPython.core.display.Markdown object>"
            ],
            "text/markdown": "> Com certeza! Aqui estão algumas ideias de atividades lúdicas e práticas sobre a reta numérica para alunos do 1º ano do Ensino Fundamental, focando na simplicidade e aplicabilidade em sala de aula:"
          },
          "metadata": {}
        },
        {
          "output_type": "display_data",
          "data": {
            "text/plain": [
              "<IPython.core.display.Markdown object>"
            ],
            "text/markdown": ""
          },
          "metadata": {}
        },
        {
          "output_type": "display_data",
          "data": {
            "text/plain": [
              "<IPython.core.display.Markdown object>"
            ],
            "text/markdown": "> **1. A Reta Numérica Humana:**"
          },
          "metadata": {}
        },
        {
          "output_type": "display_data",
          "data": {
            "text/plain": [
              "<IPython.core.display.Markdown object>"
            ],
            "text/markdown": ""
          },
          "metadata": {}
        },
        {
          "output_type": "display_data",
          "data": {
            "text/plain": [
              "<IPython.core.display.Markdown object>"
            ],
            "text/markdown": "> *   **Materiais:** Cartolinas ou pedaços de papel maiores com os números de 0 a 10 (ou até onde sua turma já aprendeu)."
          },
          "metadata": {}
        },
        {
          "output_type": "display_data",
          "data": {
            "text/plain": [
              "<IPython.core.display.Markdown object>"
            ],
            "text/markdown": "> *   **Como fazer:**"
          },
          "metadata": {}
        },
        {
          "output_type": "display_data",
          "data": {
            "text/plain": [
              "<IPython.core.display.Markdown object>"
            ],
            "text/markdown": ">     1.  Espalhe as cartolinas no chão, formando uma reta numérica grande."
          },
          "metadata": {}
        },
        {
          "output_type": "display_data",
          "data": {
            "text/plain": [
              "<IPython.core.display.Markdown object>"
            ],
            "text/markdown": ">     2.  Chame um aluno para ser o \"marcador\". Dê a ele um comando simples, como \"Comece no número 2\" ou \"Ande 3 casas para frente a partir do 1\"."
          },
          "metadata": {}
        },
        {
          "output_type": "display_data",
          "data": {
            "text/plain": [
              "<IPython.core.display.Markdown object>"
            ],
            "text/markdown": ">     3.  O aluno deve se posicionar no número correto ou andar o número de casas indicado."
          },
          "metadata": {}
        },
        {
          "output_type": "display_data",
          "data": {
            "text/plain": [
              "<IPython.core.display.Markdown object>"
            ],
            "text/markdown": ">     4.  Varie os comandos, incluindo \"Volte 2 casas\", para introduzir a ideia de diminuir na reta numérica."
          },
          "metadata": {}
        },
        {
          "output_type": "display_data",
          "data": {
            "text/plain": [
              "<IPython.core.display.Markdown object>"
            ],
            "text/markdown": "> *   **Objetivo:** Vivenciar a reta numérica com o próprio corpo, associando movimento aos números e à sequência."
          },
          "metadata": {}
        },
        {
          "output_type": "display_data",
          "data": {
            "text/plain": [
              "<IPython.core.display.Markdown object>"
            ],
            "text/markdown": ""
          },
          "metadata": {}
        },
        {
          "output_type": "display_data",
          "data": {
            "text/plain": [
              "<IPython.core.display.Markdown object>"
            ],
            "text/markdown": "> **2. Caça ao Tesouro na Reta:**"
          },
          "metadata": {}
        },
        {
          "output_type": "display_data",
          "data": {
            "text/plain": [
              "<IPython.core.display.Markdown object>"
            ],
            "text/markdown": ""
          },
          "metadata": {}
        },
        {
          "output_type": "display_data",
          "data": {
            "text/plain": [
              "<IPython.core.display.Markdown object>"
            ],
            "text/markdown": "> *   **Materiais:** Reta numérica desenhada no chão da sala ou no pátio (pode ser com giz), pequenos objetos (brinquedos, pedrinhas, etc.), cartões com instruções."
          },
          "metadata": {}
        },
        {
          "output_type": "display_data",
          "data": {
            "text/plain": [
              "<IPython.core.display.Markdown object>"
            ],
            "text/markdown": "> *   **Como fazer:**"
          },
          "metadata": {}
        },
        {
          "output_type": "display_data",
          "data": {
            "text/plain": [
              "<IPython.core.display.Markdown object>"
            ],
            "text/markdown": ">     1.  Esconda os objetos ao longo da reta numérica."
          },
          "metadata": {}
        },
        {
          "output_type": "display_data",
          "data": {
            "text/plain": [
              "<IPython.core.display.Markdown object>"
            ],
            "text/markdown": ">     2.  Prepare cartões com instruções como: \"Comece no 0, avance 4 casas e encontre o tesouro!\", \"O tesouro está 2 casas depois do número 3\"."
          },
          "metadata": {}
        },
        {
          "output_type": "display_data",
          "data": {
            "text/plain": [
              "<IPython.core.display.Markdown object>"
            ],
            "text/markdown": ">     3.  Os alunos (em duplas ou individualmente) seguem as instruções para encontrar os objetos escondidos."
          },
          "metadata": {}
        },
        {
          "output_type": "display_data",
          "data": {
            "text/plain": [
              "<IPython.core.display.Markdown object>"
            ],
            "text/markdown": "> *   **Objetivo:** Praticar a contagem e a movimentação na reta numérica de forma divertida, seguindo comandos simples."
          },
          "metadata": {}
        },
        {
          "output_type": "display_data",
          "data": {
            "text/plain": [
              "<IPython.core.display.Markdown object>"
            ],
            "text/markdown": ""
          },
          "metadata": {}
        },
        {
          "output_type": "display_data",
          "data": {
            "text/plain": [
              "<IPython.core.display.Markdown object>"
            ],
            "text/markdown": "> **3. Jogo de Dados na Reta:**"
          },
          "metadata": {}
        },
        {
          "output_type": "display_data",
          "data": {
            "text/plain": [
              "<IPython.core.display.Markdown object>"
            ],
            "text/markdown": ""
          },
          "metadata": {}
        },
        {
          "output_type": "display_data",
          "data": {
            "text/plain": [
              "<IPython.core.display.Markdown object>"
            ],
            "text/markdown": "> *   **Materiais:** Reta numérica desenhada (pode ser no papel ou no quadro), dados, marcadores (botões, tampinhas, etc.)."
          },
          "metadata": {}
        },
        {
          "output_type": "display_data",
          "data": {
            "text/plain": [
              "<IPython.core.display.Markdown object>"
            ],
            "text/markdown": "> *   **Como fazer:**"
          },
          "metadata": {}
        },
        {
          "output_type": "display_data",
          "data": {
            "text/plain": [
              "<IPython.core.display.Markdown object>"
            ],
            "text/markdown": ">     1.  Cada aluno coloca seu marcador no número 0."
          },
          "metadata": {}
        },
        {
          "output_type": "display_data",
          "data": {
            "text/plain": [
              "<IPython.core.display.Markdown object>"
            ],
            "text/markdown": ">     2.  Cada um joga o dado e move seu marcador o número de casas correspondente ao valor do dado."
          },
          "metadata": {}
        },
        {
          "output_type": "display_data",
          "data": {
            "text/plain": [
              "<IPython.core.display.Markdown object>"
            ],
            "text/markdown": ">     3.  O primeiro a chegar a um número pré-determinado (ex: 10) vence."
          },
          "metadata": {}
        },
        {
          "output_type": "display_data",
          "data": {
            "text/plain": [
              "<IPython.core.display.Markdown object>"
            ],
            "text/markdown": ">     4.  Varie: Use dois dados e peça para somar os valores antes de mover o marcador."
          },
          "metadata": {}
        },
        {
          "output_type": "display_data",
          "data": {
            "text/plain": [
              "<IPython.core.display.Markdown object>"
            ],
            "text/markdown": "> *   **Objetivo:** Associar a quantidade representada no dado ao movimento na reta numérica, praticando a adição de forma concreta."
          },
          "metadata": {}
        },
        {
          "output_type": "display_data",
          "data": {
            "text/plain": [
              "<IPython.core.display.Markdown object>"
            ],
            "text/markdown": ""
          },
          "metadata": {}
        },
        {
          "output_type": "display_data",
          "data": {
            "text/plain": [
              "<IPython.core.display.Markdown object>"
            ],
            "text/markdown": "> **4. Construindo a Reta Numérica da Turma:**"
          },
          "metadata": {}
        },
        {
          "output_type": "display_data",
          "data": {
            "text/plain": [
              "<IPython.core.display.Markdown object>"
            ],
            "text/markdown": ""
          },
          "metadata": {}
        },
        {
          "output_type": "display_data",
          "data": {
            "text/plain": [
              "<IPython.core.display.Markdown object>"
            ],
            "text/markdown": "> *   **Materiais:** Tiras de papel, canetas coloridas, prendedores de roupa (opcional), varal ou barbante."
          },
          "metadata": {}
        },
        {
          "output_type": "display_data",
          "data": {
            "text/plain": [
              "<IPython.core.display.Markdown object>"
            ],
            "text/markdown": "> *   **Como fazer:**"
          },
          "metadata": {}
        },
        {
          "output_type": "display_data",
          "data": {
            "text/plain": [
              "<IPython.core.display.Markdown object>"
            ],
            "text/markdown": ">     1.  Cada aluno recebe uma tira de papel e escreve um número (de 0 até onde for adequado)."
          },
          "metadata": {}
        },
        {
          "output_type": "display_data",
          "data": {
            "text/plain": [
              "<IPython.core.display.Markdown object>"
            ],
            "text/markdown": ">     2.  Em conjunto, organizem as tiras em ordem crescente, formando uma reta numérica."
          },
          "metadata": {}
        },
        {
          "output_type": "display_data",
          "data": {
            "text/plain": [
              "<IPython.core.display.Markdown object>"
            ],
            "text/markdown": ">     3.  Pendurem a reta numérica no varal ou fixe-a na parede."
          },
          "metadata": {}
        },
        {
          "output_type": "display_data",
          "data": {
            "text/plain": [
              "<IPython.core.display.Markdown object>"
            ],
            "text/markdown": ">     4.  Enfeitem a reta com desenhos, adesivos, etc."
          },
          "metadata": {}
        },
        {
          "output_type": "display_data",
          "data": {
            "text/plain": [
              "<IPython.core.display.Markdown object>"
            ],
            "text/markdown": "> *   **Objetivo:** Construir coletivamente a reta numérica, reforçando a sequência numérica e a ordem dos números."
          },
          "metadata": {}
        },
        {
          "output_type": "display_data",
          "data": {
            "text/plain": [
              "<IPython.core.display.Markdown object>"
            ],
            "text/markdown": ""
          },
          "metadata": {}
        },
        {
          "output_type": "display_data",
          "data": {
            "text/plain": [
              "<IPython.core.display.Markdown object>"
            ],
            "text/markdown": "> **5. Histórias na Reta Numérica:**"
          },
          "metadata": {}
        },
        {
          "output_type": "display_data",
          "data": {
            "text/plain": [
              "<IPython.core.display.Markdown object>"
            ],
            "text/markdown": ""
          },
          "metadata": {}
        },
        {
          "output_type": "display_data",
          "data": {
            "text/plain": [
              "<IPython.core.display.Markdown object>"
            ],
            "text/markdown": "> *   **Materiais:** Reta numérica desenhada, pequenos bonecos ou figuras de animais."
          },
          "metadata": {}
        },
        {
          "output_type": "display_data",
          "data": {
            "text/plain": [
              "<IPython.core.display.Markdown object>"
            ],
            "text/markdown": "> *   **Como fazer:**"
          },
          "metadata": {}
        },
        {
          "output_type": "display_data",
          "data": {
            "text/plain": [
              "<IPython.core.display.Markdown object>"
            ],
            "text/markdown": ">     1.  Crie pequenas histórias que envolvam movimento na reta numérica. Ex: \"A Joaninha estava no número 2 e voou 3 casas para frente. Em que número ela está agora?\"."
          },
          "metadata": {}
        },
        {
          "output_type": "display_data",
          "data": {
            "text/plain": [
              "<IPython.core.display.Markdown object>"
            ],
            "text/markdown": ">     2.  Use os bonecos para representar os personagens da história e movê-los na reta numérica conforme a narrativa."
          },
          "metadata": {}
        },
        {
          "output_type": "display_data",
          "data": {
            "text/plain": [
              "<IPython.core.display.Markdown object>"
            ],
            "text/markdown": ">     3.  Peça aos alunos para resolverem o problema e contarem o resultado."
          },
          "metadata": {}
        },
        {
          "output_type": "display_data",
          "data": {
            "text/plain": [
              "<IPython.core.display.Markdown object>"
            ],
            "text/markdown": "> *   **Objetivo:** Contextualizar o uso da reta numérica em situações do cotidiano, estimulando o raciocínio e a compreensão dos conceitos."
          },
          "metadata": {}
        },
        {
          "output_type": "display_data",
          "data": {
            "text/plain": [
              "<IPython.core.display.Markdown object>"
            ],
            "text/markdown": ""
          },
          "metadata": {}
        },
        {
          "output_type": "display_data",
          "data": {
            "text/plain": [
              "<IPython.core.display.Markdown object>"
            ],
            "text/markdown": "> **Dicas Importantes:**"
          },
          "metadata": {}
        },
        {
          "output_type": "display_data",
          "data": {
            "text/plain": [
              "<IPython.core.display.Markdown object>"
            ],
            "text/markdown": ""
          },
          "metadata": {}
        },
        {
          "output_type": "display_data",
          "data": {
            "text/plain": [
              "<IPython.core.display.Markdown object>"
            ],
            "text/markdown": "> *   **Adapte:** Ajuste as atividades ao nível de conhecimento e às necessidades específicas da sua turma."
          },
          "metadata": {}
        },
        {
          "output_type": "display_data",
          "data": {
            "text/plain": [
              "<IPython.core.display.Markdown object>"
            ],
            "text/markdown": "> *   **Visual:** Use cores, desenhos e materiais diversos para tornar a reta numérica mais atraente e fácil de entender."
          },
          "metadata": {}
        },
        {
          "output_type": "display_data",
          "data": {
            "text/plain": [
              "<IPython.core.display.Markdown object>"
            ],
            "text/markdown": "> *   **Repetição:** Repita as atividades com variações para que os alunos internalizem o conceito da reta numérica."
          },
          "metadata": {}
        },
        {
          "output_type": "display_data",
          "data": {
            "text/plain": [
              "<IPython.core.display.Markdown object>"
            ],
            "text/markdown": "> *   **Exploração:** Incentive os alunos a explorarem a reta numérica, fazendo perguntas e criando seus próprios desafios."
          },
          "metadata": {}
        },
        {
          "output_type": "display_data",
          "data": {
            "text/plain": [
              "<IPython.core.display.Markdown object>"
            ],
            "text/markdown": "> *   **Conexão:** Relacione a reta numérica a situações reais, como medir distâncias, contar objetos ou seguir uma receita."
          },
          "metadata": {}
        },
        {
          "output_type": "display_data",
          "data": {
            "text/plain": [
              "<IPython.core.display.Markdown object>"
            ],
            "text/markdown": ""
          },
          "metadata": {}
        },
        {
          "output_type": "display_data",
          "data": {
            "text/plain": [
              "<IPython.core.display.Markdown object>"
            ],
            "text/markdown": "> Espero que estas sugestões sejam úteis para suas aulas!"
          },
          "metadata": {}
        },
        {
          "output_type": "stream",
          "name": "stdout",
          "text": [
            "--------------------------------------------------------------\n",
            "--------------------------------------------------------------\n",
            "\n",
            "--- 📝 Resultado do Gerador de Avaliações (Avaliações) ---\n",
            "\n"
          ]
        },
        {
          "output_type": "display_data",
          "data": {
            "text/plain": [
              "<IPython.core.display.Markdown object>"
            ],
            "text/markdown": "> ## Instrumentos de Avaliação para Reta Numérica (1ª Série)"
          },
          "metadata": {}
        },
        {
          "output_type": "display_data",
          "data": {
            "text/plain": [
              "<IPython.core.display.Markdown object>"
            ],
            "text/markdown": ""
          },
          "metadata": {}
        },
        {
          "output_type": "display_data",
          "data": {
            "text/plain": [
              "<IPython.core.display.Markdown object>"
            ],
            "text/markdown": "> Para o tema \"Reta Numérica\" na 1ª série, é importante utilizar instrumentos de avaliação que permitam acompanhar o desenvolvimento do aluno de forma contínua (formativa) e verificar o aprendizado ao final de um período (somativa)."
          },
          "metadata": {}
        },
        {
          "output_type": "display_data",
          "data": {
            "text/plain": [
              "<IPython.core.display.Markdown object>"
            ],
            "text/markdown": ""
          },
          "metadata": {}
        },
        {
          "output_type": "display_data",
          "data": {
            "text/plain": [
              "<IPython.core.display.Markdown object>"
            ],
            "text/markdown": "> **Avaliação Formativa:**"
          },
          "metadata": {}
        },
        {
          "output_type": "display_data",
          "data": {
            "text/plain": [
              "<IPython.core.display.Markdown object>"
            ],
            "text/markdown": ""
          },
          "metadata": {}
        },
        {
          "output_type": "display_data",
          "data": {
            "text/plain": [
              "<IPython.core.display.Markdown object>"
            ],
            "text/markdown": "> A avaliação formativa tem como objetivo principal fornecer feedback tanto para o aluno quanto para o professor, permitindo ajustes no processo de ensino-aprendizagem."
          },
          "metadata": {}
        },
        {
          "output_type": "display_data",
          "data": {
            "text/plain": [
              "<IPython.core.display.Markdown object>"
            ],
            "text/markdown": ""
          },
          "metadata": {}
        },
        {
          "output_type": "display_data",
          "data": {
            "text/plain": [
              "<IPython.core.display.Markdown object>"
            ],
            "text/markdown": "> *   **Autoavaliação:**"
          },
          "metadata": {}
        },
        {
          "output_type": "display_data",
          "data": {
            "text/plain": [
              "<IPython.core.display.Markdown object>"
            ],
            "text/markdown": ">     *   **Roda de Autoavaliação:** Crie uma roda dividida em seções como \"Eu consigo localizar números na reta\", \"Eu entendo o que é a reta numérica\", \"Eu sei comparar números na reta\". Os alunos colorem ou marcam até onde sentem que dominam cada aspecto."
          },
          "metadata": {}
        },
        {
          "output_type": "display_data",
          "data": {
            "text/plain": [
              "<IPython.core.display.Markdown object>"
            ],
            "text/markdown": ">     *   **Semáforo:** Use um semáforo (verde, amarelo, vermelho) para que os alunos indiquem como se sentem em relação à compreensão do conteúdo (verde = entendi, amarelo = preciso de ajuda, vermelho = não entendi)."
          },
          "metadata": {}
        },
        {
          "output_type": "display_data",
          "data": {
            "text/plain": [
              "<IPython.core.display.Markdown object>"
            ],
            "text/markdown": ">     *   **Diário de Bordo:** Os alunos podem registrar diariamente o que aprenderam, as dificuldades encontradas e as dúvidas que surgiram."
          },
          "metadata": {}
        },
        {
          "output_type": "display_data",
          "data": {
            "text/plain": [
              "<IPython.core.display.Markdown object>"
            ],
            "text/markdown": "> *   **Observação:**"
          },
          "metadata": {}
        },
        {
          "output_type": "display_data",
          "data": {
            "text/plain": [
              "<IPython.core.display.Markdown object>"
            ],
            "text/markdown": ">     *   **Observação em sala de aula:** Observe a participação dos alunos nas atividades, a forma como interagem com a reta numérica (manipulando materiais concretos, desenhando, etc.), e a maneira como resolvem os exercícios propostos."
          },
          "metadata": {}
        },
        {
          "output_type": "display_data",
          "data": {
            "text/plain": [
              "<IPython.core.display.Markdown object>"
            ],
            "text/markdown": ">     *   **Registro Anecdótico:** Anote observações relevantes sobre o desempenho individual de cada aluno, focando em seus pontos fortes, dificuldades e progressos."
          },
          "metadata": {}
        },
        {
          "output_type": "display_data",
          "data": {
            "text/plain": [
              "<IPython.core.display.Markdown object>"
            ],
            "text/markdown": ">     *   **Checklist:** Crie uma lista de habilidades a serem observadas (ex: identificar a ordem dos números, localizar números na reta, comparar números na reta). Marque se o aluno demonstra a habilidade, se precisa de ajuda ou se ainda não a desenvolveu."
          },
          "metadata": {}
        },
        {
          "output_type": "display_data",
          "data": {
            "text/plain": [
              "<IPython.core.display.Markdown object>"
            ],
            "text/markdown": ""
          },
          "metadata": {}
        },
        {
          "output_type": "display_data",
          "data": {
            "text/plain": [
              "<IPython.core.display.Markdown object>"
            ],
            "text/markdown": "> **Avaliação Somativa:**"
          },
          "metadata": {}
        },
        {
          "output_type": "display_data",
          "data": {
            "text/plain": [
              "<IPython.core.display.Markdown object>"
            ],
            "text/markdown": ""
          },
          "metadata": {}
        },
        {
          "output_type": "display_data",
          "data": {
            "text/plain": [
              "<IPython.core.display.Markdown object>"
            ],
            "text/markdown": "> A avaliação somativa tem como objetivo verificar o aprendizado do aluno ao final de um período ou unidade temática."
          },
          "metadata": {}
        },
        {
          "output_type": "display_data",
          "data": {
            "text/plain": [
              "<IPython.core.display.Markdown object>"
            ],
            "text/markdown": ""
          },
          "metadata": {}
        },
        {
          "output_type": "display_data",
          "data": {
            "text/plain": [
              "<IPython.core.display.Markdown object>"
            ],
            "text/markdown": "> *   **Provas/Testes:**"
          },
          "metadata": {}
        },
        {
          "output_type": "display_data",
          "data": {
            "text/plain": [
              "<IPython.core.display.Markdown object>"
            ],
            "text/markdown": ">     *   **Questões Objetivas:**"
          },
          "metadata": {}
        },
        {
          "output_type": "display_data",
          "data": {
            "text/plain": [
              "<IPython.core.display.Markdown object>"
            ],
            "text/markdown": ">         *   **Múltipla Escolha:** Perguntas sobre a ordem dos números na reta, localização de números, comparação de números."
          },
          "metadata": {}
        },
        {
          "output_type": "display_data",
          "data": {
            "text/plain": [
              "<IPython.core.display.Markdown object>"
            ],
            "text/markdown": ">         *   **Verdadeiro ou Falso:** Afirmações sobre a reta numérica que os alunos devem classificar como verdadeiras ou falsas."
          },
          "metadata": {}
        },
        {
          "output_type": "display_data",
          "data": {
            "text/plain": [
              "<IPython.core.display.Markdown object>"
            ],
            "text/markdown": ">     *   **Questões Abertas:**"
          },
          "metadata": {}
        },
        {
          "output_type": "display_data",
          "data": {
            "text/plain": [
              "<IPython.core.display.Markdown object>"
            ],
            "text/markdown": ">         *   **Desenho da Reta Numérica:** Peça aos alunos para desenharem uma reta numérica e localizarem determinados números."
          },
          "metadata": {}
        },
        {
          "output_type": "display_data",
          "data": {
            "text/plain": [
              "<IPython.core.display.Markdown object>"
            ],
            "text/markdown": ">         *   **Justificativa:** Solicite que os alunos expliquem como chegaram a uma determinada resposta, mostrando seu raciocínio."
          },
          "metadata": {}
        },
        {
          "output_type": "display_data",
          "data": {
            "text/plain": [
              "<IPython.core.display.Markdown object>"
            ],
            "text/markdown": "> *   **Trabalhos:**"
          },
          "metadata": {}
        },
        {
          "output_type": "display_data",
          "data": {
            "text/plain": [
              "<IPython.core.display.Markdown object>"
            ],
            "text/markdown": ">     *   **Construção de Reta Numérica:** Os alunos podem construir uma reta numérica utilizando materiais diversos (papel, régua, barbante, etc.) e localizar números nela."
          },
          "metadata": {}
        },
        {
          "output_type": "display_data",
          "data": {
            "text/plain": [
              "<IPython.core.display.Markdown object>"
            ],
            "text/markdown": ">     *   **Jogo da Reta Numérica:** Crie um jogo em que os alunos devem usar a reta numérica para resolver problemas ou desafios."
          },
          "metadata": {}
        },
        {
          "output_type": "display_data",
          "data": {
            "text/plain": [
              "<IPython.core.display.Markdown object>"
            ],
            "text/markdown": ">     *   **Apresentação Oral:** Os alunos podem apresentar um tema relacionado à reta numérica para a turma, explicando seus conceitos e aplicações."
          },
          "metadata": {}
        },
        {
          "output_type": "display_data",
          "data": {
            "text/plain": [
              "<IPython.core.display.Markdown object>"
            ],
            "text/markdown": ""
          },
          "metadata": {}
        },
        {
          "output_type": "display_data",
          "data": {
            "text/plain": [
              "<IPython.core.display.Markdown object>"
            ],
            "text/markdown": "> **Avaliação Escrita Contextualizada:**"
          },
          "metadata": {}
        },
        {
          "output_type": "display_data",
          "data": {
            "text/plain": [
              "<IPython.core.display.Markdown object>"
            ],
            "text/markdown": ""
          },
          "metadata": {}
        },
        {
          "output_type": "display_data",
          "data": {
            "text/plain": [
              "<IPython.core.display.Markdown object>"
            ],
            "text/markdown": "> A avaliação escrita deve ser contextualizada, ou seja, apresentar problemas que simulem situações reais em que a reta numérica pode ser utilizada."
          },
          "metadata": {}
        },
        {
          "output_type": "display_data",
          "data": {
            "text/plain": [
              "<IPython.core.display.Markdown object>"
            ],
            "text/markdown": ""
          },
          "metadata": {}
        },
        {
          "output_type": "display_data",
          "data": {
            "text/plain": [
              "<IPython.core.display.Markdown object>"
            ],
            "text/markdown": "> **Exemplos de Problemas Contextualizados:**"
          },
          "metadata": {}
        },
        {
          "output_type": "display_data",
          "data": {
            "text/plain": [
              "<IPython.core.display.Markdown object>"
            ],
            "text/markdown": ""
          },
          "metadata": {}
        },
        {
          "output_type": "display_data",
          "data": {
            "text/plain": [
              "<IPython.core.display.Markdown object>"
            ],
            "text/markdown": "> 1.  **A Formiga e o Doce:** \"Uma formiga está caminhando em uma linha (reta numérica). Ela começa no número 2 e quer chegar até o número 7 para pegar um doce. Quantos números ela precisa andar?\""
          },
          "metadata": {}
        },
        {
          "output_type": "display_data",
          "data": {
            "text/plain": [
              "<IPython.core.display.Markdown object>"
            ],
            "text/markdown": ""
          },
          "metadata": {}
        },
        {
          "output_type": "display_data",
          "data": {
            "text/plain": [
              "<IPython.core.display.Markdown object>"
            ],
            "text/markdown": "> 2.  **Os Prédios:** \"Em uma rua, os prédios são numerados em ordem crescente. O primeiro prédio é o número 1 e o último é o número 10. Desenhe a rua (reta numérica) e marque onde está o prédio de número 5.\""
          },
          "metadata": {}
        },
        {
          "output_type": "display_data",
          "data": {
            "text/plain": [
              "<IPython.core.display.Markdown object>"
            ],
            "text/markdown": ""
          },
          "metadata": {}
        },
        {
          "output_type": "display_data",
          "data": {
            "text/plain": [
              "<IPython.core.display.Markdown object>"
            ],
            "text/markdown": "> 3.  **A Escada:** \"Uma criança está subindo uma escada. Cada degrau representa um número. Ela já subiu até o degrau 3 e precisa chegar ao degrau 8. Quantos degraus faltam para ela subir?\""
          },
          "metadata": {}
        },
        {
          "output_type": "display_data",
          "data": {
            "text/plain": [
              "<IPython.core.display.Markdown object>"
            ],
            "text/markdown": ""
          },
          "metadata": {}
        },
        {
          "output_type": "display_data",
          "data": {
            "text/plain": [
              "<IPython.core.display.Markdown object>"
            ],
            "text/markdown": "> 4.  **Termômetro:** \"Observe o termômetro (reta numérica vertical). Que temperatura ele está marcando? Se a temperatura subir 3 graus, qual será a nova temperatura?\""
          },
          "metadata": {}
        },
        {
          "output_type": "display_data",
          "data": {
            "text/plain": [
              "<IPython.core.display.Markdown object>"
            ],
            "text/markdown": ""
          },
          "metadata": {}
        },
        {
          "output_type": "display_data",
          "data": {
            "text/plain": [
              "<IPython.core.display.Markdown object>"
            ],
            "text/markdown": "> **Recomendações:**"
          },
          "metadata": {}
        },
        {
          "output_type": "display_data",
          "data": {
            "text/plain": [
              "<IPython.core.display.Markdown object>"
            ],
            "text/markdown": ""
          },
          "metadata": {}
        },
        {
          "output_type": "display_data",
          "data": {
            "text/plain": [
              "<IPython.core.display.Markdown object>"
            ],
            "text/markdown": "> *   **Diversifique os instrumentos:** Utilize uma variedade de instrumentos de avaliação para obter uma visão completa do aprendizado do aluno."
          },
          "metadata": {}
        },
        {
          "output_type": "display_data",
          "data": {
            "text/plain": [
              "<IPython.core.display.Markdown object>"
            ],
            "text/markdown": "> *   **Utilize materiais concretos:** Utilize materiais como blocos, fichas, e outros objetos manipuláveis para auxiliar os alunos na resolução dos problemas."
          },
          "metadata": {}
        },
        {
          "output_type": "display_data",
          "data": {
            "text/plain": [
              "<IPython.core.display.Markdown object>"
            ],
            "text/markdown": "> *   **Forneça feedback:** Dê feedback individualizado aos alunos, destacando seus pontos fortes e oferecendo sugestões para melhorar."
          },
          "metadata": {}
        },
        {
          "output_type": "display_data",
          "data": {
            "text/plain": [
              "<IPython.core.display.Markdown object>"
            ],
            "text/markdown": "> *   **Adapte os instrumentos:** Adapte os instrumentos de avaliação às necessidades individuais de cada aluno."
          },
          "metadata": {}
        },
        {
          "output_type": "display_data",
          "data": {
            "text/plain": [
              "<IPython.core.display.Markdown object>"
            ],
            "text/markdown": "> *   **Alinhe a avaliação ao ensino:** Certifique-se de que os instrumentos de avaliação estejam alinhados com os objetivos de aprendizagem e com as atividades realizadas em sala de aula."
          },
          "metadata": {}
        },
        {
          "output_type": "display_data",
          "data": {
            "text/plain": [
              "<IPython.core.display.Markdown object>"
            ],
            "text/markdown": ""
          },
          "metadata": {}
        },
        {
          "output_type": "display_data",
          "data": {
            "text/plain": [
              "<IPython.core.display.Markdown object>"
            ],
            "text/markdown": "> Ao implementar essas sugestões, você poderá avaliar o aprendizado dos alunos de forma eficaz e promover um ensino mais significativo e engajador."
          },
          "metadata": {}
        },
        {
          "output_type": "stream",
          "name": "stdout",
          "text": [
            "--------------------------------------------------------------\n",
            "\n",
            "--- 📝 Resultado do Gerador de Cronograma (Cronograma) ---\n",
            "\n"
          ]
        },
        {
          "output_type": "display_data",
          "data": {
            "text/plain": [
              "<IPython.core.display.Markdown object>"
            ],
            "text/markdown": "> ## Cronograma Semanal - Reta Numérica (1º Ano)"
          },
          "metadata": {}
        },
        {
          "output_type": "display_data",
          "data": {
            "text/plain": [
              "<IPython.core.display.Markdown object>"
            ],
            "text/markdown": ""
          },
          "metadata": {}
        },
        {
          "output_type": "display_data",
          "data": {
            "text/plain": [
              "<IPython.core.display.Markdown object>"
            ],
            "text/markdown": "> **Tema:** Reta Numérica"
          },
          "metadata": {}
        },
        {
          "output_type": "display_data",
          "data": {
            "text/plain": [
              "<IPython.core.display.Markdown object>"
            ],
            "text/markdown": "> **Duração:** 1 Semana (4 Aulas de 50 minutos)"
          },
          "metadata": {}
        },
        {
          "output_type": "display_data",
          "data": {
            "text/plain": [
              "<IPython.core.display.Markdown object>"
            ],
            "text/markdown": "> **Objetivo:** Introduzir e explorar o conceito da reta numérica de forma lúdica e prática."
          },
          "metadata": {}
        },
        {
          "output_type": "display_data",
          "data": {
            "text/plain": [
              "<IPython.core.display.Markdown object>"
            ],
            "text/markdown": ""
          },
          "metadata": {}
        },
        {
          "output_type": "display_data",
          "data": {
            "text/plain": [
              "<IPython.core.display.Markdown object>"
            ],
            "text/markdown": "> **Legenda:**"
          },
          "metadata": {}
        },
        {
          "output_type": "display_data",
          "data": {
            "text/plain": [
              "<IPython.core.display.Markdown object>"
            ],
            "text/markdown": ""
          },
          "metadata": {}
        },
        {
          "output_type": "display_data",
          "data": {
            "text/plain": [
              "<IPython.core.display.Markdown object>"
            ],
            "text/markdown": "> *   **A:** Atividade"
          },
          "metadata": {}
        },
        {
          "output_type": "display_data",
          "data": {
            "text/plain": [
              "<IPython.core.display.Markdown object>"
            ],
            "text/markdown": "> *   **AvF:** Avaliação Formativa"
          },
          "metadata": {}
        },
        {
          "output_type": "display_data",
          "data": {
            "text/plain": [
              "<IPython.core.display.Markdown object>"
            ],
            "text/markdown": "> *   **AvS:** Avaliação Somativa"
          },
          "metadata": {}
        },
        {
          "output_type": "display_data",
          "data": {
            "text/plain": [
              "<IPython.core.display.Markdown object>"
            ],
            "text/markdown": ""
          },
          "metadata": {}
        },
        {
          "output_type": "display_data",
          "data": {
            "text/plain": [
              "<IPython.core.display.Markdown object>"
            ],
            "text/markdown": "> ---"
          },
          "metadata": {}
        },
        {
          "output_type": "display_data",
          "data": {
            "text/plain": [
              "<IPython.core.display.Markdown object>"
            ],
            "text/markdown": ""
          },
          "metadata": {}
        },
        {
          "output_type": "display_data",
          "data": {
            "text/plain": [
              "<IPython.core.display.Markdown object>"
            ],
            "text/markdown": "> **Segunda-feira**"
          },
          "metadata": {}
        },
        {
          "output_type": "display_data",
          "data": {
            "text/plain": [
              "<IPython.core.display.Markdown object>"
            ],
            "text/markdown": ""
          },
          "metadata": {}
        },
        {
          "output_type": "display_data",
          "data": {
            "text/plain": [
              "<IPython.core.display.Markdown object>"
            ],
            "text/markdown": "> *   **Aula 1 (50 minutos): Introdução e Reta Numérica Humana**"
          },
          "metadata": {}
        },
        {
          "output_type": "display_data",
          "data": {
            "text/plain": [
              "<IPython.core.display.Markdown object>"
            ],
            "text/markdown": ">     *   **Conteúdo:** Apresentação do conceito da reta numérica."
          },
          "metadata": {}
        },
        {
          "output_type": "display_data",
          "data": {
            "text/plain": [
              "<IPython.core.display.Markdown object>"
            ],
            "text/markdown": ">     *   **A:** Reta Numérica Humana (25 minutos) - Cartolinas com números no chão, alunos como \"marcadores\"."
          },
          "metadata": {}
        },
        {
          "output_type": "display_data",
          "data": {
            "text/plain": [
              "<IPython.core.display.Markdown object>"
            ],
            "text/markdown": ">     *   **A:** Discussão sobre a atividade, reforçando a sequência numérica e a ideia de ordem (15 minutos)."
          },
          "metadata": {}
        },
        {
          "output_type": "display_data",
          "data": {
            "text/plain": [
              "<IPython.core.display.Markdown object>"
            ],
            "text/markdown": ">     *   **AvF:** Observação da participação e compreensão dos alunos durante a atividade (10 minutos)."
          },
          "metadata": {}
        },
        {
          "output_type": "display_data",
          "data": {
            "text/plain": [
              "<IPython.core.display.Markdown object>"
            ],
            "text/markdown": ""
          },
          "metadata": {}
        },
        {
          "output_type": "display_data",
          "data": {
            "text/plain": [
              "<IPython.core.display.Markdown object>"
            ],
            "text/markdown": "> **Terça-feira**"
          },
          "metadata": {}
        },
        {
          "output_type": "display_data",
          "data": {
            "text/plain": [
              "<IPython.core.display.Markdown object>"
            ],
            "text/markdown": ""
          },
          "metadata": {}
        },
        {
          "output_type": "display_data",
          "data": {
            "text/plain": [
              "<IPython.core.display.Markdown object>"
            ],
            "text/markdown": "> *   **Aula 2 (50 minutos): Caça ao Tesouro na Reta**"
          },
          "metadata": {}
        },
        {
          "output_type": "display_data",
          "data": {
            "text/plain": [
              "<IPython.core.display.Markdown object>"
            ],
            "text/markdown": ">     *   **Conteúdo:** Praticar a contagem e movimentação na reta numérica seguindo comandos."
          },
          "metadata": {}
        },
        {
          "output_type": "display_data",
          "data": {
            "text/plain": [
              "<IPython.core.display.Markdown object>"
            ],
            "text/markdown": ">     *   **A:** Caça ao Tesouro na Reta (30 minutos) - Reta desenhada no chão, objetos escondidos, cartões com instruções."
          },
          "metadata": {}
        },
        {
          "output_type": "display_data",
          "data": {
            "text/plain": [
              "<IPython.core.display.Markdown object>"
            ],
            "text/markdown": ">     *   **A:** Compartilhamento das experiências e resolução dos desafios em grupo (10 minutos)."
          },
          "metadata": {}
        },
        {
          "output_type": "display_data",
          "data": {
            "text/plain": [
              "<IPython.core.display.Markdown object>"
            ],
            "text/markdown": ">     *   **AvF:** Registro Anecdótico - Anotar as dificuldades e progressos individuais durante a atividade (10 minutos)."
          },
          "metadata": {}
        },
        {
          "output_type": "display_data",
          "data": {
            "text/plain": [
              "<IPython.core.display.Markdown object>"
            ],
            "text/markdown": ""
          },
          "metadata": {}
        },
        {
          "output_type": "display_data",
          "data": {
            "text/plain": [
              "<IPython.core.display.Markdown object>"
            ],
            "text/markdown": "> **Quarta-feira**"
          },
          "metadata": {}
        },
        {
          "output_type": "display_data",
          "data": {
            "text/plain": [
              "<IPython.core.display.Markdown object>"
            ],
            "text/markdown": ""
          },
          "metadata": {}
        },
        {
          "output_type": "display_data",
          "data": {
            "text/plain": [
              "<IPython.core.display.Markdown object>"
            ],
            "text/markdown": "> *   **Aula 3 (50 minutos): Jogo de Dados na Reta**"
          },
          "metadata": {}
        },
        {
          "output_type": "display_data",
          "data": {
            "text/plain": [
              "<IPython.core.display.Markdown object>"
            ],
            "text/markdown": ">     *   **Conteúdo:** Associar a quantidade representada no dado ao movimento na reta numérica (adição)."
          },
          "metadata": {}
        },
        {
          "output_type": "display_data",
          "data": {
            "text/plain": [
              "<IPython.core.display.Markdown object>"
            ],
            "text/markdown": ">     *   **A:** Jogo de Dados na Reta (35 minutos) - Reta numérica desenhada, dados, marcadores."
          },
          "metadata": {}
        },
        {
          "output_type": "display_data",
          "data": {
            "text/plain": [
              "<IPython.core.display.Markdown object>"
            ],
            "text/markdown": ">     *   **A:** Variação do jogo com dois dados, somando os valores antes de mover (10 minutos)."
          },
          "metadata": {}
        },
        {
          "output_type": "display_data",
          "data": {
            "text/plain": [
              "<IPython.core.display.Markdown object>"
            ],
            "text/markdown": ">     *   **AvF:** Autoavaliação - Semáforo (verde, amarelo, vermelho) para indicar o nível de compreensão (5 minutos)."
          },
          "metadata": {}
        },
        {
          "output_type": "display_data",
          "data": {
            "text/plain": [
              "<IPython.core.display.Markdown object>"
            ],
            "text/markdown": ""
          },
          "metadata": {}
        },
        {
          "output_type": "display_data",
          "data": {
            "text/plain": [
              "<IPython.core.display.Markdown object>"
            ],
            "text/markdown": "> **Quinta-feira**"
          },
          "metadata": {}
        },
        {
          "output_type": "display_data",
          "data": {
            "text/plain": [
              "<IPython.core.display.Markdown object>"
            ],
            "text/markdown": ""
          },
          "metadata": {}
        },
        {
          "output_type": "display_data",
          "data": {
            "text/plain": [
              "<IPython.core.display.Markdown object>"
            ],
            "text/markdown": "> *   **Aula 4 (50 minutos): Construindo a Reta Numérica da Turma e Avaliação**"
          },
          "metadata": {}
        },
        {
          "output_type": "display_data",
          "data": {
            "text/plain": [
              "<IPython.core.display.Markdown object>"
            ],
            "text/markdown": ">     *   **Conteúdo:** Reforçar a sequência numérica e a ordem dos números através da construção coletiva."
          },
          "metadata": {}
        },
        {
          "output_type": "display_data",
          "data": {
            "text/plain": [
              "<IPython.core.display.Markdown object>"
            ],
            "text/markdown": ">     *   **A:** Construindo a Reta Numérica da Turma (20 minutos) - Tiras de papel, canetas, varal/barbante."
          },
          "metadata": {}
        },
        {
          "output_type": "display_data",
          "data": {
            "text/plain": [
              "<IPython.core.display.Markdown object>"
            ],
            "text/markdown": ">     *   **A:** Histórias na Reta Numérica (15 minutos) - Uso de bonecos e figuras para resolver problemas de adição e subtração"
          },
          "metadata": {}
        },
        {
          "output_type": "display_data",
          "data": {
            "text/plain": [
              "<IPython.core.display.Markdown object>"
            ],
            "text/markdown": ">     *   **AvS:** Avaliação Escrita Contextualizada (15 minutos) - Problemas simples como \"A Formiga e o Doce\" ou \"Os Prédios\"."
          },
          "metadata": {}
        },
        {
          "output_type": "display_data",
          "data": {
            "text/plain": [
              "<IPython.core.display.Markdown object>"
            ],
            "text/markdown": "> ---"
          },
          "metadata": {}
        },
        {
          "output_type": "display_data",
          "data": {
            "text/plain": [
              "<IPython.core.display.Markdown object>"
            ],
            "text/markdown": ""
          },
          "metadata": {}
        },
        {
          "output_type": "display_data",
          "data": {
            "text/plain": [
              "<IPython.core.display.Markdown object>"
            ],
            "text/markdown": "> **Observações:**"
          },
          "metadata": {}
        },
        {
          "output_type": "display_data",
          "data": {
            "text/plain": [
              "<IPython.core.display.Markdown object>"
            ],
            "text/markdown": ""
          },
          "metadata": {}
        },
        {
          "output_type": "display_data",
          "data": {
            "text/plain": [
              "<IPython.core.display.Markdown object>"
            ],
            "text/markdown": "> *   **Adaptação:** Este cronograma é um modelo. Adapte as atividades e o tempo dedicado a cada uma, de acordo com o ritmo e as necessidades da sua turma."
          },
          "metadata": {}
        },
        {
          "output_type": "display_data",
          "data": {
            "text/plain": [
              "<IPython.core.display.Markdown object>"
            ],
            "text/markdown": "> *   **Materiais:** Prepare todos os materiais com antecedência para otimizar o tempo das aulas."
          },
          "metadata": {}
        },
        {
          "output_type": "display_data",
          "data": {
            "text/plain": [
              "<IPython.core.display.Markdown object>"
            ],
            "text/markdown": "> *   **Flexibilidade:** Seja flexível! Se uma atividade gerar mais interesse, explore-a mais a fundo. Se outra não funcionar, ajuste ou substitua."
          },
          "metadata": {}
        },
        {
          "output_type": "display_data",
          "data": {
            "text/plain": [
              "<IPython.core.display.Markdown object>"
            ],
            "text/markdown": "> *   **Diversificação:** Alterne atividades mais ativas com momentos de reflexão e registro."
          },
          "metadata": {}
        },
        {
          "output_type": "display_data",
          "data": {
            "text/plain": [
              "<IPython.core.display.Markdown object>"
            ],
            "text/markdown": "> *   **Feedback:** O feedback constante aos alunos é fundamental para o aprendizado."
          },
          "metadata": {}
        },
        {
          "output_type": "display_data",
          "data": {
            "text/plain": [
              "<IPython.core.display.Markdown object>"
            ],
            "text/markdown": ""
          },
          "metadata": {}
        },
        {
          "output_type": "display_data",
          "data": {
            "text/plain": [
              "<IPython.core.display.Markdown object>"
            ],
            "text/markdown": "> Este cronograma detalhado oferece uma estrutura para trabalhar o tema da reta numérica de forma envolvente e eficaz com os alunos do 1º ano. Lembre-se de que o mais importante é criar um ambiente de aprendizado divertido e estimulante!"
          },
          "metadata": {}
        },
        {
          "output_type": "display_data",
          "data": {
            "text/plain": [
              "<IPython.core.display.Markdown object>"
            ],
            "text/markdown": ""
          },
          "metadata": {}
        },
        {
          "output_type": "stream",
          "name": "stdout",
          "text": [
            "--------------------------------------------------------------\n"
          ]
        }
      ]
    }
  ]
}