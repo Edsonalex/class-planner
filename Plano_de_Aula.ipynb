{
  "nbformat": 4,
  "nbformat_minor": 0,
  "metadata": {
    "colab": {
      "provenance": [],
      "include_colab_link": true
    },
    "kernelspec": {
      "name": "python3",
      "display_name": "Python 3"
    },
    "language_info": {
      "name": "python"
    }
  },
  "cells": [
    {
      "cell_type": "markdown",
      "metadata": {
        "id": "view-in-github",
        "colab_type": "text"
      },
      "source": [
        "<a href=\"https://colab.research.google.com/github/Edsonalex/class-planner/blob/main/Plano_de_Aula.ipynb\" target=\"_parent\"><img src=\"https://colab.research.google.com/assets/colab-badge.svg\" alt=\"Open In Colab\"/></a>"
      ]
    },
    {
      "cell_type": "code",
      "source": [
        "!pip -q install google-genai"
      ],
      "metadata": {
        "id": "UCCbECexLk_h"
      },
      "execution_count": 37,
      "outputs": []
    },
    {
      "cell_type": "code",
      "source": [
        "# Configura a API Key do Google Gemini\n",
        "\n",
        "import os\n",
        "import google.generativeai as genai\n",
        "from google.colab import userdata\n",
        "import sys # Importa sys para sair do script\n",
        "\n",
        "#Tentar obter a API Key dos \"secrets\" do Colab\n",
        "api_key = os.getenv('GOOGLE_API_KEY')\n",
        "\n",
        "# Se não encontrar nos segredos do Colab, tenta obter da variável de ambiente\n",
        "if api_key is None:\n",
        "    api_key = os.getenv('GOOGLE_API_KEY')\n",
        "    print(\"INFO: Tentando obter a API Key da variável de ambiente GOOGLE_API_KEY.\")\n",
        "\n",
        "\n",
        "if api_key is not None:\n",
        "    genai.configure(api_key=api_key)\n",
        "    os.environ[\"GOOGLE_API_KEY\"] = api_key\n",
        "    print(\"API Key do Google Gemini configurada com sucesso.\")\n",
        "else:\n",
        "    print(\"ERRO: A variável de ambiente ou segredo do Colab 'GOOGLE_API_KEY' não está configurada.\")\n",
        "    print(\"Por favor, configure sua chave da API do Google Gemini nos segredos do Colab ou como variável de ambiente.\")\n",
        "    sys.exit(\"API Key não encontrada. Saindo.\")"
      ],
      "metadata": {
        "id": "NfCqHo1tLk8P",
        "outputId": "c0761adb-11dd-4c5f-d864-cbdc454f2bdf",
        "colab": {
          "base_uri": "https://localhost:8080/"
        }
      },
      "execution_count": 53,
      "outputs": [
        {
          "output_type": "stream",
          "name": "stdout",
          "text": [
            "API Key do Google Gemini configurada com sucesso.\n"
          ]
        }
      ]
    },
    {
      "cell_type": "code",
      "source": [
        "# Configura o cliente da SDK do Gemini\n",
        "\n",
        "from google import genai\n",
        "\n",
        "client = genai.Client()\n",
        "\n",
        "MODEL_ID = \"gemini-2.0-flash\""
      ],
      "metadata": {
        "id": "bV4w0H5TLk5g"
      },
      "execution_count": 54,
      "outputs": []
    },
    {
      "cell_type": "code",
      "source": [
        "# Instalar Framework de agentes do Google ################################################\n",
        "!pip install -q google-adk"
      ],
      "metadata": {
        "id": "a1eRPalxEnj7"
      },
      "execution_count": 55,
      "outputs": []
    },
    {
      "cell_type": "code",
      "execution_count": 56,
      "metadata": {
        "id": "aePV2bdfDeoW"
      },
      "outputs": [],
      "source": [
        "from google.adk.agents import Agent\n",
        "from google.adk.runners import Runner\n",
        "from google.adk.sessions import InMemorySessionService\n",
        "from google.adk.tools import google_search\n",
        "from google.genai import types  # Para criar conteúdos (Content e Part)\n",
        "from datetime import date\n",
        "import textwrap # Para formatar melhor a saída de texto\n",
        "from IPython.display import display, Markdown # Para exibir texto formatado no Colab\n",
        "import requests # Para fazer requisições HTTP\n",
        "import warnings\n",
        "\n",
        "warnings.filterwarnings(\"ignore\")"
      ]
    },
    {
      "cell_type": "code",
      "source": [
        "# Função auxiliar que envia uma mensagem para um agente via Runner e retorna a resposta final\n",
        "def call_agent(agent: Agent, message_text: str) -> str:\n",
        "    # Cria um serviço de sessão em memória\n",
        "    session_service = InMemorySessionService()\n",
        "    # Cria uma nova sessão (você pode personalizar os IDs conforme necessário)\n",
        "    session = session_service.create_session(app_name=agent.name, user_id=\"user1\", session_id=\"session1\")\n",
        "    # Cria um Runner para o agente\n",
        "    runner = Runner(agent=agent, app_name=agent.name, session_service=session_service)\n",
        "    # Cria o conteúdo da mensagem de entrada\n",
        "    content = types.Content(role=\"user\", parts=[types.Part(text=message_text)])\n",
        "\n",
        "    final_response = \"\"\n",
        "    # Itera assincronamente pelos eventos retornados durante a execução do agente\n",
        "    for event in runner.run(user_id=\"user1\", session_id=\"session1\", new_message=content):\n",
        "        if event.is_final_response():\n",
        "          for part in event.content.parts:\n",
        "            if part.text is not None:\n",
        "              final_response += part.text\n",
        "              final_response += \"\\n\"\n",
        "    return final_response"
      ],
      "metadata": {
        "id": "_xP4lWhsS5ko"
      },
      "execution_count": 57,
      "outputs": []
    },
    {
      "cell_type": "code",
      "source": [
        "# Função auxiliar para exibir texto formatado em Markdown no Colab\n",
        "def to_markdown(text):\n",
        "  text = text.replace('•', '  *')\n",
        "  return Markdown(textwrap.indent(text, '> ', predicate=lambda _: True))"
      ],
      "metadata": {
        "id": "8dosiodaxfFR"
      },
      "execution_count": 58,
      "outputs": []
    },
    {
      "cell_type": "code",
      "source": [
        "##########################################\n",
        "# --- Agente 1: Planejador Pedagógico --- #\n",
        "##########################################\n",
        "class PlanejadorPedagogico:\n",
        "\n",
        "    def __init__(self, model):\n",
        "        self.agente_conteudo = AgenteConteudo(model)\n",
        "        self.agente_atividades = AgenteAtividades(model)\n",
        "        self.agente_avaliacao = AgenteAvaliacao(model)\n",
        "        self.agente_agenda = AgenteAgenda(model)\n",
        "\n",
        "    def planejar_aula(self, serie, disciplina, tema, duracao):\n",
        "        conteudo = self.agente_conteudo.sugerir_conteudo(serie, disciplina, tema)\n",
        "        atividades = self.agente_atividades.sugerir_atividades(serie, tema)\n",
        "        avaliacoes = self.agente_avaliacao.sugerir_avaliacoes(tema)\n",
        "        cronograma = self.agente_agenda.gerar_cronograma(duracao, conteudo, atividades, avaliacoes)\n",
        "\n",
        "        return {\n",
        "            \"Série\": serie,\n",
        "            \"Disciplina\": disciplina,\n",
        "            \"Tema\": tema,\n",
        "            \"Conteúdo\": conteudo,\n",
        "            \"Atividades\": atividades,\n",
        "            \"Avaliações\": avaliacoes,\n",
        "            \"Cronograma\": cronograma\n",
        "        }"
      ],
      "metadata": {
        "id": "o8bqIfi_DyH8"
      },
      "execution_count": null,
      "outputs": []
    },
    {
      "cell_type": "code",
      "source": [
        "#########################################\n",
        "# --- Agente 2: Criador de Conteúdo --- #\n",
        "#########################################\n",
        "class AgenteConteudo:\n",
        "    def __init__(self, model):\n",
        "        self.model = model\n",
        "    def sugerir_conteudo(self, serie, disciplina, tema):\n",
        "        prompt = (\n",
        "            f\"Você é um especialista em educação básica. Sugira um conteúdo didático para uma aula de {disciplina} \"\n",
        "            f\"do {serie} ano do ensino fundamental sobre o tema '{tema}', de acordo com a BNCC. Seja objetivo e sucinto. Escreva como um professor.\"\n",
        "        )\n",
        "        response = self.model.generate_content(prompt)\n",
        "        return response.text"
      ],
      "metadata": {
        "id": "y3VO1uo5_ghO"
      },
      "execution_count": 59,
      "outputs": []
    },
    {
      "cell_type": "code",
      "source": [
        "###########################################\n",
        "# --- Agente 3: Criador de Atividades --- #\n",
        "###########################################\n",
        "class AgenteAtividades:\n",
        "    def __init__(self, model):\n",
        "        self.model = model\n",
        "    def sugerir_atividades(self, serie, tema):\n",
        "        prompt = (\n",
        "            f\"Sugira duas atividades lúdicas e práticas para alunos do {serie} ano do ensino fundamental, \"\n",
        "            f\"sobre o tema '{tema}'. As atividades devem ser simples e possíveis de realizar em sala de aula.\"\n",
        "        )\n",
        "        response = self.model.generate_content(prompt)\n",
        "        return response.text.split(\"\\n\")"
      ],
      "metadata": {
        "id": "uOqlg2TRLVh1"
      },
      "execution_count": 60,
      "outputs": []
    },
    {
      "cell_type": "code",
      "source": [
        "###########################################\n",
        "# --- Agente 4: Criador de Avaliações --- #\n",
        "###########################################\n",
        "class AgenteAvaliacao:\n",
        "    def __init__(self, model):\n",
        "        self.model = model\n",
        "    def sugerir_avaliacoes(self, tema):\n",
        "        prompt = (\n",
        "            f\"Sugira instrumentos de avaliação divididas nas cateorias Formativa (autoavaliação e observação) e Somativa(provas, testes, trabalhos) para o tema {tema} e a série {serie}.\",\n",
        "            f\"Recomende avaliação escrita com problemas contextualizados.\"\n",
        "        )\n",
        "        response = self.model.generate_content(prompt)\n",
        "        return response.text.split(\"\\n\")"
      ],
      "metadata": {
        "id": "_aTb1SdkLeT6"
      },
      "execution_count": 61,
      "outputs": []
    },
    {
      "cell_type": "code",
      "source": [
        "##########################################\n",
        "# --- Agente 5: Criador de Agenda --- #\n",
        "##########################################\n",
        "class AgenteAgenda:\n",
        "    def __init__(self, model):\n",
        "      self.model = model\n",
        "    def gerar_cronograma(self, duracao, conteudo, atividades, avaliacoes):\n",
        "        prompt = (\n",
        "            f\"Organize os conteúdos, atividades e avaliações num cronograma semanal em formato de calendário considerando o tema{tema}, a duração {duracao}, as atividades propostas {atividades} e as avalaliações {avaliacoes}.\",\n",
        "            f\"Considere número de 4 aulas por semana e o tempo de 50 minutos necessário por aula\"\n",
        "        )\n",
        "        response = self.model.generate_content(prompt)\n",
        "        return response.text.split(\"\\n\")"
      ],
      "metadata": {
        "id": "mbLF7XDmzFqO"
      },
      "execution_count": 62,
      "outputs": []
    },
    {
      "cell_type": "code",
      "source": [
        "##############################\n",
        "# --- Prompt e Resultado --- #\n",
        "##############################\n",
        "def iniciar_prompt():\n",
        "    print(\"=== Gerador de Plano de Aula ===\")\n",
        "    serie = input(\"Série (ex: 5º): \")\n",
        "    disciplina = input(\"Disciplina (ex: Matemática): \")\n",
        "    tema = input(\"Tema (ex: Frações): \")\n",
        "    duracao = int(input(\"Duração em semanas: \"))\n",
        "    return serie, disciplina, tema, duracao\n",
        "\n",
        "import google.generativeai as genai\n",
        "\n",
        "model = genai.GenerativeModel(MODEL_ID)\n",
        "planejador = PlanejadorPedagogico(model)\n",
        "\n",
        "serie, disciplina, tema, duracao = iniciar_prompt()\n",
        "\n",
        "plano = planejador.planejar_aula(serie, disciplina, tema, duracao)\n",
        "\n",
        "print(\"\\n\\n🚀 Iniciando o Sistema de Criação de Planejamento Pedagógico 🚀\")\n",
        "print(f\"Maravilha! Vamos então criar o planejamento em {disciplina} para alunos da {serie} série com o tema {tema} e com duração de {duracao} semana(s).\")\n",
        "\n",
        "conteudo = plano[\"Conteúdo\"]\n",
        "print(\"\\n--- 📝 Resultado do Gerador de Conteúdo (Conteúdo) ---\\n\")\n",
        "display(to_markdown(conteudo))\n",
        "print(\"--------------------------------------------------------------\")\n",
        "\n",
        "atividades = plano[\"Atividades\"]\n",
        "print(\"\\n--- 📝 Resultado do Gerador de Atividades (Atividades) ---\\n\")\n",
        "for atividade in atividades:\n",
        "    display(to_markdown(atividade))\n",
        "print(\"--------------------------------------------------------------\")\n",
        "print(\"--------------------------------------------------------------\")\n",
        "\n",
        "avaliacoes = plano[\"Avaliações\"]\n",
        "print(\"\\n--- 📝 Resultado do Gerador de Avaliações (Avaliações) ---\\n\")\n",
        "for avaliacao in avaliacoes:\n",
        "    display(to_markdown(avaliacao))\n",
        "print(\"--------------------------------------------------------------\")\n",
        "\n",
        "cronograma = plano[\"Cronograma\"]\n",
        "print(\"\\n--- 📝 Resultado do Gerador de Cronograma (Cronograma) ---\\n\")\n",
        "if isinstance(cronograma, list):\n",
        "    for item in cronograma:\n",
        "        display(to_markdown(item))\n",
        "elif isinstance(cronograma, dict):\n",
        "    for key, value in cronograma.items():\n",
        "        display(to_markdown(f\"{key}:\\n{value}\"))\n",
        "else:\n",
        "    display(to_markdown(str(cronograma)))\n",
        "\n",
        "print(\"--------------------------------------------------------------\")"
      ],
      "metadata": {
        "id": "iw7dD4wS5ojS",
        "outputId": "cd01a28c-a9cf-488b-cb38-a99c481ec1e4",
        "colab": {
          "base_uri": "https://localhost:8080/",
          "height": 1000
        }
      },
      "execution_count": 63,
      "outputs": [
        {
          "output_type": "stream",
          "name": "stdout",
          "text": [
            "=== Gerador de Plano de Aula ===\n",
            "Série (ex: 5º): 1\n",
            "Disciplina (ex: Matemática): reta numerica\n",
            "Tema (ex: Frações): matematica\n",
            "Duração em semanas: 1\n",
            "\n",
            "\n",
            "🚀 Iniciando o Sistema de Criação de Planejamento Pedagógico 🚀\n",
            "Maravilha! Vamos então criar o planejamento em reta numerica para alunos da 1 série com o tema matematica e com duração de 1 semana(s).\n",
            "\n",
            "--- 📝 Resultado do Gerador de Conteúdo (Conteúdo) ---\n",
            "\n"
          ]
        },
        {
          "output_type": "display_data",
          "data": {
            "text/plain": [
              "<IPython.core.display.Markdown object>"
            ],
            "text/markdown": "> Olá, pequenos exploradores da matemática!\n> \n> Hoje vamos desvendar a RETA NUMÉRICA, uma ferramenta super útil para entendermos os números e suas posições.\n> \n> **Objetivo:** Compreender a sequência numérica (0 a 10) e sua representação na reta numérica. (Alinhado com a BNCC: EF01MA01 - Utilizar números naturais como indicador de quantidade ou de ordem em diferentes situações cotidianas e reconhecer situações em que os números não indicam contagem nem ordenação, mas sim código de identificação.)\n> \n> **Materiais:**\n> \n> *   Reta numérica grande (desenhada no quadro ou impressa).\n> *   Fichas com os números de 0 a 10.\n> *   Objetos pequenos (ex: lápis, borracha, tampinhas).\n> \n> **Desenvolvimento:**\n> \n> 1.  **Exploração Inicial:** Apresente a reta numérica e explique que ela representa uma sequência de números, como uma \"estrada\" onde cada número tem seu lugar.\n> 2.  **Colocando os Números:** Distribua as fichas com os números e peça para as crianças, uma a uma, colarem no lugar correto na reta numérica. Incentive a contagem e a comparação (\"Qual número vem antes do 3?\").\n> 3.  **Brincando na Reta:**\n>     *   **\"Onde estou?\":** Coloque um objeto em um número na reta e peça para as crianças dizerem qual número é.\n>     *   **\"Andando na Reta\":** Dê comandos simples: \"Comece no 2 e avance 3 casas. Em qual número você está agora?\". Use objetos para representar o movimento.\n> 4.  **Registro:** Desenhe uma reta numérica simples no caderno e peça para as crianças escreverem os números de 0 a 10.\n> \n> **Avaliação:** Observe a participação das crianças nas atividades e a capacidade de identificar e ordenar os números na reta.\n> \n> **Dica:** Use cores diferentes para cada número na reta numérica para facilitar a identificação. Transforme a aula em uma grande brincadeira!"
          },
          "metadata": {}
        },
        {
          "output_type": "stream",
          "name": "stdout",
          "text": [
            "--------------------------------------------------------------\n",
            "\n",
            "--- 📝 Resultado do Gerador de Atividades (Atividades) ---\n",
            "\n"
          ]
        },
        {
          "output_type": "display_data",
          "data": {
            "text/plain": [
              "<IPython.core.display.Markdown object>"
            ],
            "text/markdown": "> ## Sugestões de Atividades Lúdicas e Práticas de Matemática para o 1º Ano:"
          },
          "metadata": {}
        },
        {
          "output_type": "display_data",
          "data": {
            "text/plain": [
              "<IPython.core.display.Markdown object>"
            ],
            "text/markdown": ""
          },
          "metadata": {}
        },
        {
          "output_type": "display_data",
          "data": {
            "text/plain": [
              "<IPython.core.display.Markdown object>"
            ],
            "text/markdown": "> **Foco:** Números, Contagem, Formas Geométricas, Tamanho e Comparação."
          },
          "metadata": {}
        },
        {
          "output_type": "display_data",
          "data": {
            "text/plain": [
              "<IPython.core.display.Markdown object>"
            ],
            "text/markdown": ""
          },
          "metadata": {}
        },
        {
          "output_type": "display_data",
          "data": {
            "text/plain": [
              "<IPython.core.display.Markdown object>"
            ],
            "text/markdown": "> **1. Caça ao Tesouro dos Números:**"
          },
          "metadata": {}
        },
        {
          "output_type": "display_data",
          "data": {
            "text/plain": [
              "<IPython.core.display.Markdown object>"
            ],
            "text/markdown": ""
          },
          "metadata": {}
        },
        {
          "output_type": "display_data",
          "data": {
            "text/plain": [
              "<IPython.core.display.Markdown object>"
            ],
            "text/markdown": "> *   **Objetivo:** Reconhecer e identificar números, praticar a contagem."
          },
          "metadata": {}
        },
        {
          "output_type": "display_data",
          "data": {
            "text/plain": [
              "<IPython.core.display.Markdown object>"
            ],
            "text/markdown": "> *   **Materiais:** Cartões com números de 1 a 10 (ou até o número que estão aprendendo), objetos diversos (lápis, borrachas, blocos de montar) e pistas escritas ou desenhadas."
          },
          "metadata": {}
        },
        {
          "output_type": "display_data",
          "data": {
            "text/plain": [
              "<IPython.core.display.Markdown object>"
            ],
            "text/markdown": "> *   **Como Fazer:**"
          },
          "metadata": {}
        },
        {
          "output_type": "display_data",
          "data": {
            "text/plain": [
              "<IPython.core.display.Markdown object>"
            ],
            "text/markdown": ">     1.  Esconda os objetos pela sala."
          },
          "metadata": {}
        },
        {
          "output_type": "display_data",
          "data": {
            "text/plain": [
              "<IPython.core.display.Markdown object>"
            ],
            "text/markdown": ">     2.  Crie pistas que levem os alunos a encontrarem os objetos. As pistas podem ser: \"Procure perto de onde tem 5 lápis\", \"O tesouro está embaixo do livro com o número 3\"."
          },
          "metadata": {}
        },
        {
          "output_type": "display_data",
          "data": {
            "text/plain": [
              "<IPython.core.display.Markdown object>"
            ],
            "text/markdown": ">     3.  Ao encontrar o objeto, os alunos contam a quantidade e podem escrever o número em um papel."
          },
          "metadata": {}
        },
        {
          "output_type": "display_data",
          "data": {
            "text/plain": [
              "<IPython.core.display.Markdown object>"
            ],
            "text/markdown": ""
          },
          "metadata": {}
        },
        {
          "output_type": "display_data",
          "data": {
            "text/plain": [
              "<IPython.core.display.Markdown object>"
            ],
            "text/markdown": "> **2. Construindo com Formas Geométricas:**"
          },
          "metadata": {}
        },
        {
          "output_type": "display_data",
          "data": {
            "text/plain": [
              "<IPython.core.display.Markdown object>"
            ],
            "text/markdown": ""
          },
          "metadata": {}
        },
        {
          "output_type": "display_data",
          "data": {
            "text/plain": [
              "<IPython.core.display.Markdown object>"
            ],
            "text/markdown": "> *   **Objetivo:** Reconhecer e nomear formas geométricas, desenvolver habilidades de construção e criatividade."
          },
          "metadata": {}
        },
        {
          "output_type": "display_data",
          "data": {
            "text/plain": [
              "<IPython.core.display.Markdown object>"
            ],
            "text/markdown": "> *   **Materiais:** Formas geométricas de papel ou EVA (círculos, quadrados, triângulos, retângulos), cola, papel ou cartolina."
          },
          "metadata": {}
        },
        {
          "output_type": "display_data",
          "data": {
            "text/plain": [
              "<IPython.core.display.Markdown object>"
            ],
            "text/markdown": "> *   **Como Fazer:**"
          },
          "metadata": {}
        },
        {
          "output_type": "display_data",
          "data": {
            "text/plain": [
              "<IPython.core.display.Markdown object>"
            ],
            "text/markdown": ">     1.  Apresente as formas geométricas, mostrando seus nomes e características (lados, vértices)."
          },
          "metadata": {}
        },
        {
          "output_type": "display_data",
          "data": {
            "text/plain": [
              "<IPython.core.display.Markdown object>"
            ],
            "text/markdown": ">     2.  Peça aos alunos para criarem desenhos ou figuras usando as formas (casas, robôs, animais)."
          },
          "metadata": {}
        },
        {
          "output_type": "display_data",
          "data": {
            "text/plain": [
              "<IPython.core.display.Markdown object>"
            ],
            "text/markdown": ">     3.  Cole as formas na folha para formar a imagem."
          },
          "metadata": {}
        },
        {
          "output_type": "display_data",
          "data": {
            "text/plain": [
              "<IPython.core.display.Markdown object>"
            ],
            "text/markdown": ""
          },
          "metadata": {}
        },
        {
          "output_type": "display_data",
          "data": {
            "text/plain": [
              "<IPython.core.display.Markdown object>"
            ],
            "text/markdown": "> **3. Corrida dos Números:**"
          },
          "metadata": {}
        },
        {
          "output_type": "display_data",
          "data": {
            "text/plain": [
              "<IPython.core.display.Markdown object>"
            ],
            "text/markdown": ""
          },
          "metadata": {}
        },
        {
          "output_type": "display_data",
          "data": {
            "text/plain": [
              "<IPython.core.display.Markdown object>"
            ],
            "text/markdown": "> *   **Objetivo:** Praticar a sequência numérica, desenvolver agilidade e trabalho em equipe."
          },
          "metadata": {}
        },
        {
          "output_type": "display_data",
          "data": {
            "text/plain": [
              "<IPython.core.display.Markdown object>"
            ],
            "text/markdown": "> *   **Materiais:** Cartões com números de 1 a 20 (ou mais, dependendo do nível da turma), fita adesiva para marcar a linha de partida e chegada."
          },
          "metadata": {}
        },
        {
          "output_type": "display_data",
          "data": {
            "text/plain": [
              "<IPython.core.display.Markdown object>"
            ],
            "text/markdown": "> *   **Como Fazer:**"
          },
          "metadata": {}
        },
        {
          "output_type": "display_data",
          "data": {
            "text/plain": [
              "<IPython.core.display.Markdown object>"
            ],
            "text/markdown": ">     1.  Divida a turma em equipes."
          },
          "metadata": {}
        },
        {
          "output_type": "display_data",
          "data": {
            "text/plain": [
              "<IPython.core.display.Markdown object>"
            ],
            "text/markdown": ">     2.  Espalhe os cartões com os números pelo chão."
          },
          "metadata": {}
        },
        {
          "output_type": "display_data",
          "data": {
            "text/plain": [
              "<IPython.core.display.Markdown object>"
            ],
            "text/markdown": ">     3.  Dê a largada e peça para cada equipe encontrar os números na sequência correta (1, 2, 3...)."
          },
          "metadata": {}
        },
        {
          "output_type": "display_data",
          "data": {
            "text/plain": [
              "<IPython.core.display.Markdown object>"
            ],
            "text/markdown": ">     4.  A equipe que encontrar todos os números na ordem e chegar primeiro à linha de chegada, vence."
          },
          "metadata": {}
        },
        {
          "output_type": "display_data",
          "data": {
            "text/plain": [
              "<IPython.core.display.Markdown object>"
            ],
            "text/markdown": ""
          },
          "metadata": {}
        },
        {
          "output_type": "display_data",
          "data": {
            "text/plain": [
              "<IPython.core.display.Markdown object>"
            ],
            "text/markdown": "> **4. Ordenando por Tamanho:**"
          },
          "metadata": {}
        },
        {
          "output_type": "display_data",
          "data": {
            "text/plain": [
              "<IPython.core.display.Markdown object>"
            ],
            "text/markdown": ""
          },
          "metadata": {}
        },
        {
          "output_type": "display_data",
          "data": {
            "text/plain": [
              "<IPython.core.display.Markdown object>"
            ],
            "text/markdown": "> *   **Objetivo:** Comparar tamanhos, desenvolver o vocabulário relacionado a tamanho (maior, menor, mais alto, mais baixo)."
          },
          "metadata": {}
        },
        {
          "output_type": "display_data",
          "data": {
            "text/plain": [
              "<IPython.core.display.Markdown object>"
            ],
            "text/markdown": "> *   **Materiais:** Objetos diversos em diferentes tamanhos (lápis, livros, caixas, canetas), ou figuras impressas."
          },
          "metadata": {}
        },
        {
          "output_type": "display_data",
          "data": {
            "text/plain": [
              "<IPython.core.display.Markdown object>"
            ],
            "text/markdown": "> *   **Como Fazer:**"
          },
          "metadata": {}
        },
        {
          "output_type": "display_data",
          "data": {
            "text/plain": [
              "<IPython.core.display.Markdown object>"
            ],
            "text/markdown": ">     1.  Apresente os objetos/figuras."
          },
          "metadata": {}
        },
        {
          "output_type": "display_data",
          "data": {
            "text/plain": [
              "<IPython.core.display.Markdown object>"
            ],
            "text/markdown": ">     2.  Peça aos alunos para ordenarem os objetos do menor para o maior ou do mais alto para o mais baixo."
          },
          "metadata": {}
        },
        {
          "output_type": "display_data",
          "data": {
            "text/plain": [
              "<IPython.core.display.Markdown object>"
            ],
            "text/markdown": ">     3.  Incentive-os a usar as palavras \"maior\", \"menor\", \"mais alto\", \"mais baixo\" para descrever a ordem."
          },
          "metadata": {}
        },
        {
          "output_type": "display_data",
          "data": {
            "text/plain": [
              "<IPython.core.display.Markdown object>"
            ],
            "text/markdown": ""
          },
          "metadata": {}
        },
        {
          "output_type": "display_data",
          "data": {
            "text/plain": [
              "<IPython.core.display.Markdown object>"
            ],
            "text/markdown": "> **5. Jogo da Memória de Pares Numéricos:**"
          },
          "metadata": {}
        },
        {
          "output_type": "display_data",
          "data": {
            "text/plain": [
              "<IPython.core.display.Markdown object>"
            ],
            "text/markdown": ""
          },
          "metadata": {}
        },
        {
          "output_type": "display_data",
          "data": {
            "text/plain": [
              "<IPython.core.display.Markdown object>"
            ],
            "text/markdown": "> *   **Objetivo:** Associar número à quantidade, melhorar a memória e concentração."
          },
          "metadata": {}
        },
        {
          "output_type": "display_data",
          "data": {
            "text/plain": [
              "<IPython.core.display.Markdown object>"
            ],
            "text/markdown": "> *   **Materiais:** Cartões com números e cartões com desenhos que representem a quantidade correspondente (ex: cartão com o número 3 e cartão com 3 bolinhas)."
          },
          "metadata": {}
        },
        {
          "output_type": "display_data",
          "data": {
            "text/plain": [
              "<IPython.core.display.Markdown object>"
            ],
            "text/markdown": "> *   **Como Fazer:**"
          },
          "metadata": {}
        },
        {
          "output_type": "display_data",
          "data": {
            "text/plain": [
              "<IPython.core.display.Markdown object>"
            ],
            "text/markdown": ">     1.  Coloque os cartões virados para baixo em fileiras."
          },
          "metadata": {}
        },
        {
          "output_type": "display_data",
          "data": {
            "text/plain": [
              "<IPython.core.display.Markdown object>"
            ],
            "text/markdown": ">     2.  Cada aluno, na sua vez, vira dois cartões."
          },
          "metadata": {}
        },
        {
          "output_type": "display_data",
          "data": {
            "text/plain": [
              "<IPython.core.display.Markdown object>"
            ],
            "text/markdown": ">     3.  Se os cartões formarem um par (número e quantidade correspondente), o aluno pega o par."
          },
          "metadata": {}
        },
        {
          "output_type": "display_data",
          "data": {
            "text/plain": [
              "<IPython.core.display.Markdown object>"
            ],
            "text/markdown": ">     4.  Se não formarem um par, o aluno vira os cartões novamente e passa a vez."
          },
          "metadata": {}
        },
        {
          "output_type": "display_data",
          "data": {
            "text/plain": [
              "<IPython.core.display.Markdown object>"
            ],
            "text/markdown": ">     5.  O jogo continua até todos os pares serem encontrados. Ganha quem tiver mais pares."
          },
          "metadata": {}
        },
        {
          "output_type": "display_data",
          "data": {
            "text/plain": [
              "<IPython.core.display.Markdown object>"
            ],
            "text/markdown": ""
          },
          "metadata": {}
        },
        {
          "output_type": "display_data",
          "data": {
            "text/plain": [
              "<IPython.core.display.Markdown object>"
            ],
            "text/markdown": "> **Dicas Adicionais:**"
          },
          "metadata": {}
        },
        {
          "output_type": "display_data",
          "data": {
            "text/plain": [
              "<IPython.core.display.Markdown object>"
            ],
            "text/markdown": ""
          },
          "metadata": {}
        },
        {
          "output_type": "display_data",
          "data": {
            "text/plain": [
              "<IPython.core.display.Markdown object>"
            ],
            "text/markdown": "> *   **Adaptação:** Adapte as atividades ao nível da sua turma. Se estiverem aprendendo números até 5, use apenas esses números nas atividades."
          },
          "metadata": {}
        },
        {
          "output_type": "display_data",
          "data": {
            "text/plain": [
              "<IPython.core.display.Markdown object>"
            ],
            "text/markdown": "> *   **Visual:** Utilize recursos visuais coloridos e atraentes para tornar as atividades mais interessantes."
          },
          "metadata": {}
        },
        {
          "output_type": "display_data",
          "data": {
            "text/plain": [
              "<IPython.core.display.Markdown object>"
            ],
            "text/markdown": "> *   **Participação:** Incentive a participação de todos os alunos e crie um ambiente divertido e acolhedor."
          },
          "metadata": {}
        },
        {
          "output_type": "display_data",
          "data": {
            "text/plain": [
              "<IPython.core.display.Markdown object>"
            ],
            "text/markdown": "> *   **Música:** Utilize músicas com temas de contagem e números para tornar o aprendizado mais divertido."
          },
          "metadata": {}
        },
        {
          "output_type": "display_data",
          "data": {
            "text/plain": [
              "<IPython.core.display.Markdown object>"
            ],
            "text/markdown": "> *   **Avaliação:** Observe o desempenho dos alunos durante as atividades para identificar dificuldades e adaptar o ensino."
          },
          "metadata": {}
        },
        {
          "output_type": "display_data",
          "data": {
            "text/plain": [
              "<IPython.core.display.Markdown object>"
            ],
            "text/markdown": ""
          },
          "metadata": {}
        },
        {
          "output_type": "display_data",
          "data": {
            "text/plain": [
              "<IPython.core.display.Markdown object>"
            ],
            "text/markdown": "> Lembre-se que o principal objetivo é tornar a matemática divertida e interessante para os alunos do 1º ano. Ao usar atividades lúdicas e práticas, você estará ajudando a construir uma base sólida para o aprendizado futuro."
          },
          "metadata": {}
        },
        {
          "output_type": "stream",
          "name": "stdout",
          "text": [
            "--------------------------------------------------------------\n",
            "--------------------------------------------------------------\n",
            "\n",
            "--- 📝 Resultado do Gerador de Avaliações (Avaliações) ---\n",
            "\n"
          ]
        },
        {
          "output_type": "display_data",
          "data": {
            "text/plain": [
              "<IPython.core.display.Markdown object>"
            ],
            "text/markdown": "> ## Sugestões de Instrumentos de Avaliação para Matemática (1ª Série)"
          },
          "metadata": {}
        },
        {
          "output_type": "display_data",
          "data": {
            "text/plain": [
              "<IPython.core.display.Markdown object>"
            ],
            "text/markdown": ""
          },
          "metadata": {}
        },
        {
          "output_type": "display_data",
          "data": {
            "text/plain": [
              "<IPython.core.display.Markdown object>"
            ],
            "text/markdown": "> Considerando o tema Matemática na 1ª Série, sugiro os seguintes instrumentos de avaliação, divididos nas categorias Formativa e Somativa, e incluindo avaliações escritas com problemas contextualizados:"
          },
          "metadata": {}
        },
        {
          "output_type": "display_data",
          "data": {
            "text/plain": [
              "<IPython.core.display.Markdown object>"
            ],
            "text/markdown": ""
          },
          "metadata": {}
        },
        {
          "output_type": "display_data",
          "data": {
            "text/plain": [
              "<IPython.core.display.Markdown object>"
            ],
            "text/markdown": "> **I. Avaliação Formativa:**"
          },
          "metadata": {}
        },
        {
          "output_type": "display_data",
          "data": {
            "text/plain": [
              "<IPython.core.display.Markdown object>"
            ],
            "text/markdown": ""
          },
          "metadata": {}
        },
        {
          "output_type": "display_data",
          "data": {
            "text/plain": [
              "<IPython.core.display.Markdown object>"
            ],
            "text/markdown": "> A avaliação formativa tem como objetivo acompanhar o aprendizado do aluno ao longo do processo, identificar dificuldades e ajustar as estratégias de ensino."
          },
          "metadata": {}
        },
        {
          "output_type": "display_data",
          "data": {
            "text/plain": [
              "<IPython.core.display.Markdown object>"
            ],
            "text/markdown": ""
          },
          "metadata": {}
        },
        {
          "output_type": "display_data",
          "data": {
            "text/plain": [
              "<IPython.core.display.Markdown object>"
            ],
            "text/markdown": "> **A. Autoavaliação:**"
          },
          "metadata": {}
        },
        {
          "output_type": "display_data",
          "data": {
            "text/plain": [
              "<IPython.core.display.Markdown object>"
            ],
            "text/markdown": ""
          },
          "metadata": {}
        },
        {
          "output_type": "display_data",
          "data": {
            "text/plain": [
              "<IPython.core.display.Markdown object>"
            ],
            "text/markdown": "> *   **Roda de Autoavaliação:**"
          },
          "metadata": {}
        },
        {
          "output_type": "display_data",
          "data": {
            "text/plain": [
              "<IPython.core.display.Markdown object>"
            ],
            "text/markdown": ">     *   **Como aplicar:** Crie uma roda com diferentes aspectos da aprendizagem (ex: \"Compreendo os números de 0 a 10\", \"Consigo resolver problemas simples\", \"Participo das atividades em grupo\", \"Tenho facilidade em usar material manipulativo\"). Os alunos marcam, em cada \"raio\" da roda, o quão satisfeitos estão com seu desempenho naquele aspecto."
          },
          "metadata": {}
        },
        {
          "output_type": "display_data",
          "data": {
            "text/plain": [
              "<IPython.core.display.Markdown object>"
            ],
            "text/markdown": ">     *   **Objetivo:** Promover a reflexão do aluno sobre seu próprio aprendizado e identificar áreas que precisam de mais atenção."
          },
          "metadata": {}
        },
        {
          "output_type": "display_data",
          "data": {
            "text/plain": [
              "<IPython.core.display.Markdown object>"
            ],
            "text/markdown": "> *   **Semáforo da Aprendizagem:**"
          },
          "metadata": {}
        },
        {
          "output_type": "display_data",
          "data": {
            "text/plain": [
              "<IPython.core.display.Markdown object>"
            ],
            "text/markdown": ">     *   **Como aplicar:** Ao final de uma atividade ou aula, os alunos indicam seu nível de compreensão utilizando as cores de um semáforo:"
          },
          "metadata": {}
        },
        {
          "output_type": "display_data",
          "data": {
            "text/plain": [
              "<IPython.core.display.Markdown object>"
            ],
            "text/markdown": ">         *   **Verde:** Entendi tudo!"
          },
          "metadata": {}
        },
        {
          "output_type": "display_data",
          "data": {
            "text/plain": [
              "<IPython.core.display.Markdown object>"
            ],
            "text/markdown": ">         *   **Amarelo:** Entendi mais ou menos, tenho algumas dúvidas."
          },
          "metadata": {}
        },
        {
          "output_type": "display_data",
          "data": {
            "text/plain": [
              "<IPython.core.display.Markdown object>"
            ],
            "text/markdown": ">         *   **Vermelho:** Não entendi, preciso de ajuda."
          },
          "metadata": {}
        },
        {
          "output_type": "display_data",
          "data": {
            "text/plain": [
              "<IPython.core.display.Markdown object>"
            ],
            "text/markdown": ">     *   **Objetivo:** Fornecer um feedback rápido ao professor sobre o nível de compreensão da turma e identificar alunos que precisam de apoio individualizado."
          },
          "metadata": {}
        },
        {
          "output_type": "display_data",
          "data": {
            "text/plain": [
              "<IPython.core.display.Markdown object>"
            ],
            "text/markdown": "> *   **Diário de Bordo:**"
          },
          "metadata": {}
        },
        {
          "output_type": "display_data",
          "data": {
            "text/plain": [
              "<IPython.core.display.Markdown object>"
            ],
            "text/markdown": ">     *   **Como aplicar:** Os alunos registram, em um caderno ou folha, suas impressões sobre as aulas, as atividades que mais gostaram, as dificuldades que encontraram e o que aprenderam."
          },
          "metadata": {}
        },
        {
          "output_type": "display_data",
          "data": {
            "text/plain": [
              "<IPython.core.display.Markdown object>"
            ],
            "text/markdown": ">     *   **Objetivo:** Desenvolver a capacidade de reflexão e autoanálise dos alunos, além de fornecer informações valiosas ao professor sobre o processo de aprendizagem."
          },
          "metadata": {}
        },
        {
          "output_type": "display_data",
          "data": {
            "text/plain": [
              "<IPython.core.display.Markdown object>"
            ],
            "text/markdown": ""
          },
          "metadata": {}
        },
        {
          "output_type": "display_data",
          "data": {
            "text/plain": [
              "<IPython.core.display.Markdown object>"
            ],
            "text/markdown": "> **B. Observação:**"
          },
          "metadata": {}
        },
        {
          "output_type": "display_data",
          "data": {
            "text/plain": [
              "<IPython.core.display.Markdown object>"
            ],
            "text/markdown": ""
          },
          "metadata": {}
        },
        {
          "output_type": "display_data",
          "data": {
            "text/plain": [
              "<IPython.core.display.Markdown object>"
            ],
            "text/markdown": "> *   **Registro Anecdótico:**"
          },
          "metadata": {}
        },
        {
          "output_type": "display_data",
          "data": {
            "text/plain": [
              "<IPython.core.display.Markdown object>"
            ],
            "text/markdown": ">     *   **Como aplicar:** O professor registra, de forma objetiva e descritiva, comportamentos e atitudes relevantes dos alunos durante as aulas (ex: \"João demonstrou dificuldade em contar objetos\", \"Maria ajudou um colega a resolver um problema\")."
          },
          "metadata": {}
        },
        {
          "output_type": "display_data",
          "data": {
            "text/plain": [
              "<IPython.core.display.Markdown object>"
            ],
            "text/markdown": ">     *   **Objetivo:** Coletar informações sobre o desempenho e o desenvolvimento dos alunos em diferentes situações, complementando os dados obtidos por outros instrumentos de avaliação."
          },
          "metadata": {}
        },
        {
          "output_type": "display_data",
          "data": {
            "text/plain": [
              "<IPython.core.display.Markdown object>"
            ],
            "text/markdown": "> *   **Listas de Verificação (Checklists):**"
          },
          "metadata": {}
        },
        {
          "output_type": "display_data",
          "data": {
            "text/plain": [
              "<IPython.core.display.Markdown object>"
            ],
            "text/markdown": ">     *   **Como aplicar:** Crie listas com os objetivos de aprendizagem esperados para cada tema e marque se o aluno demonstra ou não ter atingido cada objetivo (ex: \"Reconhece os números de 0 a 20\", \"Compara quantidades\", \"Identifica formas geométricas\")."
          },
          "metadata": {}
        },
        {
          "output_type": "display_data",
          "data": {
            "text/plain": [
              "<IPython.core.display.Markdown object>"
            ],
            "text/markdown": ">     *   **Objetivo:** Avaliar o progresso dos alunos em relação aos objetivos de aprendizagem de forma sistemática e organizada."
          },
          "metadata": {}
        },
        {
          "output_type": "display_data",
          "data": {
            "text/plain": [
              "<IPython.core.display.Markdown object>"
            ],
            "text/markdown": "> *   **Roda de Conversa:**"
          },
          "metadata": {}
        },
        {
          "output_type": "display_data",
          "data": {
            "text/plain": [
              "<IPython.core.display.Markdown object>"
            ],
            "text/markdown": ">     *   **Como aplicar:** Promova discussões em grupo sobre os temas abordados, incentivando os alunos a compartilhar suas ideias, dúvidas e estratégias de resolução de problemas."
          },
          "metadata": {}
        },
        {
          "output_type": "display_data",
          "data": {
            "text/plain": [
              "<IPython.core.display.Markdown object>"
            ],
            "text/markdown": ">     *   **Objetivo:** Avaliar a compreensão dos alunos sobre os conceitos matemáticos, suas habilidades de comunicação e argumentação, e sua capacidade de trabalhar em equipe."
          },
          "metadata": {}
        },
        {
          "output_type": "display_data",
          "data": {
            "text/plain": [
              "<IPython.core.display.Markdown object>"
            ],
            "text/markdown": ""
          },
          "metadata": {}
        },
        {
          "output_type": "display_data",
          "data": {
            "text/plain": [
              "<IPython.core.display.Markdown object>"
            ],
            "text/markdown": "> **II. Avaliação Somativa:**"
          },
          "metadata": {}
        },
        {
          "output_type": "display_data",
          "data": {
            "text/plain": [
              "<IPython.core.display.Markdown object>"
            ],
            "text/markdown": ""
          },
          "metadata": {}
        },
        {
          "output_type": "display_data",
          "data": {
            "text/plain": [
              "<IPython.core.display.Markdown object>"
            ],
            "text/markdown": "> A avaliação somativa tem como objetivo verificar o aprendizado do aluno ao final de um período (unidade, bimestre, semestre) e atribuir uma nota ou conceito."
          },
          "metadata": {}
        },
        {
          "output_type": "display_data",
          "data": {
            "text/plain": [
              "<IPython.core.display.Markdown object>"
            ],
            "text/markdown": ""
          },
          "metadata": {}
        },
        {
          "output_type": "display_data",
          "data": {
            "text/plain": [
              "<IPython.core.display.Markdown object>"
            ],
            "text/markdown": "> *   **Provas Escritas:**"
          },
          "metadata": {}
        },
        {
          "output_type": "display_data",
          "data": {
            "text/plain": [
              "<IPython.core.display.Markdown object>"
            ],
            "text/markdown": ">     *   **Características:**"
          },
          "metadata": {}
        },
        {
          "output_type": "display_data",
          "data": {
            "text/plain": [
              "<IPython.core.display.Markdown object>"
            ],
            "text/markdown": ">         *   **Problemas Contextualizados:** Apresente situações do cotidiano dos alunos para que eles apliquem os conhecimentos matemáticos na resolução (ex: \"Em uma cesta há 5 maçãs e 3 bananas. Quantas frutas há na cesta?\", \"Para fazer um bolo, você precisa de 2 ovos. Se você quiser fazer dois bolos, quantos ovos você precisará?\")."
          },
          "metadata": {}
        },
        {
          "output_type": "display_data",
          "data": {
            "text/plain": [
              "<IPython.core.display.Markdown object>"
            ],
            "text/markdown": ">         *   **Diversidade de Questões:** Inclua questões de múltipla escolha, verdadeiro ou falso, completar, associar e, principalmente, questões abertas que exijam a resolução de problemas e a justificativa das respostas."
          },
          "metadata": {}
        },
        {
          "output_type": "display_data",
          "data": {
            "text/plain": [
              "<IPython.core.display.Markdown object>"
            ],
            "text/markdown": ">         *   **Níveis de Dificuldade:** Varie o nível de dificuldade das questões para avaliar diferentes habilidades e níveis de compreensão dos alunos."
          },
          "metadata": {}
        },
        {
          "output_type": "display_data",
          "data": {
            "text/plain": [
              "<IPython.core.display.Markdown object>"
            ],
            "text/markdown": ">     *   **Exemplos de Problemas Contextualizados:**"
          },
          "metadata": {}
        },
        {
          "output_type": "display_data",
          "data": {
            "text/plain": [
              "<IPython.core.display.Markdown object>"
            ],
            "text/markdown": ">         *   \"Aline tem 8 brinquedos e seu irmão tem 5. Quantos brinquedos Aline tem a mais que seu irmão?\""
          },
          "metadata": {}
        },
        {
          "output_type": "display_data",
          "data": {
            "text/plain": [
              "<IPython.core.display.Markdown object>"
            ],
            "text/markdown": ">         *   \"Na sala de aula, há 12 cadeiras e 10 alunos. Quantas cadeiras estão sobrando?\""
          },
          "metadata": {}
        },
        {
          "output_type": "display_data",
          "data": {
            "text/plain": [
              "<IPython.core.display.Markdown object>"
            ],
            "text/markdown": ">         *   \"Um pacote de biscoitos custa R$3,00. Se você comprar dois pacotes, quanto você vai gastar?\""
          },
          "metadata": {}
        },
        {
          "output_type": "display_data",
          "data": {
            "text/plain": [
              "<IPython.core.display.Markdown object>"
            ],
            "text/markdown": "> *   **Testes:**"
          },
          "metadata": {}
        },
        {
          "output_type": "display_data",
          "data": {
            "text/plain": [
              "<IPython.core.display.Markdown object>"
            ],
            "text/markdown": ">     *   **Características:** Semelhantes às provas, mas geralmente mais curtos e focados em um tema específico."
          },
          "metadata": {}
        },
        {
          "output_type": "display_data",
          "data": {
            "text/plain": [
              "<IPython.core.display.Markdown object>"
            ],
            "text/markdown": ">     *   **Objetivo:** Avaliar a compreensão dos alunos sobre um conceito ou habilidade específica."
          },
          "metadata": {}
        },
        {
          "output_type": "display_data",
          "data": {
            "text/plain": [
              "<IPython.core.display.Markdown object>"
            ],
            "text/markdown": "> *   **Trabalhos:**"
          },
          "metadata": {}
        },
        {
          "output_type": "display_data",
          "data": {
            "text/plain": [
              "<IPython.core.display.Markdown object>"
            ],
            "text/markdown": ">     *   **Projetos:** Proponha projetos que envolvam a aplicação dos conhecimentos matemáticos em situações reais (ex: \"Construir uma maquete de um bairro, utilizando diferentes formas geométricas\", \"Organizar uma pesquisa sobre os preços de produtos em diferentes mercados e comparar os resultados\")."
          },
          "metadata": {}
        },
        {
          "output_type": "display_data",
          "data": {
            "text/plain": [
              "<IPython.core.display.Markdown object>"
            ],
            "text/markdown": ">     *   **Apresentações:** Peça aos alunos para apresentar um tema matemático para a turma, utilizando recursos visuais e explicando os conceitos de forma clara e concisa."
          },
          "metadata": {}
        },
        {
          "output_type": "display_data",
          "data": {
            "text/plain": [
              "<IPython.core.display.Markdown object>"
            ],
            "text/markdown": ">     *   **Resolução de Problemas em Grupo:** Divida a turma em grupos e proponha a resolução de problemas complexos, incentivando a colaboração e a troca de ideias."
          },
          "metadata": {}
        },
        {
          "output_type": "display_data",
          "data": {
            "text/plain": [
              "<IPython.core.display.Markdown object>"
            ],
            "text/markdown": ">     *   **Jogos e Brincadeiras:** Utilize jogos e brincadeiras para avaliar o aprendizado dos alunos de forma lúdica e divertida (ex: \"Jogo da memória com números e quantidades\", \"Jogo de tabuleiro com operações matemáticas\")."
          },
          "metadata": {}
        },
        {
          "output_type": "display_data",
          "data": {
            "text/plain": [
              "<IPython.core.display.Markdown object>"
            ],
            "text/markdown": "> *   **Avaliação Oral:**"
          },
          "metadata": {}
        },
        {
          "output_type": "display_data",
          "data": {
            "text/plain": [
              "<IPython.core.display.Markdown object>"
            ],
            "text/markdown": ">     *   **Como aplicar:** Realize entrevistas individuais ou em grupo para verificar a compreensão dos alunos sobre os conceitos matemáticos e suas habilidades de comunicação e argumentação."
          },
          "metadata": {}
        },
        {
          "output_type": "display_data",
          "data": {
            "text/plain": [
              "<IPython.core.display.Markdown object>"
            ],
            "text/markdown": ">     *   **Objetivo:** Complementar as informações obtidas por outros instrumentos de avaliação e fornecer um feedback individualizado aos alunos."
          },
          "metadata": {}
        },
        {
          "output_type": "display_data",
          "data": {
            "text/plain": [
              "<IPython.core.display.Markdown object>"
            ],
            "text/markdown": ""
          },
          "metadata": {}
        },
        {
          "output_type": "display_data",
          "data": {
            "text/plain": [
              "<IPython.core.display.Markdown object>"
            ],
            "text/markdown": "> **Recomendações Adicionais:**"
          },
          "metadata": {}
        },
        {
          "output_type": "display_data",
          "data": {
            "text/plain": [
              "<IPython.core.display.Markdown object>"
            ],
            "text/markdown": ""
          },
          "metadata": {}
        },
        {
          "output_type": "display_data",
          "data": {
            "text/plain": [
              "<IPython.core.display.Markdown object>"
            ],
            "text/markdown": "> *   **Critérios de Avaliação:** Defina critérios de avaliação claros e objetivos para cada instrumento, informando aos alunos o que será avaliado e como será atribuída a nota ou conceito."
          },
          "metadata": {}
        },
        {
          "output_type": "display_data",
          "data": {
            "text/plain": [
              "<IPython.core.display.Markdown object>"
            ],
            "text/markdown": "> *   **Feedback:** Forneça feedback regular e construtivo aos alunos sobre seu desempenho, destacando seus pontos fortes e áreas que precisam de melhoria."
          },
          "metadata": {}
        },
        {
          "output_type": "display_data",
          "data": {
            "text/plain": [
              "<IPython.core.display.Markdown object>"
            ],
            "text/markdown": "> *   **Diversificação:** Utilize uma variedade de instrumentos de avaliação para obter uma visão completa do aprendizado dos alunos e atender às diferentes necessidades e estilos de aprendizagem."
          },
          "metadata": {}
        },
        {
          "output_type": "display_data",
          "data": {
            "text/plain": [
              "<IPython.core.display.Markdown object>"
            ],
            "text/markdown": "> *   **Alinhamento:** Alinhe os instrumentos de avaliação aos objetivos de aprendizagem e ao currículo da disciplina."
          },
          "metadata": {}
        },
        {
          "output_type": "display_data",
          "data": {
            "text/plain": [
              "<IPython.core.display.Markdown object>"
            ],
            "text/markdown": "> *   **Adaptação:** Adapte os instrumentos de avaliação às necessidades específicas dos alunos, considerando suas dificuldades e habilidades individuais."
          },
          "metadata": {}
        },
        {
          "output_type": "display_data",
          "data": {
            "text/plain": [
              "<IPython.core.display.Markdown object>"
            ],
            "text/markdown": ""
          },
          "metadata": {}
        },
        {
          "output_type": "display_data",
          "data": {
            "text/plain": [
              "<IPython.core.display.Markdown object>"
            ],
            "text/markdown": "> Lembre-se que a avaliação deve ser um processo contínuo e integrado ao ensino, com o objetivo de promover o aprendizado e o desenvolvimento dos alunos."
          },
          "metadata": {}
        },
        {
          "output_type": "stream",
          "name": "stdout",
          "text": [
            "--------------------------------------------------------------\n",
            "\n",
            "--- 📝 Resultado do Gerador de Cronograma (Cronograma) ---\n",
            "\n"
          ]
        },
        {
          "output_type": "display_data",
          "data": {
            "text/plain": [
              "<IPython.core.display.Markdown object>"
            ],
            "text/markdown": "> ## Cronograma Semanal de Matemática - 1º Ano"
          },
          "metadata": {}
        },
        {
          "output_type": "display_data",
          "data": {
            "text/plain": [
              "<IPython.core.display.Markdown object>"
            ],
            "text/markdown": ""
          },
          "metadata": {}
        },
        {
          "output_type": "display_data",
          "data": {
            "text/plain": [
              "<IPython.core.display.Markdown object>"
            ],
            "text/markdown": "> **Tema:** Números, Contagem, Formas Geométricas, Tamanho e Comparação."
          },
          "metadata": {}
        },
        {
          "output_type": "display_data",
          "data": {
            "text/plain": [
              "<IPython.core.display.Markdown object>"
            ],
            "text/markdown": ""
          },
          "metadata": {}
        },
        {
          "output_type": "display_data",
          "data": {
            "text/plain": [
              "<IPython.core.display.Markdown object>"
            ],
            "text/markdown": "> **Duração:** 1 Semana"
          },
          "metadata": {}
        },
        {
          "output_type": "display_data",
          "data": {
            "text/plain": [
              "<IPython.core.display.Markdown object>"
            ],
            "text/markdown": ""
          },
          "metadata": {}
        },
        {
          "output_type": "display_data",
          "data": {
            "text/plain": [
              "<IPython.core.display.Markdown object>"
            ],
            "text/markdown": "> **Aulas:** 4 aulas de 50 minutos cada"
          },
          "metadata": {}
        },
        {
          "output_type": "display_data",
          "data": {
            "text/plain": [
              "<IPython.core.display.Markdown object>"
            ],
            "text/markdown": ""
          },
          "metadata": {}
        },
        {
          "output_type": "display_data",
          "data": {
            "text/plain": [
              "<IPython.core.display.Markdown object>"
            ],
            "text/markdown": "> **Semana:** [Data de Início] - [Data de Término] (Ex: 06/05/2024 - 10/05/2024)"
          },
          "metadata": {}
        },
        {
          "output_type": "display_data",
          "data": {
            "text/plain": [
              "<IPython.core.display.Markdown object>"
            ],
            "text/markdown": ""
          },
          "metadata": {}
        },
        {
          "output_type": "display_data",
          "data": {
            "text/plain": [
              "<IPython.core.display.Markdown object>"
            ],
            "text/markdown": "> ---"
          },
          "metadata": {}
        },
        {
          "output_type": "display_data",
          "data": {
            "text/plain": [
              "<IPython.core.display.Markdown object>"
            ],
            "text/markdown": ""
          },
          "metadata": {}
        },
        {
          "output_type": "display_data",
          "data": {
            "text/plain": [
              "<IPython.core.display.Markdown object>"
            ],
            "text/markdown": "> **Segunda-feira**"
          },
          "metadata": {}
        },
        {
          "output_type": "display_data",
          "data": {
            "text/plain": [
              "<IPython.core.display.Markdown object>"
            ],
            "text/markdown": ""
          },
          "metadata": {}
        },
        {
          "output_type": "display_data",
          "data": {
            "text/plain": [
              "<IPython.core.display.Markdown object>"
            ],
            "text/markdown": "> *   **Aula 1 (50 minutos):**"
          },
          "metadata": {}
        },
        {
          "output_type": "display_data",
          "data": {
            "text/plain": [
              "<IPython.core.display.Markdown object>"
            ],
            "text/markdown": ">     *   **Atividade:** Caça ao Tesouro dos Números"
          },
          "metadata": {}
        },
        {
          "output_type": "display_data",
          "data": {
            "text/plain": [
              "<IPython.core.display.Markdown object>"
            ],
            "text/markdown": ">     *   **Objetivo:** Reconhecer e identificar números, praticar a contagem."
          },
          "metadata": {}
        },
        {
          "output_type": "display_data",
          "data": {
            "text/plain": [
              "<IPython.core.display.Markdown object>"
            ],
            "text/markdown": ">     *   **Materiais:** Cartões com números, objetos diversos, pistas escritas/desenhadas."
          },
          "metadata": {}
        },
        {
          "output_type": "display_data",
          "data": {
            "text/plain": [
              "<IPython.core.display.Markdown object>"
            ],
            "text/markdown": ">     *   **Avaliação Formativa:** Observação da participação e identificação dos números durante a atividade."
          },
          "metadata": {}
        },
        {
          "output_type": "display_data",
          "data": {
            "text/plain": [
              "<IPython.core.display.Markdown object>"
            ],
            "text/markdown": ">     *   **Observação:** Adapte os números ao nível da turma."
          },
          "metadata": {}
        },
        {
          "output_type": "display_data",
          "data": {
            "text/plain": [
              "<IPython.core.display.Markdown object>"
            ],
            "text/markdown": ""
          },
          "metadata": {}
        },
        {
          "output_type": "display_data",
          "data": {
            "text/plain": [
              "<IPython.core.display.Markdown object>"
            ],
            "text/markdown": "> **Terça-feira**"
          },
          "metadata": {}
        },
        {
          "output_type": "display_data",
          "data": {
            "text/plain": [
              "<IPython.core.display.Markdown object>"
            ],
            "text/markdown": ""
          },
          "metadata": {}
        },
        {
          "output_type": "display_data",
          "data": {
            "text/plain": [
              "<IPython.core.display.Markdown object>"
            ],
            "text/markdown": "> *   **Aula 2 (50 minutos):**"
          },
          "metadata": {}
        },
        {
          "output_type": "display_data",
          "data": {
            "text/plain": [
              "<IPython.core.display.Markdown object>"
            ],
            "text/markdown": ">     *   **Atividade:** Construindo com Formas Geométricas"
          },
          "metadata": {}
        },
        {
          "output_type": "display_data",
          "data": {
            "text/plain": [
              "<IPython.core.display.Markdown object>"
            ],
            "text/markdown": ">     *   **Objetivo:** Reconhecer e nomear formas geométricas, desenvolver habilidades de construção e criatividade."
          },
          "metadata": {}
        },
        {
          "output_type": "display_data",
          "data": {
            "text/plain": [
              "<IPython.core.display.Markdown object>"
            ],
            "text/markdown": ">     *   **Materiais:** Formas geométricas de papel/EVA, cola, papel/cartolina."
          },
          "metadata": {}
        },
        {
          "output_type": "display_data",
          "data": {
            "text/plain": [
              "<IPython.core.display.Markdown object>"
            ],
            "text/markdown": ">     *   **Avaliação Formativa:** Observação da identificação das formas e da criatividade na construção."
          },
          "metadata": {}
        },
        {
          "output_type": "display_data",
          "data": {
            "text/plain": [
              "<IPython.core.display.Markdown object>"
            ],
            "text/markdown": ">     *   **Observação:** Comece revisando os nomes e características das formas geométricas."
          },
          "metadata": {}
        },
        {
          "output_type": "display_data",
          "data": {
            "text/plain": [
              "<IPython.core.display.Markdown object>"
            ],
            "text/markdown": ""
          },
          "metadata": {}
        },
        {
          "output_type": "display_data",
          "data": {
            "text/plain": [
              "<IPython.core.display.Markdown object>"
            ],
            "text/markdown": "> **Quarta-feira**"
          },
          "metadata": {}
        },
        {
          "output_type": "display_data",
          "data": {
            "text/plain": [
              "<IPython.core.display.Markdown object>"
            ],
            "text/markdown": ""
          },
          "metadata": {}
        },
        {
          "output_type": "display_data",
          "data": {
            "text/plain": [
              "<IPython.core.display.Markdown object>"
            ],
            "text/markdown": "> *   **Aula 3 (50 minutos):**"
          },
          "metadata": {}
        },
        {
          "output_type": "display_data",
          "data": {
            "text/plain": [
              "<IPython.core.display.Markdown object>"
            ],
            "text/markdown": ">     *   **Atividade:** Corrida dos Números"
          },
          "metadata": {}
        },
        {
          "output_type": "display_data",
          "data": {
            "text/plain": [
              "<IPython.core.display.Markdown object>"
            ],
            "text/markdown": ">     *   **Objetivo:** Praticar a sequência numérica, desenvolver agilidade e trabalho em equipe."
          },
          "metadata": {}
        },
        {
          "output_type": "display_data",
          "data": {
            "text/plain": [
              "<IPython.core.display.Markdown object>"
            ],
            "text/markdown": ">     *   **Materiais:** Cartões com números, fita adesiva."
          },
          "metadata": {}
        },
        {
          "output_type": "display_data",
          "data": {
            "text/plain": [
              "<IPython.core.display.Markdown object>"
            ],
            "text/markdown": ">     *   **Avaliação Formativa:** Observação da participação na equipe e da sequência numérica correta."
          },
          "metadata": {}
        },
        {
          "output_type": "display_data",
          "data": {
            "text/plain": [
              "<IPython.core.display.Markdown object>"
            ],
            "text/markdown": ">     *   **Observação:** Ajuste a quantidade de números de acordo com o nível da turma."
          },
          "metadata": {}
        },
        {
          "output_type": "display_data",
          "data": {
            "text/plain": [
              "<IPython.core.display.Markdown object>"
            ],
            "text/markdown": ""
          },
          "metadata": {}
        },
        {
          "output_type": "display_data",
          "data": {
            "text/plain": [
              "<IPython.core.display.Markdown object>"
            ],
            "text/markdown": "> **Quinta-feira**"
          },
          "metadata": {}
        },
        {
          "output_type": "display_data",
          "data": {
            "text/plain": [
              "<IPython.core.display.Markdown object>"
            ],
            "text/markdown": ""
          },
          "metadata": {}
        },
        {
          "output_type": "display_data",
          "data": {
            "text/plain": [
              "<IPython.core.display.Markdown object>"
            ],
            "text/markdown": "> *   **Aula 4 (50 minutos):**"
          },
          "metadata": {}
        },
        {
          "output_type": "display_data",
          "data": {
            "text/plain": [
              "<IPython.core.display.Markdown object>"
            ],
            "text/markdown": ">     *   **Atividade:** Ordenando por Tamanho"
          },
          "metadata": {}
        },
        {
          "output_type": "display_data",
          "data": {
            "text/plain": [
              "<IPython.core.display.Markdown object>"
            ],
            "text/markdown": ">     *   **Objetivo:** Comparar tamanhos, desenvolver o vocabulário relacionado a tamanho."
          },
          "metadata": {}
        },
        {
          "output_type": "display_data",
          "data": {
            "text/plain": [
              "<IPython.core.display.Markdown object>"
            ],
            "text/markdown": ">     *   **Materiais:** Objetos diversos em diferentes tamanhos ou figuras impressas."
          },
          "metadata": {}
        },
        {
          "output_type": "display_data",
          "data": {
            "text/plain": [
              "<IPython.core.display.Markdown object>"
            ],
            "text/markdown": ">     *   **Avaliação Formativa:** Observação da utilização correta dos termos \"maior\", \"menor\", etc., e da ordenação."
          },
          "metadata": {}
        },
        {
          "output_type": "display_data",
          "data": {
            "text/plain": [
              "<IPython.core.display.Markdown object>"
            ],
            "text/markdown": ">         *   **Autoavaliação:** Semáforo da aprendizagem sobre o tema."
          },
          "metadata": {}
        },
        {
          "output_type": "display_data",
          "data": {
            "text/plain": [
              "<IPython.core.display.Markdown object>"
            ],
            "text/markdown": ">     *   **Observação:** Incentive os alunos a verbalizarem o raciocínio durante a ordenação."
          },
          "metadata": {}
        },
        {
          "output_type": "display_data",
          "data": {
            "text/plain": [
              "<IPython.core.display.Markdown object>"
            ],
            "text/markdown": ""
          },
          "metadata": {}
        },
        {
          "output_type": "display_data",
          "data": {
            "text/plain": [
              "<IPython.core.display.Markdown object>"
            ],
            "text/markdown": "> **Sexta-feira**"
          },
          "metadata": {}
        },
        {
          "output_type": "display_data",
          "data": {
            "text/plain": [
              "<IPython.core.display.Markdown object>"
            ],
            "text/markdown": ""
          },
          "metadata": {}
        },
        {
          "output_type": "display_data",
          "data": {
            "text/plain": [
              "<IPython.core.display.Markdown object>"
            ],
            "text/markdown": "> *   **Aula 5 (50 minutos):**"
          },
          "metadata": {}
        },
        {
          "output_type": "display_data",
          "data": {
            "text/plain": [
              "<IPython.core.display.Markdown object>"
            ],
            "text/markdown": ">     *   **Atividade:** Jogo da Memória de Pares Numéricos."
          },
          "metadata": {}
        },
        {
          "output_type": "display_data",
          "data": {
            "text/plain": [
              "<IPython.core.display.Markdown object>"
            ],
            "text/markdown": ">     *   **Objetivo:** Associar número à quantidade, melhorar a memória e concentração."
          },
          "metadata": {}
        },
        {
          "output_type": "display_data",
          "data": {
            "text/plain": [
              "<IPython.core.display.Markdown object>"
            ],
            "text/markdown": ">     *   **Materiais:** Cartões com números e cartões com desenhos que representem a quantidade correspondente."
          },
          "metadata": {}
        },
        {
          "output_type": "display_data",
          "data": {
            "text/plain": [
              "<IPython.core.display.Markdown object>"
            ],
            "text/markdown": ">     *   **Avaliação Formativa:** Observação da associação correta entre número e quantidade, e da participação no jogo."
          },
          "metadata": {}
        },
        {
          "output_type": "display_data",
          "data": {
            "text/plain": [
              "<IPython.core.display.Markdown object>"
            ],
            "text/markdown": ">         *   **Roda de Autoavaliação:** Roda com os temas da semana (\"Compreendo os números de 0 a 10\", \"Consigo comparar tamanhos\", etc)"
          },
          "metadata": {}
        },
        {
          "output_type": "display_data",
          "data": {
            "text/plain": [
              "<IPython.core.display.Markdown object>"
            ],
            "text/markdown": ">     *   **Observação:** Adapte o número máximo dos cartões à capacidade da turma."
          },
          "metadata": {}
        },
        {
          "output_type": "display_data",
          "data": {
            "text/plain": [
              "<IPython.core.display.Markdown object>"
            ],
            "text/markdown": ""
          },
          "metadata": {}
        },
        {
          "output_type": "display_data",
          "data": {
            "text/plain": [
              "<IPython.core.display.Markdown object>"
            ],
            "text/markdown": "> ---"
          },
          "metadata": {}
        },
        {
          "output_type": "display_data",
          "data": {
            "text/plain": [
              "<IPython.core.display.Markdown object>"
            ],
            "text/markdown": ""
          },
          "metadata": {}
        },
        {
          "output_type": "display_data",
          "data": {
            "text/plain": [
              "<IPython.core.display.Markdown object>"
            ],
            "text/markdown": "> **Avaliação Somativa (a ser aplicada ao final de um período maior - bimestre/trimestre):**"
          },
          "metadata": {}
        },
        {
          "output_type": "display_data",
          "data": {
            "text/plain": [
              "<IPython.core.display.Markdown object>"
            ],
            "text/markdown": ""
          },
          "metadata": {}
        },
        {
          "output_type": "display_data",
          "data": {
            "text/plain": [
              "<IPython.core.display.Markdown object>"
            ],
            "text/markdown": "> *   **Provas Escritas:**"
          },
          "metadata": {}
        },
        {
          "output_type": "display_data",
          "data": {
            "text/plain": [
              "<IPython.core.display.Markdown object>"
            ],
            "text/markdown": ">     *   Problemas contextualizados envolvendo contagem, comparação de tamanhos, identificação de formas geométricas e resolução de problemas simples (ex: \"Aline tem 8 brinquedos e seu irmão tem 5. Quantos brinquedos Aline tem a mais que seu irmão?\")."
          },
          "metadata": {}
        },
        {
          "output_type": "display_data",
          "data": {
            "text/plain": [
              "<IPython.core.display.Markdown object>"
            ],
            "text/markdown": ">     *   Questões abertas que exigem a justificativa das respostas."
          },
          "metadata": {}
        },
        {
          "output_type": "display_data",
          "data": {
            "text/plain": [
              "<IPython.core.display.Markdown object>"
            ],
            "text/markdown": ""
          },
          "metadata": {}
        },
        {
          "output_type": "display_data",
          "data": {
            "text/plain": [
              "<IPython.core.display.Markdown object>"
            ],
            "text/markdown": "> ---"
          },
          "metadata": {}
        },
        {
          "output_type": "display_data",
          "data": {
            "text/plain": [
              "<IPython.core.display.Markdown object>"
            ],
            "text/markdown": ""
          },
          "metadata": {}
        },
        {
          "output_type": "display_data",
          "data": {
            "text/plain": [
              "<IPython.core.display.Markdown object>"
            ],
            "text/markdown": "> **Observações Gerais:**"
          },
          "metadata": {}
        },
        {
          "output_type": "display_data",
          "data": {
            "text/plain": [
              "<IPython.core.display.Markdown object>"
            ],
            "text/markdown": ""
          },
          "metadata": {}
        },
        {
          "output_type": "display_data",
          "data": {
            "text/plain": [
              "<IPython.core.display.Markdown object>"
            ],
            "text/markdown": "> *   Adapte as atividades e o tempo de acordo com as necessidades da turma."
          },
          "metadata": {}
        },
        {
          "output_type": "display_data",
          "data": {
            "text/plain": [
              "<IPython.core.display.Markdown object>"
            ],
            "text/markdown": "> *   Utilize recursos visuais coloridos e atraentes."
          },
          "metadata": {}
        },
        {
          "output_type": "display_data",
          "data": {
            "text/plain": [
              "<IPython.core.display.Markdown object>"
            ],
            "text/markdown": "> *   Incentive a participação de todos os alunos."
          },
          "metadata": {}
        },
        {
          "output_type": "display_data",
          "data": {
            "text/plain": [
              "<IPython.core.display.Markdown object>"
            ],
            "text/markdown": "> *   Registre as observações em um diário de bordo para acompanhar o progresso individual."
          },
          "metadata": {}
        },
        {
          "output_type": "display_data",
          "data": {
            "text/plain": [
              "<IPython.core.display.Markdown object>"
            ],
            "text/markdown": "> *   Ao final da semana, revise os principais conceitos abordados."
          },
          "metadata": {}
        },
        {
          "output_type": "display_data",
          "data": {
            "text/plain": [
              "<IPython.core.display.Markdown object>"
            ],
            "text/markdown": "> *   A avaliação formativa é contínua e deve ser utilizada para ajustar as estratégias de ensino."
          },
          "metadata": {}
        },
        {
          "output_type": "display_data",
          "data": {
            "text/plain": [
              "<IPython.core.display.Markdown object>"
            ],
            "text/markdown": ""
          },
          "metadata": {}
        },
        {
          "output_type": "display_data",
          "data": {
            "text/plain": [
              "<IPython.core.display.Markdown object>"
            ],
            "text/markdown": "> Este cronograma oferece uma estrutura flexível que pode ser adaptada de acordo com as necessidades e o ritmo de aprendizado da turma. Lembre-se que a ludicidade e a participação ativa dos alunos são fundamentais para o sucesso no aprendizado da matemática no 1º ano."
          },
          "metadata": {}
        },
        {
          "output_type": "display_data",
          "data": {
            "text/plain": [
              "<IPython.core.display.Markdown object>"
            ],
            "text/markdown": ""
          },
          "metadata": {}
        },
        {
          "output_type": "stream",
          "name": "stdout",
          "text": [
            "--------------------------------------------------------------\n"
          ]
        }
      ]
    }
  ]
}